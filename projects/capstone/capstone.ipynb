{
 "cells": [
  {
   "cell_type": "code",
   "execution_count": 456,
   "metadata": {},
   "outputs": [],
   "source": [
    "import pandas as pd\n",
    "import numpy as np\n",
    "\n",
    "from sklearn.cross_validation import ShuffleSplit\n",
    "from sklearn.svm import SVC\n",
    "from sklearn.ensemble import AdaBoostClassifier\n",
    "from sklearn.tree import DecisionTreeClassifier\n",
    "from sklearn.ensemble import RandomForestClassifier\n",
    "from sklearn import metrics\n",
    "from sklearn.model_selection import KFold\n",
    "from sklearn.model_selection import StratifiedKFold\n",
    "from sklearn.model_selection import train_test_split\n",
    "from sklearn.model_selection import GridSearchCV\n",
    "from sklearn.preprocessing import MinMaxScaler\n",
    "\n",
    "%matplotlib inline\n",
    "import matplotlib\n",
    "import matplotlib.pyplot as plt\n",
    "import seaborn as sns"
   ]
  },
  {
   "cell_type": "code",
   "execution_count": 457,
   "metadata": {
    "collapsed": true
   },
   "outputs": [],
   "source": [
    "# Read csv file and drop 'id' column and last column due to error in import\n",
    "data = pd.read_csv('data.csv')\n",
    "data.drop('id', axis=1, inplace=True)\n",
    "data.drop(data.columns[-1], axis=1, inplace=True)"
   ]
  },
  {
   "cell_type": "code",
   "execution_count": 458,
   "metadata": {},
   "outputs": [
    {
     "data": {
      "text/html": [
       "<div>\n",
       "<style>\n",
       "    .dataframe thead tr:only-child th {\n",
       "        text-align: right;\n",
       "    }\n",
       "\n",
       "    .dataframe thead th {\n",
       "        text-align: left;\n",
       "    }\n",
       "\n",
       "    .dataframe tbody tr th {\n",
       "        vertical-align: top;\n",
       "    }\n",
       "</style>\n",
       "<table border=\"1\" class=\"dataframe\">\n",
       "  <thead>\n",
       "    <tr style=\"text-align: right;\">\n",
       "      <th></th>\n",
       "      <th>diagnosis</th>\n",
       "      <th>radius_mean</th>\n",
       "      <th>texture_mean</th>\n",
       "      <th>perimeter_mean</th>\n",
       "      <th>area_mean</th>\n",
       "      <th>smoothness_mean</th>\n",
       "      <th>compactness_mean</th>\n",
       "      <th>concavity_mean</th>\n",
       "      <th>concave points_mean</th>\n",
       "      <th>symmetry_mean</th>\n",
       "      <th>fractal_dimension_mean</th>\n",
       "      <th>radius_se</th>\n",
       "      <th>texture_se</th>\n",
       "      <th>perimeter_se</th>\n",
       "      <th>area_se</th>\n",
       "      <th>smoothness_se</th>\n",
       "      <th>compactness_se</th>\n",
       "      <th>concavity_se</th>\n",
       "      <th>concave points_se</th>\n",
       "      <th>symmetry_se</th>\n",
       "      <th>fractal_dimension_se</th>\n",
       "      <th>radius_worst</th>\n",
       "      <th>texture_worst</th>\n",
       "      <th>perimeter_worst</th>\n",
       "      <th>area_worst</th>\n",
       "      <th>smoothness_worst</th>\n",
       "      <th>compactness_worst</th>\n",
       "      <th>concavity_worst</th>\n",
       "      <th>concave points_worst</th>\n",
       "      <th>symmetry_worst</th>\n",
       "      <th>fractal_dimension_worst</th>\n",
       "    </tr>\n",
       "  </thead>\n",
       "  <tbody>\n",
       "    <tr>\n",
       "      <th>0</th>\n",
       "      <td>M</td>\n",
       "      <td>17.99</td>\n",
       "      <td>10.38</td>\n",
       "      <td>122.80</td>\n",
       "      <td>1001.0</td>\n",
       "      <td>0.11840</td>\n",
       "      <td>0.27760</td>\n",
       "      <td>0.3001</td>\n",
       "      <td>0.14710</td>\n",
       "      <td>0.2419</td>\n",
       "      <td>0.07871</td>\n",
       "      <td>1.0950</td>\n",
       "      <td>0.9053</td>\n",
       "      <td>8.589</td>\n",
       "      <td>153.40</td>\n",
       "      <td>0.006399</td>\n",
       "      <td>0.04904</td>\n",
       "      <td>0.05373</td>\n",
       "      <td>0.01587</td>\n",
       "      <td>0.03003</td>\n",
       "      <td>0.006193</td>\n",
       "      <td>25.38</td>\n",
       "      <td>17.33</td>\n",
       "      <td>184.60</td>\n",
       "      <td>2019.0</td>\n",
       "      <td>0.1622</td>\n",
       "      <td>0.6656</td>\n",
       "      <td>0.7119</td>\n",
       "      <td>0.2654</td>\n",
       "      <td>0.4601</td>\n",
       "      <td>0.11890</td>\n",
       "    </tr>\n",
       "    <tr>\n",
       "      <th>1</th>\n",
       "      <td>M</td>\n",
       "      <td>20.57</td>\n",
       "      <td>17.77</td>\n",
       "      <td>132.90</td>\n",
       "      <td>1326.0</td>\n",
       "      <td>0.08474</td>\n",
       "      <td>0.07864</td>\n",
       "      <td>0.0869</td>\n",
       "      <td>0.07017</td>\n",
       "      <td>0.1812</td>\n",
       "      <td>0.05667</td>\n",
       "      <td>0.5435</td>\n",
       "      <td>0.7339</td>\n",
       "      <td>3.398</td>\n",
       "      <td>74.08</td>\n",
       "      <td>0.005225</td>\n",
       "      <td>0.01308</td>\n",
       "      <td>0.01860</td>\n",
       "      <td>0.01340</td>\n",
       "      <td>0.01389</td>\n",
       "      <td>0.003532</td>\n",
       "      <td>24.99</td>\n",
       "      <td>23.41</td>\n",
       "      <td>158.80</td>\n",
       "      <td>1956.0</td>\n",
       "      <td>0.1238</td>\n",
       "      <td>0.1866</td>\n",
       "      <td>0.2416</td>\n",
       "      <td>0.1860</td>\n",
       "      <td>0.2750</td>\n",
       "      <td>0.08902</td>\n",
       "    </tr>\n",
       "    <tr>\n",
       "      <th>2</th>\n",
       "      <td>M</td>\n",
       "      <td>19.69</td>\n",
       "      <td>21.25</td>\n",
       "      <td>130.00</td>\n",
       "      <td>1203.0</td>\n",
       "      <td>0.10960</td>\n",
       "      <td>0.15990</td>\n",
       "      <td>0.1974</td>\n",
       "      <td>0.12790</td>\n",
       "      <td>0.2069</td>\n",
       "      <td>0.05999</td>\n",
       "      <td>0.7456</td>\n",
       "      <td>0.7869</td>\n",
       "      <td>4.585</td>\n",
       "      <td>94.03</td>\n",
       "      <td>0.006150</td>\n",
       "      <td>0.04006</td>\n",
       "      <td>0.03832</td>\n",
       "      <td>0.02058</td>\n",
       "      <td>0.02250</td>\n",
       "      <td>0.004571</td>\n",
       "      <td>23.57</td>\n",
       "      <td>25.53</td>\n",
       "      <td>152.50</td>\n",
       "      <td>1709.0</td>\n",
       "      <td>0.1444</td>\n",
       "      <td>0.4245</td>\n",
       "      <td>0.4504</td>\n",
       "      <td>0.2430</td>\n",
       "      <td>0.3613</td>\n",
       "      <td>0.08758</td>\n",
       "    </tr>\n",
       "    <tr>\n",
       "      <th>3</th>\n",
       "      <td>M</td>\n",
       "      <td>11.42</td>\n",
       "      <td>20.38</td>\n",
       "      <td>77.58</td>\n",
       "      <td>386.1</td>\n",
       "      <td>0.14250</td>\n",
       "      <td>0.28390</td>\n",
       "      <td>0.2414</td>\n",
       "      <td>0.10520</td>\n",
       "      <td>0.2597</td>\n",
       "      <td>0.09744</td>\n",
       "      <td>0.4956</td>\n",
       "      <td>1.1560</td>\n",
       "      <td>3.445</td>\n",
       "      <td>27.23</td>\n",
       "      <td>0.009110</td>\n",
       "      <td>0.07458</td>\n",
       "      <td>0.05661</td>\n",
       "      <td>0.01867</td>\n",
       "      <td>0.05963</td>\n",
       "      <td>0.009208</td>\n",
       "      <td>14.91</td>\n",
       "      <td>26.50</td>\n",
       "      <td>98.87</td>\n",
       "      <td>567.7</td>\n",
       "      <td>0.2098</td>\n",
       "      <td>0.8663</td>\n",
       "      <td>0.6869</td>\n",
       "      <td>0.2575</td>\n",
       "      <td>0.6638</td>\n",
       "      <td>0.17300</td>\n",
       "    </tr>\n",
       "    <tr>\n",
       "      <th>4</th>\n",
       "      <td>M</td>\n",
       "      <td>20.29</td>\n",
       "      <td>14.34</td>\n",
       "      <td>135.10</td>\n",
       "      <td>1297.0</td>\n",
       "      <td>0.10030</td>\n",
       "      <td>0.13280</td>\n",
       "      <td>0.1980</td>\n",
       "      <td>0.10430</td>\n",
       "      <td>0.1809</td>\n",
       "      <td>0.05883</td>\n",
       "      <td>0.7572</td>\n",
       "      <td>0.7813</td>\n",
       "      <td>5.438</td>\n",
       "      <td>94.44</td>\n",
       "      <td>0.011490</td>\n",
       "      <td>0.02461</td>\n",
       "      <td>0.05688</td>\n",
       "      <td>0.01885</td>\n",
       "      <td>0.01756</td>\n",
       "      <td>0.005115</td>\n",
       "      <td>22.54</td>\n",
       "      <td>16.67</td>\n",
       "      <td>152.20</td>\n",
       "      <td>1575.0</td>\n",
       "      <td>0.1374</td>\n",
       "      <td>0.2050</td>\n",
       "      <td>0.4000</td>\n",
       "      <td>0.1625</td>\n",
       "      <td>0.2364</td>\n",
       "      <td>0.07678</td>\n",
       "    </tr>\n",
       "  </tbody>\n",
       "</table>\n",
       "</div>"
      ],
      "text/plain": [
       "  diagnosis  radius_mean  texture_mean  perimeter_mean  area_mean  \\\n",
       "0         M        17.99         10.38          122.80     1001.0   \n",
       "1         M        20.57         17.77          132.90     1326.0   \n",
       "2         M        19.69         21.25          130.00     1203.0   \n",
       "3         M        11.42         20.38           77.58      386.1   \n",
       "4         M        20.29         14.34          135.10     1297.0   \n",
       "\n",
       "   smoothness_mean  compactness_mean  concavity_mean  concave points_mean  \\\n",
       "0          0.11840           0.27760          0.3001              0.14710   \n",
       "1          0.08474           0.07864          0.0869              0.07017   \n",
       "2          0.10960           0.15990          0.1974              0.12790   \n",
       "3          0.14250           0.28390          0.2414              0.10520   \n",
       "4          0.10030           0.13280          0.1980              0.10430   \n",
       "\n",
       "   symmetry_mean  fractal_dimension_mean  radius_se  texture_se  perimeter_se  \\\n",
       "0         0.2419                 0.07871     1.0950      0.9053         8.589   \n",
       "1         0.1812                 0.05667     0.5435      0.7339         3.398   \n",
       "2         0.2069                 0.05999     0.7456      0.7869         4.585   \n",
       "3         0.2597                 0.09744     0.4956      1.1560         3.445   \n",
       "4         0.1809                 0.05883     0.7572      0.7813         5.438   \n",
       "\n",
       "   area_se  smoothness_se  compactness_se  concavity_se  concave points_se  \\\n",
       "0   153.40       0.006399         0.04904       0.05373            0.01587   \n",
       "1    74.08       0.005225         0.01308       0.01860            0.01340   \n",
       "2    94.03       0.006150         0.04006       0.03832            0.02058   \n",
       "3    27.23       0.009110         0.07458       0.05661            0.01867   \n",
       "4    94.44       0.011490         0.02461       0.05688            0.01885   \n",
       "\n",
       "   symmetry_se  fractal_dimension_se  radius_worst  texture_worst  \\\n",
       "0      0.03003              0.006193         25.38          17.33   \n",
       "1      0.01389              0.003532         24.99          23.41   \n",
       "2      0.02250              0.004571         23.57          25.53   \n",
       "3      0.05963              0.009208         14.91          26.50   \n",
       "4      0.01756              0.005115         22.54          16.67   \n",
       "\n",
       "   perimeter_worst  area_worst  smoothness_worst  compactness_worst  \\\n",
       "0           184.60      2019.0            0.1622             0.6656   \n",
       "1           158.80      1956.0            0.1238             0.1866   \n",
       "2           152.50      1709.0            0.1444             0.4245   \n",
       "3            98.87       567.7            0.2098             0.8663   \n",
       "4           152.20      1575.0            0.1374             0.2050   \n",
       "\n",
       "   concavity_worst  concave points_worst  symmetry_worst  \\\n",
       "0           0.7119                0.2654          0.4601   \n",
       "1           0.2416                0.1860          0.2750   \n",
       "2           0.4504                0.2430          0.3613   \n",
       "3           0.6869                0.2575          0.6638   \n",
       "4           0.4000                0.1625          0.2364   \n",
       "\n",
       "   fractal_dimension_worst  \n",
       "0                  0.11890  \n",
       "1                  0.08902  \n",
       "2                  0.08758  \n",
       "3                  0.17300  \n",
       "4                  0.07678  "
      ]
     },
     "execution_count": 458,
     "metadata": {},
     "output_type": "execute_result"
    }
   ],
   "source": [
    "# Change pandas option to display all columns\n",
    "pd.set_option('display.max_columns', None)\n",
    "\n",
    "data.head()"
   ]
  },
  {
   "cell_type": "code",
   "execution_count": 459,
   "metadata": {},
   "outputs": [
    {
     "data": {
      "text/html": [
       "<div>\n",
       "<style>\n",
       "    .dataframe thead tr:only-child th {\n",
       "        text-align: right;\n",
       "    }\n",
       "\n",
       "    .dataframe thead th {\n",
       "        text-align: left;\n",
       "    }\n",
       "\n",
       "    .dataframe tbody tr th {\n",
       "        vertical-align: top;\n",
       "    }\n",
       "</style>\n",
       "<table border=\"1\" class=\"dataframe\">\n",
       "  <thead>\n",
       "    <tr style=\"text-align: right;\">\n",
       "      <th></th>\n",
       "      <th>radius_mean</th>\n",
       "      <th>texture_mean</th>\n",
       "      <th>perimeter_mean</th>\n",
       "      <th>area_mean</th>\n",
       "      <th>smoothness_mean</th>\n",
       "      <th>compactness_mean</th>\n",
       "      <th>concavity_mean</th>\n",
       "      <th>concave points_mean</th>\n",
       "      <th>symmetry_mean</th>\n",
       "      <th>fractal_dimension_mean</th>\n",
       "      <th>radius_se</th>\n",
       "      <th>texture_se</th>\n",
       "      <th>perimeter_se</th>\n",
       "      <th>area_se</th>\n",
       "      <th>smoothness_se</th>\n",
       "      <th>compactness_se</th>\n",
       "      <th>concavity_se</th>\n",
       "      <th>concave points_se</th>\n",
       "      <th>symmetry_se</th>\n",
       "      <th>fractal_dimension_se</th>\n",
       "      <th>radius_worst</th>\n",
       "      <th>texture_worst</th>\n",
       "      <th>perimeter_worst</th>\n",
       "      <th>area_worst</th>\n",
       "      <th>smoothness_worst</th>\n",
       "      <th>compactness_worst</th>\n",
       "      <th>concavity_worst</th>\n",
       "      <th>concave points_worst</th>\n",
       "      <th>symmetry_worst</th>\n",
       "      <th>fractal_dimension_worst</th>\n",
       "    </tr>\n",
       "  </thead>\n",
       "  <tbody>\n",
       "    <tr>\n",
       "      <th>count</th>\n",
       "      <td>569.000000</td>\n",
       "      <td>569.000000</td>\n",
       "      <td>569.000000</td>\n",
       "      <td>569.000000</td>\n",
       "      <td>569.000000</td>\n",
       "      <td>569.000000</td>\n",
       "      <td>569.000000</td>\n",
       "      <td>569.000000</td>\n",
       "      <td>569.000000</td>\n",
       "      <td>569.000000</td>\n",
       "      <td>569.000000</td>\n",
       "      <td>569.000000</td>\n",
       "      <td>569.000000</td>\n",
       "      <td>569.000000</td>\n",
       "      <td>569.000000</td>\n",
       "      <td>569.000000</td>\n",
       "      <td>569.000000</td>\n",
       "      <td>569.000000</td>\n",
       "      <td>569.000000</td>\n",
       "      <td>569.000000</td>\n",
       "      <td>569.000000</td>\n",
       "      <td>569.000000</td>\n",
       "      <td>569.000000</td>\n",
       "      <td>569.000000</td>\n",
       "      <td>569.000000</td>\n",
       "      <td>569.000000</td>\n",
       "      <td>569.000000</td>\n",
       "      <td>569.000000</td>\n",
       "      <td>569.000000</td>\n",
       "      <td>569.000000</td>\n",
       "    </tr>\n",
       "    <tr>\n",
       "      <th>mean</th>\n",
       "      <td>14.127292</td>\n",
       "      <td>19.289649</td>\n",
       "      <td>91.969033</td>\n",
       "      <td>654.889104</td>\n",
       "      <td>0.096360</td>\n",
       "      <td>0.104341</td>\n",
       "      <td>0.088799</td>\n",
       "      <td>0.048919</td>\n",
       "      <td>0.181162</td>\n",
       "      <td>0.062798</td>\n",
       "      <td>0.405172</td>\n",
       "      <td>1.216853</td>\n",
       "      <td>2.866059</td>\n",
       "      <td>40.337079</td>\n",
       "      <td>0.007041</td>\n",
       "      <td>0.025478</td>\n",
       "      <td>0.031894</td>\n",
       "      <td>0.011796</td>\n",
       "      <td>0.020542</td>\n",
       "      <td>0.003795</td>\n",
       "      <td>16.269190</td>\n",
       "      <td>25.677223</td>\n",
       "      <td>107.261213</td>\n",
       "      <td>880.583128</td>\n",
       "      <td>0.132369</td>\n",
       "      <td>0.254265</td>\n",
       "      <td>0.272188</td>\n",
       "      <td>0.114606</td>\n",
       "      <td>0.290076</td>\n",
       "      <td>0.083946</td>\n",
       "    </tr>\n",
       "    <tr>\n",
       "      <th>std</th>\n",
       "      <td>3.524049</td>\n",
       "      <td>4.301036</td>\n",
       "      <td>24.298981</td>\n",
       "      <td>351.914129</td>\n",
       "      <td>0.014064</td>\n",
       "      <td>0.052813</td>\n",
       "      <td>0.079720</td>\n",
       "      <td>0.038803</td>\n",
       "      <td>0.027414</td>\n",
       "      <td>0.007060</td>\n",
       "      <td>0.277313</td>\n",
       "      <td>0.551648</td>\n",
       "      <td>2.021855</td>\n",
       "      <td>45.491006</td>\n",
       "      <td>0.003003</td>\n",
       "      <td>0.017908</td>\n",
       "      <td>0.030186</td>\n",
       "      <td>0.006170</td>\n",
       "      <td>0.008266</td>\n",
       "      <td>0.002646</td>\n",
       "      <td>4.833242</td>\n",
       "      <td>6.146258</td>\n",
       "      <td>33.602542</td>\n",
       "      <td>569.356993</td>\n",
       "      <td>0.022832</td>\n",
       "      <td>0.157336</td>\n",
       "      <td>0.208624</td>\n",
       "      <td>0.065732</td>\n",
       "      <td>0.061867</td>\n",
       "      <td>0.018061</td>\n",
       "    </tr>\n",
       "    <tr>\n",
       "      <th>min</th>\n",
       "      <td>6.981000</td>\n",
       "      <td>9.710000</td>\n",
       "      <td>43.790000</td>\n",
       "      <td>143.500000</td>\n",
       "      <td>0.052630</td>\n",
       "      <td>0.019380</td>\n",
       "      <td>0.000000</td>\n",
       "      <td>0.000000</td>\n",
       "      <td>0.106000</td>\n",
       "      <td>0.049960</td>\n",
       "      <td>0.111500</td>\n",
       "      <td>0.360200</td>\n",
       "      <td>0.757000</td>\n",
       "      <td>6.802000</td>\n",
       "      <td>0.001713</td>\n",
       "      <td>0.002252</td>\n",
       "      <td>0.000000</td>\n",
       "      <td>0.000000</td>\n",
       "      <td>0.007882</td>\n",
       "      <td>0.000895</td>\n",
       "      <td>7.930000</td>\n",
       "      <td>12.020000</td>\n",
       "      <td>50.410000</td>\n",
       "      <td>185.200000</td>\n",
       "      <td>0.071170</td>\n",
       "      <td>0.027290</td>\n",
       "      <td>0.000000</td>\n",
       "      <td>0.000000</td>\n",
       "      <td>0.156500</td>\n",
       "      <td>0.055040</td>\n",
       "    </tr>\n",
       "    <tr>\n",
       "      <th>25%</th>\n",
       "      <td>11.700000</td>\n",
       "      <td>16.170000</td>\n",
       "      <td>75.170000</td>\n",
       "      <td>420.300000</td>\n",
       "      <td>0.086370</td>\n",
       "      <td>0.064920</td>\n",
       "      <td>0.029560</td>\n",
       "      <td>0.020310</td>\n",
       "      <td>0.161900</td>\n",
       "      <td>0.057700</td>\n",
       "      <td>0.232400</td>\n",
       "      <td>0.833900</td>\n",
       "      <td>1.606000</td>\n",
       "      <td>17.850000</td>\n",
       "      <td>0.005169</td>\n",
       "      <td>0.013080</td>\n",
       "      <td>0.015090</td>\n",
       "      <td>0.007638</td>\n",
       "      <td>0.015160</td>\n",
       "      <td>0.002248</td>\n",
       "      <td>13.010000</td>\n",
       "      <td>21.080000</td>\n",
       "      <td>84.110000</td>\n",
       "      <td>515.300000</td>\n",
       "      <td>0.116600</td>\n",
       "      <td>0.147200</td>\n",
       "      <td>0.114500</td>\n",
       "      <td>0.064930</td>\n",
       "      <td>0.250400</td>\n",
       "      <td>0.071460</td>\n",
       "    </tr>\n",
       "    <tr>\n",
       "      <th>50%</th>\n",
       "      <td>13.370000</td>\n",
       "      <td>18.840000</td>\n",
       "      <td>86.240000</td>\n",
       "      <td>551.100000</td>\n",
       "      <td>0.095870</td>\n",
       "      <td>0.092630</td>\n",
       "      <td>0.061540</td>\n",
       "      <td>0.033500</td>\n",
       "      <td>0.179200</td>\n",
       "      <td>0.061540</td>\n",
       "      <td>0.324200</td>\n",
       "      <td>1.108000</td>\n",
       "      <td>2.287000</td>\n",
       "      <td>24.530000</td>\n",
       "      <td>0.006380</td>\n",
       "      <td>0.020450</td>\n",
       "      <td>0.025890</td>\n",
       "      <td>0.010930</td>\n",
       "      <td>0.018730</td>\n",
       "      <td>0.003187</td>\n",
       "      <td>14.970000</td>\n",
       "      <td>25.410000</td>\n",
       "      <td>97.660000</td>\n",
       "      <td>686.500000</td>\n",
       "      <td>0.131300</td>\n",
       "      <td>0.211900</td>\n",
       "      <td>0.226700</td>\n",
       "      <td>0.099930</td>\n",
       "      <td>0.282200</td>\n",
       "      <td>0.080040</td>\n",
       "    </tr>\n",
       "    <tr>\n",
       "      <th>75%</th>\n",
       "      <td>15.780000</td>\n",
       "      <td>21.800000</td>\n",
       "      <td>104.100000</td>\n",
       "      <td>782.700000</td>\n",
       "      <td>0.105300</td>\n",
       "      <td>0.130400</td>\n",
       "      <td>0.130700</td>\n",
       "      <td>0.074000</td>\n",
       "      <td>0.195700</td>\n",
       "      <td>0.066120</td>\n",
       "      <td>0.478900</td>\n",
       "      <td>1.474000</td>\n",
       "      <td>3.357000</td>\n",
       "      <td>45.190000</td>\n",
       "      <td>0.008146</td>\n",
       "      <td>0.032450</td>\n",
       "      <td>0.042050</td>\n",
       "      <td>0.014710</td>\n",
       "      <td>0.023480</td>\n",
       "      <td>0.004558</td>\n",
       "      <td>18.790000</td>\n",
       "      <td>29.720000</td>\n",
       "      <td>125.400000</td>\n",
       "      <td>1084.000000</td>\n",
       "      <td>0.146000</td>\n",
       "      <td>0.339100</td>\n",
       "      <td>0.382900</td>\n",
       "      <td>0.161400</td>\n",
       "      <td>0.317900</td>\n",
       "      <td>0.092080</td>\n",
       "    </tr>\n",
       "    <tr>\n",
       "      <th>max</th>\n",
       "      <td>28.110000</td>\n",
       "      <td>39.280000</td>\n",
       "      <td>188.500000</td>\n",
       "      <td>2501.000000</td>\n",
       "      <td>0.163400</td>\n",
       "      <td>0.345400</td>\n",
       "      <td>0.426800</td>\n",
       "      <td>0.201200</td>\n",
       "      <td>0.304000</td>\n",
       "      <td>0.097440</td>\n",
       "      <td>2.873000</td>\n",
       "      <td>4.885000</td>\n",
       "      <td>21.980000</td>\n",
       "      <td>542.200000</td>\n",
       "      <td>0.031130</td>\n",
       "      <td>0.135400</td>\n",
       "      <td>0.396000</td>\n",
       "      <td>0.052790</td>\n",
       "      <td>0.078950</td>\n",
       "      <td>0.029840</td>\n",
       "      <td>36.040000</td>\n",
       "      <td>49.540000</td>\n",
       "      <td>251.200000</td>\n",
       "      <td>4254.000000</td>\n",
       "      <td>0.222600</td>\n",
       "      <td>1.058000</td>\n",
       "      <td>1.252000</td>\n",
       "      <td>0.291000</td>\n",
       "      <td>0.663800</td>\n",
       "      <td>0.207500</td>\n",
       "    </tr>\n",
       "  </tbody>\n",
       "</table>\n",
       "</div>"
      ],
      "text/plain": [
       "       radius_mean  texture_mean  perimeter_mean    area_mean  \\\n",
       "count   569.000000    569.000000      569.000000   569.000000   \n",
       "mean     14.127292     19.289649       91.969033   654.889104   \n",
       "std       3.524049      4.301036       24.298981   351.914129   \n",
       "min       6.981000      9.710000       43.790000   143.500000   \n",
       "25%      11.700000     16.170000       75.170000   420.300000   \n",
       "50%      13.370000     18.840000       86.240000   551.100000   \n",
       "75%      15.780000     21.800000      104.100000   782.700000   \n",
       "max      28.110000     39.280000      188.500000  2501.000000   \n",
       "\n",
       "       smoothness_mean  compactness_mean  concavity_mean  concave points_mean  \\\n",
       "count       569.000000        569.000000      569.000000           569.000000   \n",
       "mean          0.096360          0.104341        0.088799             0.048919   \n",
       "std           0.014064          0.052813        0.079720             0.038803   \n",
       "min           0.052630          0.019380        0.000000             0.000000   \n",
       "25%           0.086370          0.064920        0.029560             0.020310   \n",
       "50%           0.095870          0.092630        0.061540             0.033500   \n",
       "75%           0.105300          0.130400        0.130700             0.074000   \n",
       "max           0.163400          0.345400        0.426800             0.201200   \n",
       "\n",
       "       symmetry_mean  fractal_dimension_mean   radius_se  texture_se  \\\n",
       "count     569.000000              569.000000  569.000000  569.000000   \n",
       "mean        0.181162                0.062798    0.405172    1.216853   \n",
       "std         0.027414                0.007060    0.277313    0.551648   \n",
       "min         0.106000                0.049960    0.111500    0.360200   \n",
       "25%         0.161900                0.057700    0.232400    0.833900   \n",
       "50%         0.179200                0.061540    0.324200    1.108000   \n",
       "75%         0.195700                0.066120    0.478900    1.474000   \n",
       "max         0.304000                0.097440    2.873000    4.885000   \n",
       "\n",
       "       perimeter_se     area_se  smoothness_se  compactness_se  concavity_se  \\\n",
       "count    569.000000  569.000000     569.000000      569.000000    569.000000   \n",
       "mean       2.866059   40.337079       0.007041        0.025478      0.031894   \n",
       "std        2.021855   45.491006       0.003003        0.017908      0.030186   \n",
       "min        0.757000    6.802000       0.001713        0.002252      0.000000   \n",
       "25%        1.606000   17.850000       0.005169        0.013080      0.015090   \n",
       "50%        2.287000   24.530000       0.006380        0.020450      0.025890   \n",
       "75%        3.357000   45.190000       0.008146        0.032450      0.042050   \n",
       "max       21.980000  542.200000       0.031130        0.135400      0.396000   \n",
       "\n",
       "       concave points_se  symmetry_se  fractal_dimension_se  radius_worst  \\\n",
       "count         569.000000   569.000000            569.000000    569.000000   \n",
       "mean            0.011796     0.020542              0.003795     16.269190   \n",
       "std             0.006170     0.008266              0.002646      4.833242   \n",
       "min             0.000000     0.007882              0.000895      7.930000   \n",
       "25%             0.007638     0.015160              0.002248     13.010000   \n",
       "50%             0.010930     0.018730              0.003187     14.970000   \n",
       "75%             0.014710     0.023480              0.004558     18.790000   \n",
       "max             0.052790     0.078950              0.029840     36.040000   \n",
       "\n",
       "       texture_worst  perimeter_worst   area_worst  smoothness_worst  \\\n",
       "count     569.000000       569.000000   569.000000        569.000000   \n",
       "mean       25.677223       107.261213   880.583128          0.132369   \n",
       "std         6.146258        33.602542   569.356993          0.022832   \n",
       "min        12.020000        50.410000   185.200000          0.071170   \n",
       "25%        21.080000        84.110000   515.300000          0.116600   \n",
       "50%        25.410000        97.660000   686.500000          0.131300   \n",
       "75%        29.720000       125.400000  1084.000000          0.146000   \n",
       "max        49.540000       251.200000  4254.000000          0.222600   \n",
       "\n",
       "       compactness_worst  concavity_worst  concave points_worst  \\\n",
       "count         569.000000       569.000000            569.000000   \n",
       "mean            0.254265         0.272188              0.114606   \n",
       "std             0.157336         0.208624              0.065732   \n",
       "min             0.027290         0.000000              0.000000   \n",
       "25%             0.147200         0.114500              0.064930   \n",
       "50%             0.211900         0.226700              0.099930   \n",
       "75%             0.339100         0.382900              0.161400   \n",
       "max             1.058000         1.252000              0.291000   \n",
       "\n",
       "       symmetry_worst  fractal_dimension_worst  \n",
       "count      569.000000               569.000000  \n",
       "mean         0.290076                 0.083946  \n",
       "std          0.061867                 0.018061  \n",
       "min          0.156500                 0.055040  \n",
       "25%          0.250400                 0.071460  \n",
       "50%          0.282200                 0.080040  \n",
       "75%          0.317900                 0.092080  \n",
       "max          0.663800                 0.207500  "
      ]
     },
     "execution_count": 459,
     "metadata": {},
     "output_type": "execute_result"
    }
   ],
   "source": [
    "pd.set_option('display.max_columns', None)\n",
    "\n",
    "data.describe()"
   ]
  },
  {
   "cell_type": "code",
   "execution_count": 460,
   "metadata": {},
   "outputs": [
    {
     "data": {
      "image/png": "[encoded data removed]",
      "text/plain": [
       "<matplotlib.figure.Figure at 0x10bfb97d0>"
      ]
     },
     "metadata": {},
     "output_type": "display_data"
    }
   ],
   "source": [
    "# Map diagnosis from character to integer value\n",
    "# M = Malignant -> 1\n",
    "# B = Benign -> 0\n",
    "data['diagnosis'] = data['diagnosis'].map({'M':1,'B':0})\n",
    "\n",
    "# Plot count of samples of both classes\n",
    "plt.hist(data['diagnosis'])\n",
    "plt.title('Diagnosis (M=1, B=0)')\n",
    "plt.show()"
   ]
  },
  {
   "cell_type": "code",
   "execution_count": 461,
   "metadata": {},
   "outputs": [
    {
     "data": {
      "text/plain": [
       "0    357\n",
       "1    212\n",
       "Name: diagnosis, dtype: int64"
      ]
     },
     "execution_count": 461,
     "metadata": {},
     "output_type": "execute_result"
    }
   ],
   "source": [
    "data['diagnosis'].value_counts()"
   ]
  },
  {
   "cell_type": "code",
   "execution_count": 462,
   "metadata": {},
   "outputs": [
    {
     "data": {
      "text/html": [
       "<div>\n",
       "<style>\n",
       "    .dataframe thead tr:only-child th {\n",
       "        text-align: right;\n",
       "    }\n",
       "\n",
       "    .dataframe thead th {\n",
       "        text-align: left;\n",
       "    }\n",
       "\n",
       "    .dataframe tbody tr th {\n",
       "        vertical-align: top;\n",
       "    }\n",
       "</style>\n",
       "<table border=\"1\" class=\"dataframe\">\n",
       "  <thead>\n",
       "    <tr style=\"text-align: right;\">\n",
       "      <th></th>\n",
       "      <th>diagnosis</th>\n",
       "      <th>radius_mean</th>\n",
       "      <th>texture_mean</th>\n",
       "      <th>perimeter_mean</th>\n",
       "      <th>area_mean</th>\n",
       "      <th>smoothness_mean</th>\n",
       "      <th>compactness_mean</th>\n",
       "      <th>concavity_mean</th>\n",
       "      <th>concave points_mean</th>\n",
       "      <th>symmetry_mean</th>\n",
       "      <th>fractal_dimension_mean</th>\n",
       "      <th>radius_se</th>\n",
       "      <th>texture_se</th>\n",
       "      <th>perimeter_se</th>\n",
       "      <th>area_se</th>\n",
       "      <th>smoothness_se</th>\n",
       "      <th>compactness_se</th>\n",
       "      <th>concavity_se</th>\n",
       "      <th>concave points_se</th>\n",
       "      <th>symmetry_se</th>\n",
       "      <th>fractal_dimension_se</th>\n",
       "      <th>radius_worst</th>\n",
       "      <th>texture_worst</th>\n",
       "      <th>perimeter_worst</th>\n",
       "      <th>area_worst</th>\n",
       "      <th>smoothness_worst</th>\n",
       "      <th>compactness_worst</th>\n",
       "      <th>concavity_worst</th>\n",
       "      <th>concave points_worst</th>\n",
       "      <th>symmetry_worst</th>\n",
       "      <th>fractal_dimension_worst</th>\n",
       "    </tr>\n",
       "  </thead>\n",
       "  <tbody>\n",
       "    <tr>\n",
       "      <th>count</th>\n",
       "      <td>212.0</td>\n",
       "      <td>212.000000</td>\n",
       "      <td>212.000000</td>\n",
       "      <td>212.000000</td>\n",
       "      <td>212.000000</td>\n",
       "      <td>212.000000</td>\n",
       "      <td>212.000000</td>\n",
       "      <td>212.000000</td>\n",
       "      <td>212.000000</td>\n",
       "      <td>212.000000</td>\n",
       "      <td>212.000000</td>\n",
       "      <td>212.000000</td>\n",
       "      <td>212.000000</td>\n",
       "      <td>212.000000</td>\n",
       "      <td>212.000000</td>\n",
       "      <td>212.000000</td>\n",
       "      <td>212.000000</td>\n",
       "      <td>212.000000</td>\n",
       "      <td>212.000000</td>\n",
       "      <td>212.000000</td>\n",
       "      <td>212.000000</td>\n",
       "      <td>212.000000</td>\n",
       "      <td>212.000000</td>\n",
       "      <td>212.000000</td>\n",
       "      <td>212.000000</td>\n",
       "      <td>212.000000</td>\n",
       "      <td>212.000000</td>\n",
       "      <td>212.000000</td>\n",
       "      <td>212.000000</td>\n",
       "      <td>212.000000</td>\n",
       "      <td>212.000000</td>\n",
       "    </tr>\n",
       "    <tr>\n",
       "      <th>mean</th>\n",
       "      <td>1.0</td>\n",
       "      <td>17.462830</td>\n",
       "      <td>21.604906</td>\n",
       "      <td>115.365377</td>\n",
       "      <td>978.376415</td>\n",
       "      <td>0.102898</td>\n",
       "      <td>0.145188</td>\n",
       "      <td>0.160775</td>\n",
       "      <td>0.087990</td>\n",
       "      <td>0.192909</td>\n",
       "      <td>0.062680</td>\n",
       "      <td>0.609083</td>\n",
       "      <td>1.210915</td>\n",
       "      <td>4.323929</td>\n",
       "      <td>72.672406</td>\n",
       "      <td>0.006780</td>\n",
       "      <td>0.032281</td>\n",
       "      <td>0.041824</td>\n",
       "      <td>0.015060</td>\n",
       "      <td>0.020472</td>\n",
       "      <td>0.004062</td>\n",
       "      <td>21.134811</td>\n",
       "      <td>29.318208</td>\n",
       "      <td>141.370330</td>\n",
       "      <td>1422.286321</td>\n",
       "      <td>0.144845</td>\n",
       "      <td>0.374824</td>\n",
       "      <td>0.450606</td>\n",
       "      <td>0.182237</td>\n",
       "      <td>0.323468</td>\n",
       "      <td>0.091530</td>\n",
       "    </tr>\n",
       "    <tr>\n",
       "      <th>std</th>\n",
       "      <td>0.0</td>\n",
       "      <td>3.203971</td>\n",
       "      <td>3.779470</td>\n",
       "      <td>21.854653</td>\n",
       "      <td>367.937978</td>\n",
       "      <td>0.012608</td>\n",
       "      <td>0.053987</td>\n",
       "      <td>0.075019</td>\n",
       "      <td>0.034374</td>\n",
       "      <td>0.027638</td>\n",
       "      <td>0.007573</td>\n",
       "      <td>0.345039</td>\n",
       "      <td>0.483178</td>\n",
       "      <td>2.568546</td>\n",
       "      <td>61.355268</td>\n",
       "      <td>0.002890</td>\n",
       "      <td>0.018387</td>\n",
       "      <td>0.021603</td>\n",
       "      <td>0.005517</td>\n",
       "      <td>0.010065</td>\n",
       "      <td>0.002041</td>\n",
       "      <td>4.283569</td>\n",
       "      <td>5.434804</td>\n",
       "      <td>29.457055</td>\n",
       "      <td>597.967743</td>\n",
       "      <td>0.021870</td>\n",
       "      <td>0.170372</td>\n",
       "      <td>0.181507</td>\n",
       "      <td>0.046308</td>\n",
       "      <td>0.074685</td>\n",
       "      <td>0.021553</td>\n",
       "    </tr>\n",
       "    <tr>\n",
       "      <th>min</th>\n",
       "      <td>1.0</td>\n",
       "      <td>10.950000</td>\n",
       "      <td>10.380000</td>\n",
       "      <td>71.900000</td>\n",
       "      <td>361.600000</td>\n",
       "      <td>0.073710</td>\n",
       "      <td>0.046050</td>\n",
       "      <td>0.023980</td>\n",
       "      <td>0.020310</td>\n",
       "      <td>0.130800</td>\n",
       "      <td>0.049960</td>\n",
       "      <td>0.193800</td>\n",
       "      <td>0.362100</td>\n",
       "      <td>1.334000</td>\n",
       "      <td>13.990000</td>\n",
       "      <td>0.002667</td>\n",
       "      <td>0.008422</td>\n",
       "      <td>0.011010</td>\n",
       "      <td>0.005174</td>\n",
       "      <td>0.007882</td>\n",
       "      <td>0.001087</td>\n",
       "      <td>12.840000</td>\n",
       "      <td>16.670000</td>\n",
       "      <td>85.100000</td>\n",
       "      <td>508.100000</td>\n",
       "      <td>0.088220</td>\n",
       "      <td>0.051310</td>\n",
       "      <td>0.023980</td>\n",
       "      <td>0.028990</td>\n",
       "      <td>0.156500</td>\n",
       "      <td>0.055040</td>\n",
       "    </tr>\n",
       "    <tr>\n",
       "      <th>25%</th>\n",
       "      <td>1.0</td>\n",
       "      <td>15.075000</td>\n",
       "      <td>19.327500</td>\n",
       "      <td>98.745000</td>\n",
       "      <td>705.300000</td>\n",
       "      <td>0.094010</td>\n",
       "      <td>0.109600</td>\n",
       "      <td>0.109525</td>\n",
       "      <td>0.064620</td>\n",
       "      <td>0.174050</td>\n",
       "      <td>0.056598</td>\n",
       "      <td>0.390375</td>\n",
       "      <td>0.892825</td>\n",
       "      <td>2.715500</td>\n",
       "      <td>35.762500</td>\n",
       "      <td>0.005085</td>\n",
       "      <td>0.019662</td>\n",
       "      <td>0.026998</td>\n",
       "      <td>0.011415</td>\n",
       "      <td>0.014615</td>\n",
       "      <td>0.002688</td>\n",
       "      <td>17.730000</td>\n",
       "      <td>25.782500</td>\n",
       "      <td>119.325000</td>\n",
       "      <td>970.300000</td>\n",
       "      <td>0.130475</td>\n",
       "      <td>0.244475</td>\n",
       "      <td>0.326425</td>\n",
       "      <td>0.152750</td>\n",
       "      <td>0.276500</td>\n",
       "      <td>0.076302</td>\n",
       "    </tr>\n",
       "    <tr>\n",
       "      <th>50%</th>\n",
       "      <td>1.0</td>\n",
       "      <td>17.325000</td>\n",
       "      <td>21.460000</td>\n",
       "      <td>114.200000</td>\n",
       "      <td>932.000000</td>\n",
       "      <td>0.102200</td>\n",
       "      <td>0.132350</td>\n",
       "      <td>0.151350</td>\n",
       "      <td>0.086280</td>\n",
       "      <td>0.189900</td>\n",
       "      <td>0.061575</td>\n",
       "      <td>0.547200</td>\n",
       "      <td>1.102500</td>\n",
       "      <td>3.679500</td>\n",
       "      <td>58.455000</td>\n",
       "      <td>0.006209</td>\n",
       "      <td>0.028590</td>\n",
       "      <td>0.037125</td>\n",
       "      <td>0.014205</td>\n",
       "      <td>0.017700</td>\n",
       "      <td>0.003739</td>\n",
       "      <td>20.590000</td>\n",
       "      <td>28.945000</td>\n",
       "      <td>138.000000</td>\n",
       "      <td>1303.000000</td>\n",
       "      <td>0.143450</td>\n",
       "      <td>0.356350</td>\n",
       "      <td>0.404900</td>\n",
       "      <td>0.182000</td>\n",
       "      <td>0.310300</td>\n",
       "      <td>0.087600</td>\n",
       "    </tr>\n",
       "    <tr>\n",
       "      <th>75%</th>\n",
       "      <td>1.0</td>\n",
       "      <td>19.590000</td>\n",
       "      <td>23.765000</td>\n",
       "      <td>129.925000</td>\n",
       "      <td>1203.750000</td>\n",
       "      <td>0.110925</td>\n",
       "      <td>0.172400</td>\n",
       "      <td>0.203050</td>\n",
       "      <td>0.103175</td>\n",
       "      <td>0.209850</td>\n",
       "      <td>0.067075</td>\n",
       "      <td>0.757300</td>\n",
       "      <td>1.429250</td>\n",
       "      <td>5.206250</td>\n",
       "      <td>94.000000</td>\n",
       "      <td>0.007971</td>\n",
       "      <td>0.038910</td>\n",
       "      <td>0.050443</td>\n",
       "      <td>0.017497</td>\n",
       "      <td>0.022132</td>\n",
       "      <td>0.004892</td>\n",
       "      <td>23.807500</td>\n",
       "      <td>32.690000</td>\n",
       "      <td>159.800000</td>\n",
       "      <td>1712.750000</td>\n",
       "      <td>0.155975</td>\n",
       "      <td>0.447850</td>\n",
       "      <td>0.556175</td>\n",
       "      <td>0.210675</td>\n",
       "      <td>0.359225</td>\n",
       "      <td>0.102625</td>\n",
       "    </tr>\n",
       "    <tr>\n",
       "      <th>max</th>\n",
       "      <td>1.0</td>\n",
       "      <td>28.110000</td>\n",
       "      <td>39.280000</td>\n",
       "      <td>188.500000</td>\n",
       "      <td>2501.000000</td>\n",
       "      <td>0.144700</td>\n",
       "      <td>0.345400</td>\n",
       "      <td>0.426800</td>\n",
       "      <td>0.201200</td>\n",
       "      <td>0.304000</td>\n",
       "      <td>0.097440</td>\n",
       "      <td>2.873000</td>\n",
       "      <td>3.568000</td>\n",
       "      <td>21.980000</td>\n",
       "      <td>542.200000</td>\n",
       "      <td>0.031130</td>\n",
       "      <td>0.135400</td>\n",
       "      <td>0.143800</td>\n",
       "      <td>0.040900</td>\n",
       "      <td>0.078950</td>\n",
       "      <td>0.012840</td>\n",
       "      <td>36.040000</td>\n",
       "      <td>49.540000</td>\n",
       "      <td>251.200000</td>\n",
       "      <td>4254.000000</td>\n",
       "      <td>0.222600</td>\n",
       "      <td>1.058000</td>\n",
       "      <td>1.170000</td>\n",
       "      <td>0.291000</td>\n",
       "      <td>0.663800</td>\n",
       "      <td>0.207500</td>\n",
       "    </tr>\n",
       "  </tbody>\n",
       "</table>\n",
       "</div>"
      ],
      "text/plain": [
       "       diagnosis  radius_mean  texture_mean  perimeter_mean    area_mean  \\\n",
       "count      212.0   212.000000    212.000000      212.000000   212.000000   \n",
       "mean         1.0    17.462830     21.604906      115.365377   978.376415   \n",
       "std          0.0     3.203971      3.779470       21.854653   367.937978   \n",
       "min          1.0    10.950000     10.380000       71.900000   361.600000   \n",
       "25%          1.0    15.075000     19.327500       98.745000   705.300000   \n",
       "50%          1.0    17.325000     21.460000      114.200000   932.000000   \n",
       "75%          1.0    19.590000     23.765000      129.925000  1203.750000   \n",
       "max          1.0    28.110000     39.280000      188.500000  2501.000000   \n",
       "\n",
       "       smoothness_mean  compactness_mean  concavity_mean  concave points_mean  \\\n",
       "count       212.000000        212.000000      212.000000           212.000000   \n",
       "mean          0.102898          0.145188        0.160775             0.087990   \n",
       "std           0.012608          0.053987        0.075019             0.034374   \n",
       "min           0.073710          0.046050        0.023980             0.020310   \n",
       "25%           0.094010          0.109600        0.109525             0.064620   \n",
       "50%           0.102200          0.132350        0.151350             0.086280   \n",
       "75%           0.110925          0.172400        0.203050             0.103175   \n",
       "max           0.144700          0.345400        0.426800             0.201200   \n",
       "\n",
       "       symmetry_mean  fractal_dimension_mean   radius_se  texture_se  \\\n",
       "count     212.000000              212.000000  212.000000  212.000000   \n",
       "mean        0.192909                0.062680    0.609083    1.210915   \n",
       "std         0.027638                0.007573    0.345039    0.483178   \n",
       "min         0.130800                0.049960    0.193800    0.362100   \n",
       "25%         0.174050                0.056598    0.390375    0.892825   \n",
       "50%         0.189900                0.061575    0.547200    1.102500   \n",
       "75%         0.209850                0.067075    0.757300    1.429250   \n",
       "max         0.304000                0.097440    2.873000    3.568000   \n",
       "\n",
       "       perimeter_se     area_se  smoothness_se  compactness_se  concavity_se  \\\n",
       "count    212.000000  212.000000     212.000000      212.000000    212.000000   \n",
       "mean       4.323929   72.672406       0.006780        0.032281      0.041824   \n",
       "std        2.568546   61.355268       0.002890        0.018387      0.021603   \n",
       "min        1.334000   13.990000       0.002667        0.008422      0.011010   \n",
       "25%        2.715500   35.762500       0.005085        0.019662      0.026998   \n",
       "50%        3.679500   58.455000       0.006209        0.028590      0.037125   \n",
       "75%        5.206250   94.000000       0.007971        0.038910      0.050443   \n",
       "max       21.980000  542.200000       0.031130        0.135400      0.143800   \n",
       "\n",
       "       concave points_se  symmetry_se  fractal_dimension_se  radius_worst  \\\n",
       "count         212.000000   212.000000            212.000000    212.000000   \n",
       "mean            0.015060     0.020472              0.004062     21.134811   \n",
       "std             0.005517     0.010065              0.002041      4.283569   \n",
       "min             0.005174     0.007882              0.001087     12.840000   \n",
       "25%             0.011415     0.014615              0.002688     17.730000   \n",
       "50%             0.014205     0.017700              0.003739     20.590000   \n",
       "75%             0.017497     0.022132              0.004892     23.807500   \n",
       "max             0.040900     0.078950              0.012840     36.040000   \n",
       "\n",
       "       texture_worst  perimeter_worst   area_worst  smoothness_worst  \\\n",
       "count     212.000000       212.000000   212.000000        212.000000   \n",
       "mean       29.318208       141.370330  1422.286321          0.144845   \n",
       "std         5.434804        29.457055   597.967743          0.021870   \n",
       "min        16.670000        85.100000   508.100000          0.088220   \n",
       "25%        25.782500       119.325000   970.300000          0.130475   \n",
       "50%        28.945000       138.000000  1303.000000          0.143450   \n",
       "75%        32.690000       159.800000  1712.750000          0.155975   \n",
       "max        49.540000       251.200000  4254.000000          0.222600   \n",
       "\n",
       "       compactness_worst  concavity_worst  concave points_worst  \\\n",
       "count         212.000000       212.000000            212.000000   \n",
       "mean            0.374824         0.450606              0.182237   \n",
       "std             0.170372         0.181507              0.046308   \n",
       "min             0.051310         0.023980              0.028990   \n",
       "25%             0.244475         0.326425              0.152750   \n",
       "50%             0.356350         0.404900              0.182000   \n",
       "75%             0.447850         0.556175              0.210675   \n",
       "max             1.058000         1.170000              0.291000   \n",
       "\n",
       "       symmetry_worst  fractal_dimension_worst  \n",
       "count      212.000000               212.000000  \n",
       "mean         0.323468                 0.091530  \n",
       "std          0.074685                 0.021553  \n",
       "min          0.156500                 0.055040  \n",
       "25%          0.276500                 0.076302  \n",
       "50%          0.310300                 0.087600  \n",
       "75%          0.359225                 0.102625  \n",
       "max          0.663800                 0.207500  "
      ]
     },
     "execution_count": 462,
     "metadata": {},
     "output_type": "execute_result"
    }
   ],
   "source": [
    "# Get stats of each of the 2 classes\n",
    "data_malignant = data[data['diagnosis'] == 1]\n",
    "data_benign = data[data['diagnosis'] == 0]\n",
    "\n",
    "data_malignant.describe()"
   ]
  },
  {
   "cell_type": "code",
   "execution_count": 80,
   "metadata": {},
   "outputs": [
    {
     "data": {
      "text/html": [
       "<div>\n",
       "<style>\n",
       "    .dataframe thead tr:only-child th {\n",
       "        text-align: right;\n",
       "    }\n",
       "\n",
       "    .dataframe thead th {\n",
       "        text-align: left;\n",
       "    }\n",
       "\n",
       "    .dataframe tbody tr th {\n",
       "        vertical-align: top;\n",
       "    }\n",
       "</style>\n",
       "<table border=\"1\" class=\"dataframe\">\n",
       "  <thead>\n",
       "    <tr style=\"text-align: right;\">\n",
       "      <th></th>\n",
       "      <th>diagnosis</th>\n",
       "      <th>radius_mean</th>\n",
       "      <th>texture_mean</th>\n",
       "      <th>perimeter_mean</th>\n",
       "      <th>area_mean</th>\n",
       "      <th>smoothness_mean</th>\n",
       "      <th>compactness_mean</th>\n",
       "      <th>concavity_mean</th>\n",
       "      <th>concave points_mean</th>\n",
       "      <th>symmetry_mean</th>\n",
       "      <th>...</th>\n",
       "      <th>radius_worst</th>\n",
       "      <th>texture_worst</th>\n",
       "      <th>perimeter_worst</th>\n",
       "      <th>area_worst</th>\n",
       "      <th>smoothness_worst</th>\n",
       "      <th>compactness_worst</th>\n",
       "      <th>concavity_worst</th>\n",
       "      <th>concave points_worst</th>\n",
       "      <th>symmetry_worst</th>\n",
       "      <th>fractal_dimension_worst</th>\n",
       "    </tr>\n",
       "  </thead>\n",
       "  <tbody>\n",
       "    <tr>\n",
       "      <th>count</th>\n",
       "      <td>357.0</td>\n",
       "      <td>357.000000</td>\n",
       "      <td>357.000000</td>\n",
       "      <td>357.000000</td>\n",
       "      <td>357.000000</td>\n",
       "      <td>357.000000</td>\n",
       "      <td>357.000000</td>\n",
       "      <td>357.000000</td>\n",
       "      <td>357.000000</td>\n",
       "      <td>357.000000</td>\n",
       "      <td>...</td>\n",
       "      <td>357.000000</td>\n",
       "      <td>357.000000</td>\n",
       "      <td>357.000000</td>\n",
       "      <td>357.000000</td>\n",
       "      <td>357.000000</td>\n",
       "      <td>357.000000</td>\n",
       "      <td>357.000000</td>\n",
       "      <td>357.000000</td>\n",
       "      <td>357.000000</td>\n",
       "      <td>357.000000</td>\n",
       "    </tr>\n",
       "    <tr>\n",
       "      <th>mean</th>\n",
       "      <td>0.0</td>\n",
       "      <td>12.146524</td>\n",
       "      <td>17.914762</td>\n",
       "      <td>78.075406</td>\n",
       "      <td>462.790196</td>\n",
       "      <td>0.092478</td>\n",
       "      <td>0.080085</td>\n",
       "      <td>0.046058</td>\n",
       "      <td>0.025717</td>\n",
       "      <td>0.174186</td>\n",
       "      <td>...</td>\n",
       "      <td>13.379801</td>\n",
       "      <td>23.515070</td>\n",
       "      <td>87.005938</td>\n",
       "      <td>558.899440</td>\n",
       "      <td>0.124959</td>\n",
       "      <td>0.182673</td>\n",
       "      <td>0.166238</td>\n",
       "      <td>0.074444</td>\n",
       "      <td>0.270246</td>\n",
       "      <td>0.079442</td>\n",
       "    </tr>\n",
       "    <tr>\n",
       "      <th>std</th>\n",
       "      <td>0.0</td>\n",
       "      <td>1.780512</td>\n",
       "      <td>3.995125</td>\n",
       "      <td>11.807438</td>\n",
       "      <td>134.287118</td>\n",
       "      <td>0.013446</td>\n",
       "      <td>0.033750</td>\n",
       "      <td>0.043442</td>\n",
       "      <td>0.015909</td>\n",
       "      <td>0.024807</td>\n",
       "      <td>...</td>\n",
       "      <td>1.981368</td>\n",
       "      <td>5.493955</td>\n",
       "      <td>13.527091</td>\n",
       "      <td>163.601424</td>\n",
       "      <td>0.020013</td>\n",
       "      <td>0.092180</td>\n",
       "      <td>0.140368</td>\n",
       "      <td>0.035797</td>\n",
       "      <td>0.041745</td>\n",
       "      <td>0.013804</td>\n",
       "    </tr>\n",
       "    <tr>\n",
       "      <th>min</th>\n",
       "      <td>0.0</td>\n",
       "      <td>6.981000</td>\n",
       "      <td>9.710000</td>\n",
       "      <td>43.790000</td>\n",
       "      <td>143.500000</td>\n",
       "      <td>0.052630</td>\n",
       "      <td>0.019380</td>\n",
       "      <td>0.000000</td>\n",
       "      <td>0.000000</td>\n",
       "      <td>0.106000</td>\n",
       "      <td>...</td>\n",
       "      <td>7.930000</td>\n",
       "      <td>12.020000</td>\n",
       "      <td>50.410000</td>\n",
       "      <td>185.200000</td>\n",
       "      <td>0.071170</td>\n",
       "      <td>0.027290</td>\n",
       "      <td>0.000000</td>\n",
       "      <td>0.000000</td>\n",
       "      <td>0.156600</td>\n",
       "      <td>0.055210</td>\n",
       "    </tr>\n",
       "    <tr>\n",
       "      <th>25%</th>\n",
       "      <td>0.0</td>\n",
       "      <td>11.080000</td>\n",
       "      <td>15.150000</td>\n",
       "      <td>70.870000</td>\n",
       "      <td>378.200000</td>\n",
       "      <td>0.083060</td>\n",
       "      <td>0.055620</td>\n",
       "      <td>0.020310</td>\n",
       "      <td>0.015020</td>\n",
       "      <td>0.158000</td>\n",
       "      <td>...</td>\n",
       "      <td>12.080000</td>\n",
       "      <td>19.580000</td>\n",
       "      <td>78.270000</td>\n",
       "      <td>447.100000</td>\n",
       "      <td>0.110400</td>\n",
       "      <td>0.112000</td>\n",
       "      <td>0.077080</td>\n",
       "      <td>0.051040</td>\n",
       "      <td>0.240600</td>\n",
       "      <td>0.070090</td>\n",
       "    </tr>\n",
       "    <tr>\n",
       "      <th>50%</th>\n",
       "      <td>0.0</td>\n",
       "      <td>12.200000</td>\n",
       "      <td>17.390000</td>\n",
       "      <td>78.180000</td>\n",
       "      <td>458.400000</td>\n",
       "      <td>0.090760</td>\n",
       "      <td>0.075290</td>\n",
       "      <td>0.037090</td>\n",
       "      <td>0.023440</td>\n",
       "      <td>0.171400</td>\n",
       "      <td>...</td>\n",
       "      <td>13.350000</td>\n",
       "      <td>22.820000</td>\n",
       "      <td>86.920000</td>\n",
       "      <td>547.400000</td>\n",
       "      <td>0.125400</td>\n",
       "      <td>0.169800</td>\n",
       "      <td>0.141200</td>\n",
       "      <td>0.074310</td>\n",
       "      <td>0.268700</td>\n",
       "      <td>0.077120</td>\n",
       "    </tr>\n",
       "    <tr>\n",
       "      <th>75%</th>\n",
       "      <td>0.0</td>\n",
       "      <td>13.370000</td>\n",
       "      <td>19.760000</td>\n",
       "      <td>86.100000</td>\n",
       "      <td>551.100000</td>\n",
       "      <td>0.100700</td>\n",
       "      <td>0.097550</td>\n",
       "      <td>0.059990</td>\n",
       "      <td>0.032510</td>\n",
       "      <td>0.189000</td>\n",
       "      <td>...</td>\n",
       "      <td>14.800000</td>\n",
       "      <td>26.510000</td>\n",
       "      <td>96.590000</td>\n",
       "      <td>670.000000</td>\n",
       "      <td>0.137600</td>\n",
       "      <td>0.230200</td>\n",
       "      <td>0.221600</td>\n",
       "      <td>0.097490</td>\n",
       "      <td>0.298300</td>\n",
       "      <td>0.085410</td>\n",
       "    </tr>\n",
       "    <tr>\n",
       "      <th>max</th>\n",
       "      <td>0.0</td>\n",
       "      <td>17.850000</td>\n",
       "      <td>33.810000</td>\n",
       "      <td>114.600000</td>\n",
       "      <td>992.100000</td>\n",
       "      <td>0.163400</td>\n",
       "      <td>0.223900</td>\n",
       "      <td>0.410800</td>\n",
       "      <td>0.085340</td>\n",
       "      <td>0.274300</td>\n",
       "      <td>...</td>\n",
       "      <td>19.820000</td>\n",
       "      <td>41.780000</td>\n",
       "      <td>127.100000</td>\n",
       "      <td>1210.000000</td>\n",
       "      <td>0.200600</td>\n",
       "      <td>0.584900</td>\n",
       "      <td>1.252000</td>\n",
       "      <td>0.175000</td>\n",
       "      <td>0.422800</td>\n",
       "      <td>0.148600</td>\n",
       "    </tr>\n",
       "  </tbody>\n",
       "</table>\n",
       "<p>8 rows × 31 columns</p>\n",
       "</div>"
      ],
      "text/plain": [
       "       diagnosis  radius_mean  texture_mean  perimeter_mean   area_mean  \\\n",
       "count      357.0   357.000000    357.000000      357.000000  357.000000   \n",
       "mean         0.0    12.146524     17.914762       78.075406  462.790196   \n",
       "std          0.0     1.780512      3.995125       11.807438  134.287118   \n",
       "min          0.0     6.981000      9.710000       43.790000  143.500000   \n",
       "25%          0.0    11.080000     15.150000       70.870000  378.200000   \n",
       "50%          0.0    12.200000     17.390000       78.180000  458.400000   \n",
       "75%          0.0    13.370000     19.760000       86.100000  551.100000   \n",
       "max          0.0    17.850000     33.810000      114.600000  992.100000   \n",
       "\n",
       "       smoothness_mean  compactness_mean  concavity_mean  concave points_mean  \\\n",
       "count       357.000000        357.000000      357.000000           357.000000   \n",
       "mean          0.092478          0.080085        0.046058             0.025717   \n",
       "std           0.013446          0.033750        0.043442             0.015909   \n",
       "min           0.052630          0.019380        0.000000             0.000000   \n",
       "25%           0.083060          0.055620        0.020310             0.015020   \n",
       "50%           0.090760          0.075290        0.037090             0.023440   \n",
       "75%           0.100700          0.097550        0.059990             0.032510   \n",
       "max           0.163400          0.223900        0.410800             0.085340   \n",
       "\n",
       "       symmetry_mean           ...             radius_worst  texture_worst  \\\n",
       "count     357.000000           ...               357.000000     357.000000   \n",
       "mean        0.174186           ...                13.379801      23.515070   \n",
       "std         0.024807           ...                 1.981368       5.493955   \n",
       "min         0.106000           ...                 7.930000      12.020000   \n",
       "25%         0.158000           ...                12.080000      19.580000   \n",
       "50%         0.171400           ...                13.350000      22.820000   \n",
       "75%         0.189000           ...                14.800000      26.510000   \n",
       "max         0.274300           ...                19.820000      41.780000   \n",
       "\n",
       "       perimeter_worst   area_worst  smoothness_worst  compactness_worst  \\\n",
       "count       357.000000   357.000000        357.000000         357.000000   \n",
       "mean         87.005938   558.899440          0.124959           0.182673   \n",
       "std          13.527091   163.601424          0.020013           0.092180   \n",
       "min          50.410000   185.200000          0.071170           0.027290   \n",
       "25%          78.270000   447.100000          0.110400           0.112000   \n",
       "50%          86.920000   547.400000          0.125400           0.169800   \n",
       "75%          96.590000   670.000000          0.137600           0.230200   \n",
       "max         127.100000  1210.000000          0.200600           0.584900   \n",
       "\n",
       "       concavity_worst  concave points_worst  symmetry_worst  \\\n",
       "count       357.000000            357.000000      357.000000   \n",
       "mean          0.166238              0.074444        0.270246   \n",
       "std           0.140368              0.035797        0.041745   \n",
       "min           0.000000              0.000000        0.156600   \n",
       "25%           0.077080              0.051040        0.240600   \n",
       "50%           0.141200              0.074310        0.268700   \n",
       "75%           0.221600              0.097490        0.298300   \n",
       "max           1.252000              0.175000        0.422800   \n",
       "\n",
       "       fractal_dimension_worst  \n",
       "count               357.000000  \n",
       "mean                  0.079442  \n",
       "std                   0.013804  \n",
       "min                   0.055210  \n",
       "25%                   0.070090  \n",
       "50%                   0.077120  \n",
       "75%                   0.085410  \n",
       "max                   0.148600  \n",
       "\n",
       "[8 rows x 31 columns]"
      ]
     },
     "execution_count": 80,
     "metadata": {},
     "output_type": "execute_result"
    }
   ],
   "source": [
    "data_benign.describe()"
   ]
  },
  {
   "cell_type": "code",
   "execution_count": 392,
   "metadata": {},
   "outputs": [
    {
     "data": {
      "text/html": [
       "<div>\n",
       "<style>\n",
       "    .dataframe thead tr:only-child th {\n",
       "        text-align: right;\n",
       "    }\n",
       "\n",
       "    .dataframe thead th {\n",
       "        text-align: left;\n",
       "    }\n",
       "\n",
       "    .dataframe tbody tr th {\n",
       "        vertical-align: top;\n",
       "    }\n",
       "</style>\n",
       "<table border=\"1\" class=\"dataframe\">\n",
       "  <thead>\n",
       "    <tr style=\"text-align: right;\">\n",
       "      <th></th>\n",
       "      <th>diagnosis</th>\n",
       "      <th>radius_mean</th>\n",
       "      <th>texture_mean</th>\n",
       "      <th>perimeter_mean</th>\n",
       "      <th>area_mean</th>\n",
       "      <th>smoothness_mean</th>\n",
       "      <th>compactness_mean</th>\n",
       "      <th>concavity_mean</th>\n",
       "      <th>concave points_mean</th>\n",
       "      <th>symmetry_mean</th>\n",
       "      <th>...</th>\n",
       "      <th>radius_worst</th>\n",
       "      <th>texture_worst</th>\n",
       "      <th>perimeter_worst</th>\n",
       "      <th>area_worst</th>\n",
       "      <th>smoothness_worst</th>\n",
       "      <th>compactness_worst</th>\n",
       "      <th>concavity_worst</th>\n",
       "      <th>concave points_worst</th>\n",
       "      <th>symmetry_worst</th>\n",
       "      <th>fractal_dimension_worst</th>\n",
       "    </tr>\n",
       "  </thead>\n",
       "  <tbody>\n",
       "    <tr>\n",
       "      <th>count</th>\n",
       "      <td>-145.0</td>\n",
       "      <td>-145.000000</td>\n",
       "      <td>-145.000000</td>\n",
       "      <td>-145.000000</td>\n",
       "      <td>-145.000000</td>\n",
       "      <td>-145.000000</td>\n",
       "      <td>-145.000000</td>\n",
       "      <td>-145.000000</td>\n",
       "      <td>-145.000000</td>\n",
       "      <td>-145.000000</td>\n",
       "      <td>...</td>\n",
       "      <td>-145.000000</td>\n",
       "      <td>-145.000000</td>\n",
       "      <td>-145.000000</td>\n",
       "      <td>-145.000000</td>\n",
       "      <td>-145.000000</td>\n",
       "      <td>-145.000000</td>\n",
       "      <td>-145.000000</td>\n",
       "      <td>-145.000000</td>\n",
       "      <td>-145.000000</td>\n",
       "      <td>-145.000000</td>\n",
       "    </tr>\n",
       "    <tr>\n",
       "      <th>mean</th>\n",
       "      <td>1.0</td>\n",
       "      <td>5.316306</td>\n",
       "      <td>3.690144</td>\n",
       "      <td>37.289971</td>\n",
       "      <td>515.586219</td>\n",
       "      <td>0.010421</td>\n",
       "      <td>0.065103</td>\n",
       "      <td>0.114717</td>\n",
       "      <td>0.062273</td>\n",
       "      <td>0.018723</td>\n",
       "      <td>...</td>\n",
       "      <td>7.755010</td>\n",
       "      <td>5.803138</td>\n",
       "      <td>54.364392</td>\n",
       "      <td>863.386881</td>\n",
       "      <td>0.019886</td>\n",
       "      <td>0.192152</td>\n",
       "      <td>0.284368</td>\n",
       "      <td>0.107793</td>\n",
       "      <td>0.053222</td>\n",
       "      <td>0.012088</td>\n",
       "    </tr>\n",
       "    <tr>\n",
       "      <th>std</th>\n",
       "      <td>0.0</td>\n",
       "      <td>1.423459</td>\n",
       "      <td>-0.215655</td>\n",
       "      <td>10.047216</td>\n",
       "      <td>233.650859</td>\n",
       "      <td>-0.000838</td>\n",
       "      <td>0.020238</td>\n",
       "      <td>0.031577</td>\n",
       "      <td>0.018465</td>\n",
       "      <td>0.002831</td>\n",
       "      <td>...</td>\n",
       "      <td>2.302202</td>\n",
       "      <td>-0.059150</td>\n",
       "      <td>15.929964</td>\n",
       "      <td>434.366319</td>\n",
       "      <td>0.001856</td>\n",
       "      <td>0.078192</td>\n",
       "      <td>0.041139</td>\n",
       "      <td>0.010510</td>\n",
       "      <td>0.032940</td>\n",
       "      <td>0.007749</td>\n",
       "    </tr>\n",
       "    <tr>\n",
       "      <th>min</th>\n",
       "      <td>1.0</td>\n",
       "      <td>3.969000</td>\n",
       "      <td>0.670000</td>\n",
       "      <td>28.110000</td>\n",
       "      <td>218.100000</td>\n",
       "      <td>0.021080</td>\n",
       "      <td>0.026670</td>\n",
       "      <td>0.023980</td>\n",
       "      <td>0.020310</td>\n",
       "      <td>0.024800</td>\n",
       "      <td>...</td>\n",
       "      <td>4.910000</td>\n",
       "      <td>4.650000</td>\n",
       "      <td>34.690000</td>\n",
       "      <td>322.900000</td>\n",
       "      <td>0.017050</td>\n",
       "      <td>0.024020</td>\n",
       "      <td>0.023980</td>\n",
       "      <td>0.028990</td>\n",
       "      <td>-0.000100</td>\n",
       "      <td>-0.000170</td>\n",
       "    </tr>\n",
       "    <tr>\n",
       "      <th>25%</th>\n",
       "      <td>1.0</td>\n",
       "      <td>3.995000</td>\n",
       "      <td>4.177500</td>\n",
       "      <td>27.875000</td>\n",
       "      <td>327.100000</td>\n",
       "      <td>0.010950</td>\n",
       "      <td>0.053980</td>\n",
       "      <td>0.089215</td>\n",
       "      <td>0.049600</td>\n",
       "      <td>0.016050</td>\n",
       "      <td>...</td>\n",
       "      <td>5.650000</td>\n",
       "      <td>6.202500</td>\n",
       "      <td>41.055000</td>\n",
       "      <td>523.200000</td>\n",
       "      <td>0.020075</td>\n",
       "      <td>0.132475</td>\n",
       "      <td>0.249345</td>\n",
       "      <td>0.101710</td>\n",
       "      <td>0.035900</td>\n",
       "      <td>0.006212</td>\n",
       "    </tr>\n",
       "    <tr>\n",
       "      <th>50%</th>\n",
       "      <td>1.0</td>\n",
       "      <td>5.125000</td>\n",
       "      <td>4.070000</td>\n",
       "      <td>36.020000</td>\n",
       "      <td>473.600000</td>\n",
       "      <td>0.011440</td>\n",
       "      <td>0.057060</td>\n",
       "      <td>0.114260</td>\n",
       "      <td>0.062840</td>\n",
       "      <td>0.018500</td>\n",
       "      <td>...</td>\n",
       "      <td>7.240000</td>\n",
       "      <td>6.125000</td>\n",
       "      <td>51.080000</td>\n",
       "      <td>755.600000</td>\n",
       "      <td>0.018050</td>\n",
       "      <td>0.186550</td>\n",
       "      <td>0.263700</td>\n",
       "      <td>0.107690</td>\n",
       "      <td>0.041600</td>\n",
       "      <td>0.010480</td>\n",
       "    </tr>\n",
       "    <tr>\n",
       "      <th>75%</th>\n",
       "      <td>1.0</td>\n",
       "      <td>6.220000</td>\n",
       "      <td>4.005000</td>\n",
       "      <td>43.825000</td>\n",
       "      <td>652.650000</td>\n",
       "      <td>0.010225</td>\n",
       "      <td>0.074850</td>\n",
       "      <td>0.143060</td>\n",
       "      <td>0.070665</td>\n",
       "      <td>0.020850</td>\n",
       "      <td>...</td>\n",
       "      <td>9.007500</td>\n",
       "      <td>6.180000</td>\n",
       "      <td>63.210000</td>\n",
       "      <td>1042.750000</td>\n",
       "      <td>0.018375</td>\n",
       "      <td>0.217650</td>\n",
       "      <td>0.334575</td>\n",
       "      <td>0.113185</td>\n",
       "      <td>0.060925</td>\n",
       "      <td>0.017215</td>\n",
       "    </tr>\n",
       "    <tr>\n",
       "      <th>max</th>\n",
       "      <td>1.0</td>\n",
       "      <td>10.260000</td>\n",
       "      <td>5.470000</td>\n",
       "      <td>73.900000</td>\n",
       "      <td>1508.900000</td>\n",
       "      <td>-0.018700</td>\n",
       "      <td>0.121500</td>\n",
       "      <td>0.016000</td>\n",
       "      <td>0.115860</td>\n",
       "      <td>0.029700</td>\n",
       "      <td>...</td>\n",
       "      <td>16.220000</td>\n",
       "      <td>7.760000</td>\n",
       "      <td>124.100000</td>\n",
       "      <td>3044.000000</td>\n",
       "      <td>0.022000</td>\n",
       "      <td>0.473100</td>\n",
       "      <td>-0.082000</td>\n",
       "      <td>0.116000</td>\n",
       "      <td>0.241000</td>\n",
       "      <td>0.058900</td>\n",
       "    </tr>\n",
       "  </tbody>\n",
       "</table>\n",
       "<p>8 rows × 31 columns</p>\n",
       "</div>"
      ],
      "text/plain": [
       "       diagnosis  radius_mean  texture_mean  perimeter_mean    area_mean  \\\n",
       "count     -145.0  -145.000000   -145.000000     -145.000000  -145.000000   \n",
       "mean         1.0     5.316306      3.690144       37.289971   515.586219   \n",
       "std          0.0     1.423459     -0.215655       10.047216   233.650859   \n",
       "min          1.0     3.969000      0.670000       28.110000   218.100000   \n",
       "25%          1.0     3.995000      4.177500       27.875000   327.100000   \n",
       "50%          1.0     5.125000      4.070000       36.020000   473.600000   \n",
       "75%          1.0     6.220000      4.005000       43.825000   652.650000   \n",
       "max          1.0    10.260000      5.470000       73.900000  1508.900000   \n",
       "\n",
       "       smoothness_mean  compactness_mean  concavity_mean  concave points_mean  \\\n",
       "count      -145.000000       -145.000000     -145.000000          -145.000000   \n",
       "mean          0.010421          0.065103        0.114717             0.062273   \n",
       "std          -0.000838          0.020238        0.031577             0.018465   \n",
       "min           0.021080          0.026670        0.023980             0.020310   \n",
       "25%           0.010950          0.053980        0.089215             0.049600   \n",
       "50%           0.011440          0.057060        0.114260             0.062840   \n",
       "75%           0.010225          0.074850        0.143060             0.070665   \n",
       "max          -0.018700          0.121500        0.016000             0.115860   \n",
       "\n",
       "       symmetry_mean           ...             radius_worst  texture_worst  \\\n",
       "count    -145.000000           ...              -145.000000    -145.000000   \n",
       "mean        0.018723           ...                 7.755010       5.803138   \n",
       "std         0.002831           ...                 2.302202      -0.059150   \n",
       "min         0.024800           ...                 4.910000       4.650000   \n",
       "25%         0.016050           ...                 5.650000       6.202500   \n",
       "50%         0.018500           ...                 7.240000       6.125000   \n",
       "75%         0.020850           ...                 9.007500       6.180000   \n",
       "max         0.029700           ...                16.220000       7.760000   \n",
       "\n",
       "       perimeter_worst   area_worst  smoothness_worst  compactness_worst  \\\n",
       "count      -145.000000  -145.000000       -145.000000        -145.000000   \n",
       "mean         54.364392   863.386881          0.019886           0.192152   \n",
       "std          15.929964   434.366319          0.001856           0.078192   \n",
       "min          34.690000   322.900000          0.017050           0.024020   \n",
       "25%          41.055000   523.200000          0.020075           0.132475   \n",
       "50%          51.080000   755.600000          0.018050           0.186550   \n",
       "75%          63.210000  1042.750000          0.018375           0.217650   \n",
       "max         124.100000  3044.000000          0.022000           0.473100   \n",
       "\n",
       "       concavity_worst  concave points_worst  symmetry_worst  \\\n",
       "count      -145.000000           -145.000000     -145.000000   \n",
       "mean          0.284368              0.107793        0.053222   \n",
       "std           0.041139              0.010510        0.032940   \n",
       "min           0.023980              0.028990       -0.000100   \n",
       "25%           0.249345              0.101710        0.035900   \n",
       "50%           0.263700              0.107690        0.041600   \n",
       "75%           0.334575              0.113185        0.060925   \n",
       "max          -0.082000              0.116000        0.241000   \n",
       "\n",
       "       fractal_dimension_worst  \n",
       "count              -145.000000  \n",
       "mean                  0.012088  \n",
       "std                   0.007749  \n",
       "min                  -0.000170  \n",
       "25%                   0.006212  \n",
       "50%                   0.010480  \n",
       "75%                   0.017215  \n",
       "max                   0.058900  \n",
       "\n",
       "[8 rows x 31 columns]"
      ]
     },
     "execution_count": 392,
     "metadata": {},
     "output_type": "execute_result"
    }
   ],
   "source": [
    "# Print difference between the stats of the two classes\n",
    "data_diff = data_malignant.describe() - data_benign.describe()\n",
    "data_diff"
   ]
  },
  {
   "cell_type": "code",
   "execution_count": 394,
   "metadata": {},
   "outputs": [
    {
     "data": {
      "text/html": [
       "<div>\n",
       "<style>\n",
       "    .dataframe thead tr:only-child th {\n",
       "        text-align: right;\n",
       "    }\n",
       "\n",
       "    .dataframe thead th {\n",
       "        text-align: left;\n",
       "    }\n",
       "\n",
       "    .dataframe tbody tr th {\n",
       "        vertical-align: top;\n",
       "    }\n",
       "</style>\n",
       "<table border=\"1\" class=\"dataframe\">\n",
       "  <thead>\n",
       "    <tr style=\"text-align: right;\">\n",
       "      <th></th>\n",
       "      <th>diagnosis</th>\n",
       "      <th>radius_mean</th>\n",
       "      <th>texture_mean</th>\n",
       "      <th>perimeter_mean</th>\n",
       "      <th>area_mean</th>\n",
       "      <th>smoothness_mean</th>\n",
       "      <th>compactness_mean</th>\n",
       "      <th>concavity_mean</th>\n",
       "      <th>concave points_mean</th>\n",
       "      <th>symmetry_mean</th>\n",
       "      <th>fractal_dimension_mean</th>\n",
       "      <th>radius_se</th>\n",
       "      <th>texture_se</th>\n",
       "      <th>perimeter_se</th>\n",
       "      <th>area_se</th>\n",
       "      <th>smoothness_se</th>\n",
       "      <th>compactness_se</th>\n",
       "      <th>concavity_se</th>\n",
       "      <th>concave points_se</th>\n",
       "      <th>symmetry_se</th>\n",
       "      <th>fractal_dimension_se</th>\n",
       "      <th>radius_worst</th>\n",
       "      <th>texture_worst</th>\n",
       "      <th>perimeter_worst</th>\n",
       "      <th>area_worst</th>\n",
       "      <th>smoothness_worst</th>\n",
       "      <th>compactness_worst</th>\n",
       "      <th>concavity_worst</th>\n",
       "      <th>concave points_worst</th>\n",
       "      <th>symmetry_worst</th>\n",
       "      <th>fractal_dimension_worst</th>\n",
       "    </tr>\n",
       "  </thead>\n",
       "  <tbody>\n",
       "    <tr>\n",
       "      <th>count</th>\n",
       "      <td>40.616246</td>\n",
       "      <td>40.616246</td>\n",
       "      <td>40.616246</td>\n",
       "      <td>40.616246</td>\n",
       "      <td>40.616246</td>\n",
       "      <td>40.616246</td>\n",
       "      <td>40.616246</td>\n",
       "      <td>40.616246</td>\n",
       "      <td>40.616246</td>\n",
       "      <td>40.616246</td>\n",
       "      <td>40.616246</td>\n",
       "      <td>40.616246</td>\n",
       "      <td>40.616246</td>\n",
       "      <td>40.616246</td>\n",
       "      <td>40.616246</td>\n",
       "      <td>40.616246</td>\n",
       "      <td>40.616246</td>\n",
       "      <td>40.616246</td>\n",
       "      <td>40.616246</td>\n",
       "      <td>40.616246</td>\n",
       "      <td>40.616246</td>\n",
       "      <td>40.616246</td>\n",
       "      <td>40.616246</td>\n",
       "      <td>40.616246</td>\n",
       "      <td>40.616246</td>\n",
       "      <td>40.616246</td>\n",
       "      <td>40.616246</td>\n",
       "      <td>40.616246</td>\n",
       "      <td>40.616246</td>\n",
       "      <td>40.616246</td>\n",
       "      <td>40.616246</td>\n",
       "    </tr>\n",
       "    <tr>\n",
       "      <th>mean</th>\n",
       "      <td>inf</td>\n",
       "      <td>43.768130</td>\n",
       "      <td>20.598341</td>\n",
       "      <td>47.761482</td>\n",
       "      <td>111.408198</td>\n",
       "      <td>11.268500</td>\n",
       "      <td>81.292962</td>\n",
       "      <td>249.072995</td>\n",
       "      <td>242.141814</td>\n",
       "      <td>10.748837</td>\n",
       "      <td>0.297930</td>\n",
       "      <td>114.403514</td>\n",
       "      <td>0.775618</td>\n",
       "      <td>116.161737</td>\n",
       "      <td>243.846204</td>\n",
       "      <td>5.778395</td>\n",
       "      <td>50.577451</td>\n",
       "      <td>60.881774</td>\n",
       "      <td>52.779492</td>\n",
       "      <td>0.541230</td>\n",
       "      <td>11.725753</td>\n",
       "      <td>57.960579</td>\n",
       "      <td>24.678377</td>\n",
       "      <td>62.483542</td>\n",
       "      <td>154.479826</td>\n",
       "      <td>15.913749</td>\n",
       "      <td>105.189070</td>\n",
       "      <td>171.060959</td>\n",
       "      <td>144.796717</td>\n",
       "      <td>19.693908</td>\n",
       "      <td>15.215968</td>\n",
       "    </tr>\n",
       "    <tr>\n",
       "      <th>std</th>\n",
       "      <td>NaN</td>\n",
       "      <td>79.946652</td>\n",
       "      <td>5.397946</td>\n",
       "      <td>85.092262</td>\n",
       "      <td>173.993502</td>\n",
       "      <td>6.231125</td>\n",
       "      <td>59.963164</td>\n",
       "      <td>72.687876</td>\n",
       "      <td>116.068815</td>\n",
       "      <td>11.413559</td>\n",
       "      <td>12.241444</td>\n",
       "      <td>206.511310</td>\n",
       "      <td>17.991395</td>\n",
       "      <td>233.071607</td>\n",
       "      <td>593.791625</td>\n",
       "      <td>5.560321</td>\n",
       "      <td>12.449483</td>\n",
       "      <td>34.372461</td>\n",
       "      <td>3.350408</td>\n",
       "      <td>43.814143</td>\n",
       "      <td>30.519203</td>\n",
       "      <td>116.192569</td>\n",
       "      <td>1.076646</td>\n",
       "      <td>117.763416</td>\n",
       "      <td>265.502774</td>\n",
       "      <td>9.275601</td>\n",
       "      <td>84.825366</td>\n",
       "      <td>29.308003</td>\n",
       "      <td>29.360859</td>\n",
       "      <td>78.908549</td>\n",
       "      <td>56.134585</td>\n",
       "    </tr>\n",
       "    <tr>\n",
       "      <th>min</th>\n",
       "      <td>inf</td>\n",
       "      <td>56.854319</td>\n",
       "      <td>6.900103</td>\n",
       "      <td>64.192738</td>\n",
       "      <td>151.986063</td>\n",
       "      <td>40.053202</td>\n",
       "      <td>137.616099</td>\n",
       "      <td>inf</td>\n",
       "      <td>inf</td>\n",
       "      <td>23.396226</td>\n",
       "      <td>3.645130</td>\n",
       "      <td>73.811659</td>\n",
       "      <td>0.527485</td>\n",
       "      <td>76.221929</td>\n",
       "      <td>105.674802</td>\n",
       "      <td>55.691769</td>\n",
       "      <td>273.978686</td>\n",
       "      <td>inf</td>\n",
       "      <td>inf</td>\n",
       "      <td>17.370794</td>\n",
       "      <td>21.479660</td>\n",
       "      <td>61.916772</td>\n",
       "      <td>38.685524</td>\n",
       "      <td>68.815711</td>\n",
       "      <td>174.352052</td>\n",
       "      <td>23.956723</td>\n",
       "      <td>88.017589</td>\n",
       "      <td>inf</td>\n",
       "      <td>inf</td>\n",
       "      <td>0.063857</td>\n",
       "      <td>0.307915</td>\n",
       "    </tr>\n",
       "    <tr>\n",
       "      <th>25%</th>\n",
       "      <td>inf</td>\n",
       "      <td>36.055957</td>\n",
       "      <td>27.574257</td>\n",
       "      <td>39.332581</td>\n",
       "      <td>86.488630</td>\n",
       "      <td>13.183241</td>\n",
       "      <td>97.051420</td>\n",
       "      <td>439.266371</td>\n",
       "      <td>330.226365</td>\n",
       "      <td>10.158228</td>\n",
       "      <td>3.301726</td>\n",
       "      <td>88.314038</td>\n",
       "      <td>12.178037</td>\n",
       "      <td>87.923875</td>\n",
       "      <td>134.354522</td>\n",
       "      <td>2.441481</td>\n",
       "      <td>73.696996</td>\n",
       "      <td>145.655141</td>\n",
       "      <td>77.444427</td>\n",
       "      <td>6.314103</td>\n",
       "      <td>29.616683</td>\n",
       "      <td>46.771523</td>\n",
       "      <td>31.677732</td>\n",
       "      <td>52.453047</td>\n",
       "      <td>117.020801</td>\n",
       "      <td>18.183877</td>\n",
       "      <td>118.281250</td>\n",
       "      <td>323.488583</td>\n",
       "      <td>199.275078</td>\n",
       "      <td>14.921031</td>\n",
       "      <td>8.863604</td>\n",
       "    </tr>\n",
       "    <tr>\n",
       "      <th>50%</th>\n",
       "      <td>inf</td>\n",
       "      <td>42.008197</td>\n",
       "      <td>23.404255</td>\n",
       "      <td>46.073164</td>\n",
       "      <td>103.315881</td>\n",
       "      <td>12.604672</td>\n",
       "      <td>75.786957</td>\n",
       "      <td>308.061472</td>\n",
       "      <td>268.088737</td>\n",
       "      <td>10.793466</td>\n",
       "      <td>0.056874</td>\n",
       "      <td>112.504854</td>\n",
       "      <td>0.496390</td>\n",
       "      <td>98.784441</td>\n",
       "      <td>197.784004</td>\n",
       "      <td>4.908116</td>\n",
       "      <td>75.291232</td>\n",
       "      <td>101.766304</td>\n",
       "      <td>56.770776</td>\n",
       "      <td>7.281299</td>\n",
       "      <td>33.173077</td>\n",
       "      <td>54.232210</td>\n",
       "      <td>26.840491</td>\n",
       "      <td>58.766682</td>\n",
       "      <td>138.034344</td>\n",
       "      <td>14.393939</td>\n",
       "      <td>109.864547</td>\n",
       "      <td>186.756374</td>\n",
       "      <td>144.919930</td>\n",
       "      <td>15.481950</td>\n",
       "      <td>13.589212</td>\n",
       "    </tr>\n",
       "    <tr>\n",
       "      <th>75%</th>\n",
       "      <td>inf</td>\n",
       "      <td>46.522064</td>\n",
       "      <td>20.268219</td>\n",
       "      <td>50.900116</td>\n",
       "      <td>118.426783</td>\n",
       "      <td>10.153923</td>\n",
       "      <td>76.729882</td>\n",
       "      <td>238.473079</td>\n",
       "      <td>217.363888</td>\n",
       "      <td>11.031746</td>\n",
       "      <td>1.999696</td>\n",
       "      <td>121.692037</td>\n",
       "      <td>4.205764</td>\n",
       "      <td>118.017169</td>\n",
       "      <td>275.549341</td>\n",
       "      <td>6.597141</td>\n",
       "      <td>50.289687</td>\n",
       "      <td>65.060537</td>\n",
       "      <td>47.409436</td>\n",
       "      <td>8.011222</td>\n",
       "      <td>17.207714</td>\n",
       "      <td>60.861486</td>\n",
       "      <td>23.311958</td>\n",
       "      <td>65.441557</td>\n",
       "      <td>155.634328</td>\n",
       "      <td>13.353924</td>\n",
       "      <td>94.548219</td>\n",
       "      <td>150.981498</td>\n",
       "      <td>116.099087</td>\n",
       "      <td>20.424070</td>\n",
       "      <td>20.155719</td>\n",
       "    </tr>\n",
       "    <tr>\n",
       "      <th>max</th>\n",
       "      <td>inf</td>\n",
       "      <td>57.478992</td>\n",
       "      <td>16.178645</td>\n",
       "      <td>64.485166</td>\n",
       "      <td>152.091523</td>\n",
       "      <td>11.444308</td>\n",
       "      <td>54.265297</td>\n",
       "      <td>3.894839</td>\n",
       "      <td>135.762831</td>\n",
       "      <td>10.827561</td>\n",
       "      <td>1.765013</td>\n",
       "      <td>226.069686</td>\n",
       "      <td>26.960082</td>\n",
       "      <td>329.464635</td>\n",
       "      <td>603.151342</td>\n",
       "      <td>42.994947</td>\n",
       "      <td>27.255639</td>\n",
       "      <td>63.686869</td>\n",
       "      <td>22.523205</td>\n",
       "      <td>28.457533</td>\n",
       "      <td>56.970509</td>\n",
       "      <td>81.836529</td>\n",
       "      <td>18.573480</td>\n",
       "      <td>97.639654</td>\n",
       "      <td>251.570248</td>\n",
       "      <td>10.967099</td>\n",
       "      <td>80.885621</td>\n",
       "      <td>6.549521</td>\n",
       "      <td>66.285714</td>\n",
       "      <td>57.000946</td>\n",
       "      <td>39.636608</td>\n",
       "    </tr>\n",
       "  </tbody>\n",
       "</table>\n",
       "</div>"
      ],
      "text/plain": [
       "       diagnosis  radius_mean  texture_mean  perimeter_mean   area_mean  \\\n",
       "count  40.616246    40.616246     40.616246       40.616246   40.616246   \n",
       "mean         inf    43.768130     20.598341       47.761482  111.408198   \n",
       "std          NaN    79.946652      5.397946       85.092262  173.993502   \n",
       "min          inf    56.854319      6.900103       64.192738  151.986063   \n",
       "25%          inf    36.055957     27.574257       39.332581   86.488630   \n",
       "50%          inf    42.008197     23.404255       46.073164  103.315881   \n",
       "75%          inf    46.522064     20.268219       50.900116  118.426783   \n",
       "max          inf    57.478992     16.178645       64.485166  152.091523   \n",
       "\n",
       "       smoothness_mean  compactness_mean  concavity_mean  concave points_mean  \\\n",
       "count        40.616246         40.616246       40.616246            40.616246   \n",
       "mean         11.268500         81.292962      249.072995           242.141814   \n",
       "std           6.231125         59.963164       72.687876           116.068815   \n",
       "min          40.053202        137.616099             inf                  inf   \n",
       "25%          13.183241         97.051420      439.266371           330.226365   \n",
       "50%          12.604672         75.786957      308.061472           268.088737   \n",
       "75%          10.153923         76.729882      238.473079           217.363888   \n",
       "max          11.444308         54.265297        3.894839           135.762831   \n",
       "\n",
       "       symmetry_mean  fractal_dimension_mean   radius_se  texture_se  \\\n",
       "count      40.616246               40.616246   40.616246   40.616246   \n",
       "mean       10.748837                0.297930  114.403514    0.775618   \n",
       "std        11.413559               12.241444  206.511310   17.991395   \n",
       "min        23.396226                3.645130   73.811659    0.527485   \n",
       "25%        10.158228                3.301726   88.314038   12.178037   \n",
       "50%        10.793466                0.056874  112.504854    0.496390   \n",
       "75%        11.031746                1.999696  121.692037    4.205764   \n",
       "max        10.827561                1.765013  226.069686   26.960082   \n",
       "\n",
       "       perimeter_se     area_se  smoothness_se  compactness_se  concavity_se  \\\n",
       "count     40.616246   40.616246      40.616246       40.616246     40.616246   \n",
       "mean     116.161737  243.846204       5.778395       50.577451     60.881774   \n",
       "std      233.071607  593.791625       5.560321       12.449483     34.372461   \n",
       "min       76.221929  105.674802      55.691769      273.978686           inf   \n",
       "25%       87.923875  134.354522       2.441481       73.696996    145.655141   \n",
       "50%       98.784441  197.784004       4.908116       75.291232    101.766304   \n",
       "75%      118.017169  275.549341       6.597141       50.289687     65.060537   \n",
       "max      329.464635  603.151342      42.994947       27.255639     63.686869   \n",
       "\n",
       "       concave points_se  symmetry_se  fractal_dimension_se  radius_worst  \\\n",
       "count          40.616246    40.616246             40.616246     40.616246   \n",
       "mean           52.779492     0.541230             11.725753     57.960579   \n",
       "std             3.350408    43.814143             30.519203    116.192569   \n",
       "min                  inf    17.370794             21.479660     61.916772   \n",
       "25%            77.444427     6.314103             29.616683     46.771523   \n",
       "50%            56.770776     7.281299             33.173077     54.232210   \n",
       "75%            47.409436     8.011222             17.207714     60.861486   \n",
       "max            22.523205    28.457533             56.970509     81.836529   \n",
       "\n",
       "       texture_worst  perimeter_worst  area_worst  smoothness_worst  \\\n",
       "count      40.616246        40.616246   40.616246         40.616246   \n",
       "mean       24.678377        62.483542  154.479826         15.913749   \n",
       "std         1.076646       117.763416  265.502774          9.275601   \n",
       "min        38.685524        68.815711  174.352052         23.956723   \n",
       "25%        31.677732        52.453047  117.020801         18.183877   \n",
       "50%        26.840491        58.766682  138.034344         14.393939   \n",
       "75%        23.311958        65.441557  155.634328         13.353924   \n",
       "max        18.573480        97.639654  251.570248         10.967099   \n",
       "\n",
       "       compactness_worst  concavity_worst  concave points_worst  \\\n",
       "count          40.616246        40.616246             40.616246   \n",
       "mean          105.189070       171.060959            144.796717   \n",
       "std            84.825366        29.308003             29.360859   \n",
       "min            88.017589              inf                   inf   \n",
       "25%           118.281250       323.488583            199.275078   \n",
       "50%           109.864547       186.756374            144.919930   \n",
       "75%            94.548219       150.981498            116.099087   \n",
       "max            80.885621         6.549521             66.285714   \n",
       "\n",
       "       symmetry_worst  fractal_dimension_worst  \n",
       "count       40.616246                40.616246  \n",
       "mean        19.693908                15.215968  \n",
       "std         78.908549                56.134585  \n",
       "min          0.063857                 0.307915  \n",
       "25%         14.921031                 8.863604  \n",
       "50%         15.481950                13.589212  \n",
       "75%         20.424070                20.155719  \n",
       "max         57.000946                39.636608  "
      ]
     },
     "execution_count": 394,
     "metadata": {},
     "output_type": "execute_result"
    }
   ],
   "source": [
    "# Get the difference as a percentage with respect to the benign stats\n",
    "data_diff_percent = abs(data_diff) / data_benign.describe() * 100\n",
    "data_diff_percent"
   ]
  },
  {
   "cell_type": "code",
   "execution_count": 418,
   "metadata": {},
   "outputs": [
    {
     "data": {
      "text/html": [
       "<div>\n",
       "<style>\n",
       "    .dataframe thead tr:only-child th {\n",
       "        text-align: right;\n",
       "    }\n",
       "\n",
       "    .dataframe thead th {\n",
       "        text-align: left;\n",
       "    }\n",
       "\n",
       "    .dataframe tbody tr th {\n",
       "        vertical-align: top;\n",
       "    }\n",
       "</style>\n",
       "<table border=\"1\" class=\"dataframe\">\n",
       "  <thead>\n",
       "    <tr style=\"text-align: right;\">\n",
       "      <th></th>\n",
       "      <th>diagnosis</th>\n",
       "      <th>concavity_mean</th>\n",
       "      <th>area_se</th>\n",
       "      <th>concave points_mean</th>\n",
       "      <th>concavity_worst</th>\n",
       "      <th>area_worst</th>\n",
       "      <th>concave points_worst</th>\n",
       "      <th>perimeter_se</th>\n",
       "      <th>radius_se</th>\n",
       "      <th>area_mean</th>\n",
       "      <th>compactness_worst</th>\n",
       "      <th>compactness_mean</th>\n",
       "      <th>perimeter_worst</th>\n",
       "      <th>concavity_se</th>\n",
       "      <th>radius_worst</th>\n",
       "      <th>concave points_se</th>\n",
       "      <th>compactness_se</th>\n",
       "      <th>perimeter_mean</th>\n",
       "      <th>radius_mean</th>\n",
       "      <th>texture_worst</th>\n",
       "      <th>texture_mean</th>\n",
       "      <th>symmetry_worst</th>\n",
       "      <th>smoothness_worst</th>\n",
       "      <th>fractal_dimension_worst</th>\n",
       "      <th>fractal_dimension_se</th>\n",
       "      <th>smoothness_mean</th>\n",
       "      <th>symmetry_mean</th>\n",
       "      <th>smoothness_se</th>\n",
       "      <th>texture_se</th>\n",
       "      <th>symmetry_se</th>\n",
       "      <th>fractal_dimension_mean</th>\n",
       "    </tr>\n",
       "  </thead>\n",
       "  <tbody>\n",
       "    <tr>\n",
       "      <th>count</th>\n",
       "      <td>40.616246</td>\n",
       "      <td>40.616246</td>\n",
       "      <td>40.616246</td>\n",
       "      <td>40.616246</td>\n",
       "      <td>40.616246</td>\n",
       "      <td>40.616246</td>\n",
       "      <td>40.616246</td>\n",
       "      <td>40.616246</td>\n",
       "      <td>40.616246</td>\n",
       "      <td>40.616246</td>\n",
       "      <td>40.616246</td>\n",
       "      <td>40.616246</td>\n",
       "      <td>40.616246</td>\n",
       "      <td>40.616246</td>\n",
       "      <td>40.616246</td>\n",
       "      <td>40.616246</td>\n",
       "      <td>40.616246</td>\n",
       "      <td>40.616246</td>\n",
       "      <td>40.616246</td>\n",
       "      <td>40.616246</td>\n",
       "      <td>40.616246</td>\n",
       "      <td>40.616246</td>\n",
       "      <td>40.616246</td>\n",
       "      <td>40.616246</td>\n",
       "      <td>40.616246</td>\n",
       "      <td>40.616246</td>\n",
       "      <td>40.616246</td>\n",
       "      <td>40.616246</td>\n",
       "      <td>40.616246</td>\n",
       "      <td>40.616246</td>\n",
       "      <td>40.616246</td>\n",
       "    </tr>\n",
       "    <tr>\n",
       "      <th>mean</th>\n",
       "      <td>inf</td>\n",
       "      <td>249.072995</td>\n",
       "      <td>243.846204</td>\n",
       "      <td>242.141814</td>\n",
       "      <td>171.060959</td>\n",
       "      <td>154.479826</td>\n",
       "      <td>144.796717</td>\n",
       "      <td>116.161737</td>\n",
       "      <td>114.403514</td>\n",
       "      <td>111.408198</td>\n",
       "      <td>105.189070</td>\n",
       "      <td>81.292962</td>\n",
       "      <td>62.483542</td>\n",
       "      <td>60.881774</td>\n",
       "      <td>57.960579</td>\n",
       "      <td>52.779492</td>\n",
       "      <td>50.577451</td>\n",
       "      <td>47.761482</td>\n",
       "      <td>43.768130</td>\n",
       "      <td>24.678377</td>\n",
       "      <td>20.598341</td>\n",
       "      <td>19.693908</td>\n",
       "      <td>15.913749</td>\n",
       "      <td>15.215968</td>\n",
       "      <td>11.725753</td>\n",
       "      <td>11.268500</td>\n",
       "      <td>10.748837</td>\n",
       "      <td>5.778395</td>\n",
       "      <td>0.775618</td>\n",
       "      <td>0.541230</td>\n",
       "      <td>0.297930</td>\n",
       "    </tr>\n",
       "    <tr>\n",
       "      <th>std</th>\n",
       "      <td>NaN</td>\n",
       "      <td>72.687876</td>\n",
       "      <td>593.791625</td>\n",
       "      <td>116.068815</td>\n",
       "      <td>29.308003</td>\n",
       "      <td>265.502774</td>\n",
       "      <td>29.360859</td>\n",
       "      <td>233.071607</td>\n",
       "      <td>206.511310</td>\n",
       "      <td>173.993502</td>\n",
       "      <td>84.825366</td>\n",
       "      <td>59.963164</td>\n",
       "      <td>117.763416</td>\n",
       "      <td>34.372461</td>\n",
       "      <td>116.192569</td>\n",
       "      <td>3.350408</td>\n",
       "      <td>12.449483</td>\n",
       "      <td>85.092262</td>\n",
       "      <td>79.946652</td>\n",
       "      <td>1.076646</td>\n",
       "      <td>5.397946</td>\n",
       "      <td>78.908549</td>\n",
       "      <td>9.275601</td>\n",
       "      <td>56.134585</td>\n",
       "      <td>30.519203</td>\n",
       "      <td>6.231125</td>\n",
       "      <td>11.413559</td>\n",
       "      <td>5.560321</td>\n",
       "      <td>17.991395</td>\n",
       "      <td>43.814143</td>\n",
       "      <td>12.241444</td>\n",
       "    </tr>\n",
       "    <tr>\n",
       "      <th>min</th>\n",
       "      <td>inf</td>\n",
       "      <td>inf</td>\n",
       "      <td>105.674802</td>\n",
       "      <td>inf</td>\n",
       "      <td>inf</td>\n",
       "      <td>174.352052</td>\n",
       "      <td>inf</td>\n",
       "      <td>76.221929</td>\n",
       "      <td>73.811659</td>\n",
       "      <td>151.986063</td>\n",
       "      <td>88.017589</td>\n",
       "      <td>137.616099</td>\n",
       "      <td>68.815711</td>\n",
       "      <td>inf</td>\n",
       "      <td>61.916772</td>\n",
       "      <td>inf</td>\n",
       "      <td>273.978686</td>\n",
       "      <td>64.192738</td>\n",
       "      <td>56.854319</td>\n",
       "      <td>38.685524</td>\n",
       "      <td>6.900103</td>\n",
       "      <td>0.063857</td>\n",
       "      <td>23.956723</td>\n",
       "      <td>0.307915</td>\n",
       "      <td>21.479660</td>\n",
       "      <td>40.053202</td>\n",
       "      <td>23.396226</td>\n",
       "      <td>55.691769</td>\n",
       "      <td>0.527485</td>\n",
       "      <td>17.370794</td>\n",
       "      <td>3.645130</td>\n",
       "    </tr>\n",
       "    <tr>\n",
       "      <th>25%</th>\n",
       "      <td>inf</td>\n",
       "      <td>439.266371</td>\n",
       "      <td>134.354522</td>\n",
       "      <td>330.226365</td>\n",
       "      <td>323.488583</td>\n",
       "      <td>117.020801</td>\n",
       "      <td>199.275078</td>\n",
       "      <td>87.923875</td>\n",
       "      <td>88.314038</td>\n",
       "      <td>86.488630</td>\n",
       "      <td>118.281250</td>\n",
       "      <td>97.051420</td>\n",
       "      <td>52.453047</td>\n",
       "      <td>145.655141</td>\n",
       "      <td>46.771523</td>\n",
       "      <td>77.444427</td>\n",
       "      <td>73.696996</td>\n",
       "      <td>39.332581</td>\n",
       "      <td>36.055957</td>\n",
       "      <td>31.677732</td>\n",
       "      <td>27.574257</td>\n",
       "      <td>14.921031</td>\n",
       "      <td>18.183877</td>\n",
       "      <td>8.863604</td>\n",
       "      <td>29.616683</td>\n",
       "      <td>13.183241</td>\n",
       "      <td>10.158228</td>\n",
       "      <td>2.441481</td>\n",
       "      <td>12.178037</td>\n",
       "      <td>6.314103</td>\n",
       "      <td>3.301726</td>\n",
       "    </tr>\n",
       "    <tr>\n",
       "      <th>50%</th>\n",
       "      <td>inf</td>\n",
       "      <td>308.061472</td>\n",
       "      <td>197.784004</td>\n",
       "      <td>268.088737</td>\n",
       "      <td>186.756374</td>\n",
       "      <td>138.034344</td>\n",
       "      <td>144.919930</td>\n",
       "      <td>98.784441</td>\n",
       "      <td>112.504854</td>\n",
       "      <td>103.315881</td>\n",
       "      <td>109.864547</td>\n",
       "      <td>75.786957</td>\n",
       "      <td>58.766682</td>\n",
       "      <td>101.766304</td>\n",
       "      <td>54.232210</td>\n",
       "      <td>56.770776</td>\n",
       "      <td>75.291232</td>\n",
       "      <td>46.073164</td>\n",
       "      <td>42.008197</td>\n",
       "      <td>26.840491</td>\n",
       "      <td>23.404255</td>\n",
       "      <td>15.481950</td>\n",
       "      <td>14.393939</td>\n",
       "      <td>13.589212</td>\n",
       "      <td>33.173077</td>\n",
       "      <td>12.604672</td>\n",
       "      <td>10.793466</td>\n",
       "      <td>4.908116</td>\n",
       "      <td>0.496390</td>\n",
       "      <td>7.281299</td>\n",
       "      <td>0.056874</td>\n",
       "    </tr>\n",
       "    <tr>\n",
       "      <th>75%</th>\n",
       "      <td>inf</td>\n",
       "      <td>238.473079</td>\n",
       "      <td>275.549341</td>\n",
       "      <td>217.363888</td>\n",
       "      <td>150.981498</td>\n",
       "      <td>155.634328</td>\n",
       "      <td>116.099087</td>\n",
       "      <td>118.017169</td>\n",
       "      <td>121.692037</td>\n",
       "      <td>118.426783</td>\n",
       "      <td>94.548219</td>\n",
       "      <td>76.729882</td>\n",
       "      <td>65.441557</td>\n",
       "      <td>65.060537</td>\n",
       "      <td>60.861486</td>\n",
       "      <td>47.409436</td>\n",
       "      <td>50.289687</td>\n",
       "      <td>50.900116</td>\n",
       "      <td>46.522064</td>\n",
       "      <td>23.311958</td>\n",
       "      <td>20.268219</td>\n",
       "      <td>20.424070</td>\n",
       "      <td>13.353924</td>\n",
       "      <td>20.155719</td>\n",
       "      <td>17.207714</td>\n",
       "      <td>10.153923</td>\n",
       "      <td>11.031746</td>\n",
       "      <td>6.597141</td>\n",
       "      <td>4.205764</td>\n",
       "      <td>8.011222</td>\n",
       "      <td>1.999696</td>\n",
       "    </tr>\n",
       "    <tr>\n",
       "      <th>max</th>\n",
       "      <td>inf</td>\n",
       "      <td>3.894839</td>\n",
       "      <td>603.151342</td>\n",
       "      <td>135.762831</td>\n",
       "      <td>6.549521</td>\n",
       "      <td>251.570248</td>\n",
       "      <td>66.285714</td>\n",
       "      <td>329.464635</td>\n",
       "      <td>226.069686</td>\n",
       "      <td>152.091523</td>\n",
       "      <td>80.885621</td>\n",
       "      <td>54.265297</td>\n",
       "      <td>97.639654</td>\n",
       "      <td>63.686869</td>\n",
       "      <td>81.836529</td>\n",
       "      <td>22.523205</td>\n",
       "      <td>27.255639</td>\n",
       "      <td>64.485166</td>\n",
       "      <td>57.478992</td>\n",
       "      <td>18.573480</td>\n",
       "      <td>16.178645</td>\n",
       "      <td>57.000946</td>\n",
       "      <td>10.967099</td>\n",
       "      <td>39.636608</td>\n",
       "      <td>56.970509</td>\n",
       "      <td>11.444308</td>\n",
       "      <td>10.827561</td>\n",
       "      <td>42.994947</td>\n",
       "      <td>26.960082</td>\n",
       "      <td>28.457533</td>\n",
       "      <td>1.765013</td>\n",
       "    </tr>\n",
       "  </tbody>\n",
       "</table>\n",
       "</div>"
      ],
      "text/plain": [
       "       diagnosis  concavity_mean     area_se  concave points_mean  \\\n",
       "count  40.616246       40.616246   40.616246            40.616246   \n",
       "mean         inf      249.072995  243.846204           242.141814   \n",
       "std          NaN       72.687876  593.791625           116.068815   \n",
       "min          inf             inf  105.674802                  inf   \n",
       "25%          inf      439.266371  134.354522           330.226365   \n",
       "50%          inf      308.061472  197.784004           268.088737   \n",
       "75%          inf      238.473079  275.549341           217.363888   \n",
       "max          inf        3.894839  603.151342           135.762831   \n",
       "\n",
       "       concavity_worst  area_worst  concave points_worst  perimeter_se  \\\n",
       "count        40.616246   40.616246             40.616246     40.616246   \n",
       "mean        171.060959  154.479826            144.796717    116.161737   \n",
       "std          29.308003  265.502774             29.360859    233.071607   \n",
       "min                inf  174.352052                   inf     76.221929   \n",
       "25%         323.488583  117.020801            199.275078     87.923875   \n",
       "50%         186.756374  138.034344            144.919930     98.784441   \n",
       "75%         150.981498  155.634328            116.099087    118.017169   \n",
       "max           6.549521  251.570248             66.285714    329.464635   \n",
       "\n",
       "        radius_se   area_mean  compactness_worst  compactness_mean  \\\n",
       "count   40.616246   40.616246          40.616246         40.616246   \n",
       "mean   114.403514  111.408198         105.189070         81.292962   \n",
       "std    206.511310  173.993502          84.825366         59.963164   \n",
       "min     73.811659  151.986063          88.017589        137.616099   \n",
       "25%     88.314038   86.488630         118.281250         97.051420   \n",
       "50%    112.504854  103.315881         109.864547         75.786957   \n",
       "75%    121.692037  118.426783          94.548219         76.729882   \n",
       "max    226.069686  152.091523          80.885621         54.265297   \n",
       "\n",
       "       perimeter_worst  concavity_se  radius_worst  concave points_se  \\\n",
       "count        40.616246     40.616246     40.616246          40.616246   \n",
       "mean         62.483542     60.881774     57.960579          52.779492   \n",
       "std         117.763416     34.372461    116.192569           3.350408   \n",
       "min          68.815711           inf     61.916772                inf   \n",
       "25%          52.453047    145.655141     46.771523          77.444427   \n",
       "50%          58.766682    101.766304     54.232210          56.770776   \n",
       "75%          65.441557     65.060537     60.861486          47.409436   \n",
       "max          97.639654     63.686869     81.836529          22.523205   \n",
       "\n",
       "       compactness_se  perimeter_mean  radius_mean  texture_worst  \\\n",
       "count       40.616246       40.616246    40.616246      40.616246   \n",
       "mean        50.577451       47.761482    43.768130      24.678377   \n",
       "std         12.449483       85.092262    79.946652       1.076646   \n",
       "min        273.978686       64.192738    56.854319      38.685524   \n",
       "25%         73.696996       39.332581    36.055957      31.677732   \n",
       "50%         75.291232       46.073164    42.008197      26.840491   \n",
       "75%         50.289687       50.900116    46.522064      23.311958   \n",
       "max         27.255639       64.485166    57.478992      18.573480   \n",
       "\n",
       "       texture_mean  symmetry_worst  smoothness_worst  \\\n",
       "count     40.616246       40.616246         40.616246   \n",
       "mean      20.598341       19.693908         15.913749   \n",
       "std        5.397946       78.908549          9.275601   \n",
       "min        6.900103        0.063857         23.956723   \n",
       "25%       27.574257       14.921031         18.183877   \n",
       "50%       23.404255       15.481950         14.393939   \n",
       "75%       20.268219       20.424070         13.353924   \n",
       "max       16.178645       57.000946         10.967099   \n",
       "\n",
       "       fractal_dimension_worst  fractal_dimension_se  smoothness_mean  \\\n",
       "count                40.616246             40.616246        40.616246   \n",
       "mean                 15.215968             11.725753        11.268500   \n",
       "std                  56.134585             30.519203         6.231125   \n",
       "min                   0.307915             21.479660        40.053202   \n",
       "25%                   8.863604             29.616683        13.183241   \n",
       "50%                  13.589212             33.173077        12.604672   \n",
       "75%                  20.155719             17.207714        10.153923   \n",
       "max                  39.636608             56.970509        11.444308   \n",
       "\n",
       "       symmetry_mean  smoothness_se  texture_se  symmetry_se  \\\n",
       "count      40.616246      40.616246   40.616246    40.616246   \n",
       "mean       10.748837       5.778395    0.775618     0.541230   \n",
       "std        11.413559       5.560321   17.991395    43.814143   \n",
       "min        23.396226      55.691769    0.527485    17.370794   \n",
       "25%        10.158228       2.441481   12.178037     6.314103   \n",
       "50%        10.793466       4.908116    0.496390     7.281299   \n",
       "75%        11.031746       6.597141    4.205764     8.011222   \n",
       "max        10.827561      42.994947   26.960082    28.457533   \n",
       "\n",
       "       fractal_dimension_mean  \n",
       "count               40.616246  \n",
       "mean                 0.297930  \n",
       "std                 12.241444  \n",
       "min                  3.645130  \n",
       "25%                  3.301726  \n",
       "50%                  0.056874  \n",
       "75%                  1.999696  \n",
       "max                  1.765013  "
      ]
     },
     "execution_count": 418,
     "metadata": {},
     "output_type": "execute_result"
    }
   ],
   "source": [
    "# Sort result with respect to the mean\n",
    "data_diff_percent_sorted = data_diff_percent.sort_values(by=['mean'], axis=1, ascending=0)\n",
    "data_diff_percent_sorted"
   ]
  },
  {
   "cell_type": "code",
   "execution_count": 419,
   "metadata": {},
   "outputs": [
    {
     "data": {
      "text/html": [
       "<div>\n",
       "<style>\n",
       "    .dataframe thead tr:only-child th {\n",
       "        text-align: right;\n",
       "    }\n",
       "\n",
       "    .dataframe thead th {\n",
       "        text-align: left;\n",
       "    }\n",
       "\n",
       "    .dataframe tbody tr th {\n",
       "        vertical-align: top;\n",
       "    }\n",
       "</style>\n",
       "<table border=\"1\" class=\"dataframe\">\n",
       "  <thead>\n",
       "    <tr style=\"text-align: right;\">\n",
       "      <th></th>\n",
       "      <th>diagnosis</th>\n",
       "      <th>concavity_mean</th>\n",
       "      <th>concave points_mean</th>\n",
       "      <th>area_se</th>\n",
       "      <th>concavity_worst</th>\n",
       "      <th>concave points_worst</th>\n",
       "      <th>area_worst</th>\n",
       "      <th>radius_se</th>\n",
       "      <th>compactness_worst</th>\n",
       "      <th>area_mean</th>\n",
       "      <th>concavity_se</th>\n",
       "      <th>perimeter_se</th>\n",
       "      <th>compactness_mean</th>\n",
       "      <th>compactness_se</th>\n",
       "      <th>perimeter_worst</th>\n",
       "      <th>concave points_se</th>\n",
       "      <th>radius_worst</th>\n",
       "      <th>perimeter_mean</th>\n",
       "      <th>radius_mean</th>\n",
       "      <th>fractal_dimension_se</th>\n",
       "      <th>texture_worst</th>\n",
       "      <th>texture_mean</th>\n",
       "      <th>symmetry_worst</th>\n",
       "      <th>smoothness_worst</th>\n",
       "      <th>fractal_dimension_worst</th>\n",
       "      <th>smoothness_mean</th>\n",
       "      <th>symmetry_mean</th>\n",
       "      <th>symmetry_se</th>\n",
       "      <th>smoothness_se</th>\n",
       "      <th>texture_se</th>\n",
       "      <th>fractal_dimension_mean</th>\n",
       "    </tr>\n",
       "  </thead>\n",
       "  <tbody>\n",
       "    <tr>\n",
       "      <th>count</th>\n",
       "      <td>40.616246</td>\n",
       "      <td>40.616246</td>\n",
       "      <td>40.616246</td>\n",
       "      <td>40.616246</td>\n",
       "      <td>40.616246</td>\n",
       "      <td>40.616246</td>\n",
       "      <td>40.616246</td>\n",
       "      <td>40.616246</td>\n",
       "      <td>40.616246</td>\n",
       "      <td>40.616246</td>\n",
       "      <td>40.616246</td>\n",
       "      <td>40.616246</td>\n",
       "      <td>40.616246</td>\n",
       "      <td>40.616246</td>\n",
       "      <td>40.616246</td>\n",
       "      <td>40.616246</td>\n",
       "      <td>40.616246</td>\n",
       "      <td>40.616246</td>\n",
       "      <td>40.616246</td>\n",
       "      <td>40.616246</td>\n",
       "      <td>40.616246</td>\n",
       "      <td>40.616246</td>\n",
       "      <td>40.616246</td>\n",
       "      <td>40.616246</td>\n",
       "      <td>40.616246</td>\n",
       "      <td>40.616246</td>\n",
       "      <td>40.616246</td>\n",
       "      <td>40.616246</td>\n",
       "      <td>40.616246</td>\n",
       "      <td>40.616246</td>\n",
       "      <td>40.616246</td>\n",
       "    </tr>\n",
       "    <tr>\n",
       "      <th>mean</th>\n",
       "      <td>inf</td>\n",
       "      <td>249.072995</td>\n",
       "      <td>242.141814</td>\n",
       "      <td>243.846204</td>\n",
       "      <td>171.060959</td>\n",
       "      <td>144.796717</td>\n",
       "      <td>154.479826</td>\n",
       "      <td>114.403514</td>\n",
       "      <td>105.189070</td>\n",
       "      <td>111.408198</td>\n",
       "      <td>60.881774</td>\n",
       "      <td>116.161737</td>\n",
       "      <td>81.292962</td>\n",
       "      <td>50.577451</td>\n",
       "      <td>62.483542</td>\n",
       "      <td>52.779492</td>\n",
       "      <td>57.960579</td>\n",
       "      <td>47.761482</td>\n",
       "      <td>43.768130</td>\n",
       "      <td>11.725753</td>\n",
       "      <td>24.678377</td>\n",
       "      <td>20.598341</td>\n",
       "      <td>19.693908</td>\n",
       "      <td>15.913749</td>\n",
       "      <td>15.215968</td>\n",
       "      <td>11.268500</td>\n",
       "      <td>10.748837</td>\n",
       "      <td>0.541230</td>\n",
       "      <td>5.778395</td>\n",
       "      <td>0.775618</td>\n",
       "      <td>0.297930</td>\n",
       "    </tr>\n",
       "    <tr>\n",
       "      <th>std</th>\n",
       "      <td>NaN</td>\n",
       "      <td>72.687876</td>\n",
       "      <td>116.068815</td>\n",
       "      <td>593.791625</td>\n",
       "      <td>29.308003</td>\n",
       "      <td>29.360859</td>\n",
       "      <td>265.502774</td>\n",
       "      <td>206.511310</td>\n",
       "      <td>84.825366</td>\n",
       "      <td>173.993502</td>\n",
       "      <td>34.372461</td>\n",
       "      <td>233.071607</td>\n",
       "      <td>59.963164</td>\n",
       "      <td>12.449483</td>\n",
       "      <td>117.763416</td>\n",
       "      <td>3.350408</td>\n",
       "      <td>116.192569</td>\n",
       "      <td>85.092262</td>\n",
       "      <td>79.946652</td>\n",
       "      <td>30.519203</td>\n",
       "      <td>1.076646</td>\n",
       "      <td>5.397946</td>\n",
       "      <td>78.908549</td>\n",
       "      <td>9.275601</td>\n",
       "      <td>56.134585</td>\n",
       "      <td>6.231125</td>\n",
       "      <td>11.413559</td>\n",
       "      <td>43.814143</td>\n",
       "      <td>5.560321</td>\n",
       "      <td>17.991395</td>\n",
       "      <td>12.241444</td>\n",
       "    </tr>\n",
       "    <tr>\n",
       "      <th>min</th>\n",
       "      <td>inf</td>\n",
       "      <td>inf</td>\n",
       "      <td>inf</td>\n",
       "      <td>105.674802</td>\n",
       "      <td>inf</td>\n",
       "      <td>inf</td>\n",
       "      <td>174.352052</td>\n",
       "      <td>73.811659</td>\n",
       "      <td>88.017589</td>\n",
       "      <td>151.986063</td>\n",
       "      <td>inf</td>\n",
       "      <td>76.221929</td>\n",
       "      <td>137.616099</td>\n",
       "      <td>273.978686</td>\n",
       "      <td>68.815711</td>\n",
       "      <td>inf</td>\n",
       "      <td>61.916772</td>\n",
       "      <td>64.192738</td>\n",
       "      <td>56.854319</td>\n",
       "      <td>21.479660</td>\n",
       "      <td>38.685524</td>\n",
       "      <td>6.900103</td>\n",
       "      <td>0.063857</td>\n",
       "      <td>23.956723</td>\n",
       "      <td>0.307915</td>\n",
       "      <td>40.053202</td>\n",
       "      <td>23.396226</td>\n",
       "      <td>17.370794</td>\n",
       "      <td>55.691769</td>\n",
       "      <td>0.527485</td>\n",
       "      <td>3.645130</td>\n",
       "    </tr>\n",
       "    <tr>\n",
       "      <th>25%</th>\n",
       "      <td>inf</td>\n",
       "      <td>439.266371</td>\n",
       "      <td>330.226365</td>\n",
       "      <td>134.354522</td>\n",
       "      <td>323.488583</td>\n",
       "      <td>199.275078</td>\n",
       "      <td>117.020801</td>\n",
       "      <td>88.314038</td>\n",
       "      <td>118.281250</td>\n",
       "      <td>86.488630</td>\n",
       "      <td>145.655141</td>\n",
       "      <td>87.923875</td>\n",
       "      <td>97.051420</td>\n",
       "      <td>73.696996</td>\n",
       "      <td>52.453047</td>\n",
       "      <td>77.444427</td>\n",
       "      <td>46.771523</td>\n",
       "      <td>39.332581</td>\n",
       "      <td>36.055957</td>\n",
       "      <td>29.616683</td>\n",
       "      <td>31.677732</td>\n",
       "      <td>27.574257</td>\n",
       "      <td>14.921031</td>\n",
       "      <td>18.183877</td>\n",
       "      <td>8.863604</td>\n",
       "      <td>13.183241</td>\n",
       "      <td>10.158228</td>\n",
       "      <td>6.314103</td>\n",
       "      <td>2.441481</td>\n",
       "      <td>12.178037</td>\n",
       "      <td>3.301726</td>\n",
       "    </tr>\n",
       "    <tr>\n",
       "      <th>50%</th>\n",
       "      <td>inf</td>\n",
       "      <td>308.061472</td>\n",
       "      <td>268.088737</td>\n",
       "      <td>197.784004</td>\n",
       "      <td>186.756374</td>\n",
       "      <td>144.919930</td>\n",
       "      <td>138.034344</td>\n",
       "      <td>112.504854</td>\n",
       "      <td>109.864547</td>\n",
       "      <td>103.315881</td>\n",
       "      <td>101.766304</td>\n",
       "      <td>98.784441</td>\n",
       "      <td>75.786957</td>\n",
       "      <td>75.291232</td>\n",
       "      <td>58.766682</td>\n",
       "      <td>56.770776</td>\n",
       "      <td>54.232210</td>\n",
       "      <td>46.073164</td>\n",
       "      <td>42.008197</td>\n",
       "      <td>33.173077</td>\n",
       "      <td>26.840491</td>\n",
       "      <td>23.404255</td>\n",
       "      <td>15.481950</td>\n",
       "      <td>14.393939</td>\n",
       "      <td>13.589212</td>\n",
       "      <td>12.604672</td>\n",
       "      <td>10.793466</td>\n",
       "      <td>7.281299</td>\n",
       "      <td>4.908116</td>\n",
       "      <td>0.496390</td>\n",
       "      <td>0.056874</td>\n",
       "    </tr>\n",
       "    <tr>\n",
       "      <th>75%</th>\n",
       "      <td>inf</td>\n",
       "      <td>238.473079</td>\n",
       "      <td>217.363888</td>\n",
       "      <td>275.549341</td>\n",
       "      <td>150.981498</td>\n",
       "      <td>116.099087</td>\n",
       "      <td>155.634328</td>\n",
       "      <td>121.692037</td>\n",
       "      <td>94.548219</td>\n",
       "      <td>118.426783</td>\n",
       "      <td>65.060537</td>\n",
       "      <td>118.017169</td>\n",
       "      <td>76.729882</td>\n",
       "      <td>50.289687</td>\n",
       "      <td>65.441557</td>\n",
       "      <td>47.409436</td>\n",
       "      <td>60.861486</td>\n",
       "      <td>50.900116</td>\n",
       "      <td>46.522064</td>\n",
       "      <td>17.207714</td>\n",
       "      <td>23.311958</td>\n",
       "      <td>20.268219</td>\n",
       "      <td>20.424070</td>\n",
       "      <td>13.353924</td>\n",
       "      <td>20.155719</td>\n",
       "      <td>10.153923</td>\n",
       "      <td>11.031746</td>\n",
       "      <td>8.011222</td>\n",
       "      <td>6.597141</td>\n",
       "      <td>4.205764</td>\n",
       "      <td>1.999696</td>\n",
       "    </tr>\n",
       "    <tr>\n",
       "      <th>max</th>\n",
       "      <td>inf</td>\n",
       "      <td>3.894839</td>\n",
       "      <td>135.762831</td>\n",
       "      <td>603.151342</td>\n",
       "      <td>6.549521</td>\n",
       "      <td>66.285714</td>\n",
       "      <td>251.570248</td>\n",
       "      <td>226.069686</td>\n",
       "      <td>80.885621</td>\n",
       "      <td>152.091523</td>\n",
       "      <td>63.686869</td>\n",
       "      <td>329.464635</td>\n",
       "      <td>54.265297</td>\n",
       "      <td>27.255639</td>\n",
       "      <td>97.639654</td>\n",
       "      <td>22.523205</td>\n",
       "      <td>81.836529</td>\n",
       "      <td>64.485166</td>\n",
       "      <td>57.478992</td>\n",
       "      <td>56.970509</td>\n",
       "      <td>18.573480</td>\n",
       "      <td>16.178645</td>\n",
       "      <td>57.000946</td>\n",
       "      <td>10.967099</td>\n",
       "      <td>39.636608</td>\n",
       "      <td>11.444308</td>\n",
       "      <td>10.827561</td>\n",
       "      <td>28.457533</td>\n",
       "      <td>42.994947</td>\n",
       "      <td>26.960082</td>\n",
       "      <td>1.765013</td>\n",
       "    </tr>\n",
       "  </tbody>\n",
       "</table>\n",
       "</div>"
      ],
      "text/plain": [
       "       diagnosis  concavity_mean  concave points_mean     area_se  \\\n",
       "count  40.616246       40.616246            40.616246   40.616246   \n",
       "mean         inf      249.072995           242.141814  243.846204   \n",
       "std          NaN       72.687876           116.068815  593.791625   \n",
       "min          inf             inf                  inf  105.674802   \n",
       "25%          inf      439.266371           330.226365  134.354522   \n",
       "50%          inf      308.061472           268.088737  197.784004   \n",
       "75%          inf      238.473079           217.363888  275.549341   \n",
       "max          inf        3.894839           135.762831  603.151342   \n",
       "\n",
       "       concavity_worst  concave points_worst  area_worst   radius_se  \\\n",
       "count        40.616246             40.616246   40.616246   40.616246   \n",
       "mean        171.060959            144.796717  154.479826  114.403514   \n",
       "std          29.308003             29.360859  265.502774  206.511310   \n",
       "min                inf                   inf  174.352052   73.811659   \n",
       "25%         323.488583            199.275078  117.020801   88.314038   \n",
       "50%         186.756374            144.919930  138.034344  112.504854   \n",
       "75%         150.981498            116.099087  155.634328  121.692037   \n",
       "max           6.549521             66.285714  251.570248  226.069686   \n",
       "\n",
       "       compactness_worst   area_mean  concavity_se  perimeter_se  \\\n",
       "count          40.616246   40.616246     40.616246     40.616246   \n",
       "mean          105.189070  111.408198     60.881774    116.161737   \n",
       "std            84.825366  173.993502     34.372461    233.071607   \n",
       "min            88.017589  151.986063           inf     76.221929   \n",
       "25%           118.281250   86.488630    145.655141     87.923875   \n",
       "50%           109.864547  103.315881    101.766304     98.784441   \n",
       "75%            94.548219  118.426783     65.060537    118.017169   \n",
       "max            80.885621  152.091523     63.686869    329.464635   \n",
       "\n",
       "       compactness_mean  compactness_se  perimeter_worst  concave points_se  \\\n",
       "count         40.616246       40.616246        40.616246          40.616246   \n",
       "mean          81.292962       50.577451        62.483542          52.779492   \n",
       "std           59.963164       12.449483       117.763416           3.350408   \n",
       "min          137.616099      273.978686        68.815711                inf   \n",
       "25%           97.051420       73.696996        52.453047          77.444427   \n",
       "50%           75.786957       75.291232        58.766682          56.770776   \n",
       "75%           76.729882       50.289687        65.441557          47.409436   \n",
       "max           54.265297       27.255639        97.639654          22.523205   \n",
       "\n",
       "       radius_worst  perimeter_mean  radius_mean  fractal_dimension_se  \\\n",
       "count     40.616246       40.616246    40.616246             40.616246   \n",
       "mean      57.960579       47.761482    43.768130             11.725753   \n",
       "std      116.192569       85.092262    79.946652             30.519203   \n",
       "min       61.916772       64.192738    56.854319             21.479660   \n",
       "25%       46.771523       39.332581    36.055957             29.616683   \n",
       "50%       54.232210       46.073164    42.008197             33.173077   \n",
       "75%       60.861486       50.900116    46.522064             17.207714   \n",
       "max       81.836529       64.485166    57.478992             56.970509   \n",
       "\n",
       "       texture_worst  texture_mean  symmetry_worst  smoothness_worst  \\\n",
       "count      40.616246     40.616246       40.616246         40.616246   \n",
       "mean       24.678377     20.598341       19.693908         15.913749   \n",
       "std         1.076646      5.397946       78.908549          9.275601   \n",
       "min        38.685524      6.900103        0.063857         23.956723   \n",
       "25%        31.677732     27.574257       14.921031         18.183877   \n",
       "50%        26.840491     23.404255       15.481950         14.393939   \n",
       "75%        23.311958     20.268219       20.424070         13.353924   \n",
       "max        18.573480     16.178645       57.000946         10.967099   \n",
       "\n",
       "       fractal_dimension_worst  smoothness_mean  symmetry_mean  symmetry_se  \\\n",
       "count                40.616246        40.616246      40.616246    40.616246   \n",
       "mean                 15.215968        11.268500      10.748837     0.541230   \n",
       "std                  56.134585         6.231125      11.413559    43.814143   \n",
       "min                   0.307915        40.053202      23.396226    17.370794   \n",
       "25%                   8.863604        13.183241      10.158228     6.314103   \n",
       "50%                  13.589212        12.604672      10.793466     7.281299   \n",
       "75%                  20.155719        10.153923      11.031746     8.011222   \n",
       "max                  39.636608        11.444308      10.827561    28.457533   \n",
       "\n",
       "       smoothness_se  texture_se  fractal_dimension_mean  \n",
       "count      40.616246   40.616246               40.616246  \n",
       "mean        5.778395    0.775618                0.297930  \n",
       "std         5.560321   17.991395               12.241444  \n",
       "min        55.691769    0.527485                3.645130  \n",
       "25%         2.441481   12.178037                3.301726  \n",
       "50%         4.908116    0.496390                0.056874  \n",
       "75%         6.597141    4.205764                1.999696  \n",
       "max        42.994947   26.960082                1.765013  "
      ]
     },
     "execution_count": 419,
     "metadata": {},
     "output_type": "execute_result"
    }
   ],
   "source": [
    "# Sort result with respect to the median\n",
    "data_diff_percent_sorted = data_diff_percent.sort_values(by=['50%'], axis=1, ascending=0)\n",
    "data_diff_percent_sorted"
   ]
  },
  {
   "cell_type": "code",
   "execution_count": 466,
   "metadata": {},
   "outputs": [
    {
     "data": {
      "text/plain": [
       "<matplotlib.legend.Legend at 0x10d735bd0>"
      ]
     },
     "execution_count": 466,
     "metadata": {},
     "output_type": "execute_result"
    },
    {
     "data": {
      "image/png": "[encoded data removed]",
      "text/plain": [
       "<matplotlib.figure.Figure at 0x10bfc4590>"
      ]
     },
     "metadata": {},
     "output_type": "display_data"
    }
   ],
   "source": [
    "# Plot distribution charts for each of the features in the two classes\n",
    "sns.distplot(data_benign['radius_mean'], kde=False, rug=True, label='benign');\n",
    "sns.distplot(data_malignant['radius_mean'], kde=False, rug=True, label='malignant');\n",
    "plt.legend()"
   ]
  },
  {
   "cell_type": "code",
   "execution_count": 470,
   "metadata": {},
   "outputs": [
    {
     "data": {
      "text/plain": [
       "<matplotlib.legend.Legend at 0x10d783450>"
      ]
     },
     "execution_count": 470,
     "metadata": {},
     "output_type": "execute_result"
    },
    {
     "data": {
      "image/png": "[encoded data removed]",
      "text/plain": [
       "<matplotlib.figure.Figure at 0x10cf27190>"
      ]
     },
     "metadata": {},
     "output_type": "display_data"
    }
   ],
   "source": [
    "sns.distplot(data_benign['texture_mean'], kde=False, rug=True, label='benign');\n",
    "sns.distplot(data_malignant['texture_mean'], kde=False, rug=True, label='malignant');\n",
    "plt.legend()"
   ]
  },
  {
   "cell_type": "code",
   "execution_count": 471,
   "metadata": {},
   "outputs": [
    {
     "data": {
      "text/plain": [
       "<matplotlib.legend.Legend at 0x10cbbd790>"
      ]
     },
     "execution_count": 471,
     "metadata": {},
     "output_type": "execute_result"
    },
    {
     "data": {
      "image/png": "[encoded data removed]",
      "text/plain": [
       "<matplotlib.figure.Figure at 0x10e6f0250>"
      ]
     },
     "metadata": {},
     "output_type": "display_data"
    }
   ],
   "source": [
    "sns.distplot(data_benign['perimeter_mean'], kde=False, rug=True, label='benign');\n",
    "sns.distplot(data_malignant['perimeter_mean'], kde=False, rug=True, label='malignant');\n",
    "plt.legend()"
   ]
  },
  {
   "cell_type": "code",
   "execution_count": 472,
   "metadata": {},
   "outputs": [
    {
     "data": {
      "text/plain": [
       "<matplotlib.legend.Legend at 0x10b917350>"
      ]
     },
     "execution_count": 472,
     "metadata": {},
     "output_type": "execute_result"
    },
    {
     "data": {
      "image/png": "[encoded data removed]",
      "text/plain": [
       "<matplotlib.figure.Figure at 0x10cb7a650>"
      ]
     },
     "metadata": {},
     "output_type": "display_data"
    }
   ],
   "source": [
    "sns.distplot(data_benign['area_mean'], kde=False, rug=True, label='benign');\n",
    "sns.distplot(data_malignant['area_mean'], kde=False, rug=True, label='malignant');\n",
    "plt.legend()"
   ]
  },
  {
   "cell_type": "code",
   "execution_count": 473,
   "metadata": {},
   "outputs": [
    {
     "data": {
      "text/plain": [
       "<matplotlib.legend.Legend at 0x10b846e10>"
      ]
     },
     "execution_count": 473,
     "metadata": {},
     "output_type": "execute_result"
    },
    {
     "data": {
      "image/png": "[encoded data removed]",
      "text/plain": [
       "<matplotlib.figure.Figure at 0x10ea1bb90>"
      ]
     },
     "metadata": {},
     "output_type": "display_data"
    }
   ],
   "source": [
    "sns.distplot(data_benign['smoothness_mean'], kde=False, rug=True, label='benign');\n",
    "sns.distplot(data_malignant['smoothness_mean'], kde=False, rug=True, label='malignant');\n",
    "plt.legend()"
   ]
  },
  {
   "cell_type": "code",
   "execution_count": 474,
   "metadata": {},
   "outputs": [
    {
     "data": {
      "text/plain": [
       "<matplotlib.legend.Legend at 0x10cbbd750>"
      ]
     },
     "execution_count": 474,
     "metadata": {},
     "output_type": "execute_result"
    },
    {
     "data": {
      "image/png": "[encoded data removed]",
      "text/plain": [
       "<matplotlib.figure.Figure at 0x10fa4a250>"
      ]
     },
     "metadata": {},
     "output_type": "display_data"
    }
   ],
   "source": [
    "sns.distplot(data_benign['compactness_mean'], kde=False, rug=True, label='benign');\n",
    "sns.distplot(data_malignant['compactness_mean'], kde=False, rug=True, label='malignant');\n",
    "plt.legend()"
   ]
  },
  {
   "cell_type": "code",
   "execution_count": 475,
   "metadata": {},
   "outputs": [
    {
     "data": {
      "text/plain": [
       "<matplotlib.legend.Legend at 0x10cfc5150>"
      ]
     },
     "execution_count": 475,
     "metadata": {},
     "output_type": "execute_result"
    },
    {
     "data": {
      "image/png": "[encoded data removed]",
      "text/plain": [
       "<matplotlib.figure.Figure at 0x1106d8e90>"
      ]
     },
     "metadata": {},
     "output_type": "display_data"
    }
   ],
   "source": [
    "sns.distplot(data_benign['concavity_mean'], kde=False, rug=True, label='benign');\n",
    "sns.distplot(data_malignant['concavity_mean'], kde=False, rug=True, label='malignant');\n",
    "plt.legend()"
   ]
  },
  {
   "cell_type": "code",
   "execution_count": 476,
   "metadata": {},
   "outputs": [
    {
     "data": {
      "text/plain": [
       "<matplotlib.legend.Legend at 0x10ced7f50>"
      ]
     },
     "execution_count": 476,
     "metadata": {},
     "output_type": "execute_result"
    },
    {
     "data": {
      "image/png": "[encoded data removed]",
      "text/plain": [
       "<matplotlib.figure.Figure at 0x111646450>"
      ]
     },
     "metadata": {},
     "output_type": "display_data"
    }
   ],
   "source": [
    "sns.distplot(data_benign['concave points_mean'], kde=False, rug=True, label='benign');\n",
    "sns.distplot(data_malignant['concave points_mean'], kde=False, rug=True, label='malignant');\n",
    "plt.legend()"
   ]
  },
  {
   "cell_type": "code",
   "execution_count": 477,
   "metadata": {},
   "outputs": [
    {
     "data": {
      "text/plain": [
       "<matplotlib.legend.Legend at 0x10f441ad0>"
      ]
     },
     "execution_count": 477,
     "metadata": {},
     "output_type": "execute_result"
    },
    {
     "data": {
      "image/png": "[encoded data removed]",
      "text/plain": [
       "<matplotlib.figure.Figure at 0x1123d48d0>"
      ]
     },
     "metadata": {},
     "output_type": "display_data"
    }
   ],
   "source": [
    "sns.distplot(data_benign['symmetry_mean'], kde=False, rug=True, label='benign');\n",
    "sns.distplot(data_malignant['symmetry_mean'], kde=False, rug=True, label='malignant');\n",
    "plt.legend()"
   ]
  },
  {
   "cell_type": "code",
   "execution_count": 478,
   "metadata": {},
   "outputs": [
    {
     "data": {
      "text/plain": [
       "<matplotlib.legend.Legend at 0x10ced7150>"
      ]
     },
     "execution_count": 478,
     "metadata": {},
     "output_type": "execute_result"
    },
    {
     "data": {
      "image/png": "[encoded data removed]",
      "text/plain": [
       "<matplotlib.figure.Figure at 0x113344810>"
      ]
     },
     "metadata": {},
     "output_type": "display_data"
    }
   ],
   "source": [
    "sns.distplot(data_benign['fractal_dimension_mean'], kde=False, rug=True, label='benign');\n",
    "sns.distplot(data_malignant['fractal_dimension_mean'], kde=False, rug=True, label='malignant');\n",
    "plt.legend()"
   ]
  },
  {
   "cell_type": "code",
   "execution_count": 479,
   "metadata": {},
   "outputs": [
    {
     "data": {
      "text/plain": [
       "<matplotlib.legend.Legend at 0x10ea36110>"
      ]
     },
     "execution_count": 479,
     "metadata": {},
     "output_type": "execute_result"
    },
    {
     "data": {
      "image/png": "[encoded data removed]",
      "text/plain": [
       "<matplotlib.figure.Figure at 0x1140918d0>"
      ]
     },
     "metadata": {},
     "output_type": "display_data"
    }
   ],
   "source": [
    "sns.distplot(data_benign['radius_se'], kde=False, rug=True, label='benign');\n",
    "sns.distplot(data_malignant['radius_se'], kde=False, rug=True, label='malignant');\n",
    "plt.legend()"
   ]
  },
  {
   "cell_type": "code",
   "execution_count": 480,
   "metadata": {},
   "outputs": [
    {
     "data": {
      "text/plain": [
       "<matplotlib.legend.Legend at 0x10cc09990>"
      ]
     },
     "execution_count": 480,
     "metadata": {},
     "output_type": "execute_result"
    },
    {
     "data": {
      "image/png": "[encoded data removed]",
      "text/plain": [
       "<matplotlib.figure.Figure at 0x114e9c8d0>"
      ]
     },
     "metadata": {},
     "output_type": "display_data"
    }
   ],
   "source": [
    "sns.distplot(data_benign['texture_se'], kde=False, rug=True, label='benign');\n",
    "sns.distplot(data_malignant['texture_se'], kde=False, rug=True, label='malignant');\n",
    "plt.legend()"
   ]
  },
  {
   "cell_type": "code",
   "execution_count": 481,
   "metadata": {},
   "outputs": [
    {
     "data": {
      "text/plain": [
       "<matplotlib.legend.Legend at 0x113279ad0>"
      ]
     },
     "execution_count": 481,
     "metadata": {},
     "output_type": "execute_result"
    },
    {
     "data": {
      "image/png": "[encoded data removed]",
      "text/plain": [
       "<matplotlib.figure.Figure at 0x115cb8e90>"
      ]
     },
     "metadata": {},
     "output_type": "display_data"
    }
   ],
   "source": [
    "sns.distplot(data_benign['perimeter_se'], kde=False, rug=True, label='benign');\n",
    "sns.distplot(data_malignant['perimeter_se'], kde=False, rug=True, label='malignant');\n",
    "plt.legend()"
   ]
  },
  {
   "cell_type": "code",
   "execution_count": 482,
   "metadata": {},
   "outputs": [
    {
     "data": {
      "text/plain": [
       "<matplotlib.legend.Legend at 0x112c50190>"
      ]
     },
     "execution_count": 482,
     "metadata": {},
     "output_type": "execute_result"
    },
    {
     "data": {
      "image/png": "[encoded data removed]",
      "text/plain": [
       "<matplotlib.figure.Figure at 0x116ad5890>"
      ]
     },
     "metadata": {},
     "output_type": "display_data"
    }
   ],
   "source": [
    "sns.distplot(data_benign['area_se'], kde=False, rug=True, label='benign');\n",
    "sns.distplot(data_malignant['area_se'], kde=False, rug=True, label='malignant');\n",
    "plt.legend()"
   ]
  },
  {
   "cell_type": "code",
   "execution_count": 483,
   "metadata": {},
   "outputs": [
    {
     "data": {
      "text/plain": [
       "<matplotlib.legend.Legend at 0x1123b4e50>"
      ]
     },
     "execution_count": 483,
     "metadata": {},
     "output_type": "execute_result"
    },
    {
     "data": {
      "image/png": "[encoded data removed]",
      "text/plain": [
       "<matplotlib.figure.Figure at 0x117935e10>"
      ]
     },
     "metadata": {},
     "output_type": "display_data"
    }
   ],
   "source": [
    "sns.distplot(data_benign['smoothness_se'], kde=False, rug=True, label='benign');\n",
    "sns.distplot(data_malignant['smoothness_se'], kde=False, rug=True, label='malignant');\n",
    "plt.legend()"
   ]
  },
  {
   "cell_type": "code",
   "execution_count": 484,
   "metadata": {},
   "outputs": [
    {
     "data": {
      "text/plain": [
       "<matplotlib.legend.Legend at 0x113289190>"
      ]
     },
     "execution_count": 484,
     "metadata": {},
     "output_type": "execute_result"
    },
    {
     "data": {
      "image/png": "[encoded data removed]",
      "text/plain": [
       "<matplotlib.figure.Figure at 0x11878f110>"
      ]
     },
     "metadata": {},
     "output_type": "display_data"
    }
   ],
   "source": [
    "sns.distplot(data_benign['compactness_se'], kde=False, rug=True, label='benign');\n",
    "sns.distplot(data_malignant['compactness_se'], kde=False, rug=True, label='malignant');\n",
    "plt.legend()"
   ]
  },
  {
   "cell_type": "code",
   "execution_count": 485,
   "metadata": {},
   "outputs": [
    {
     "data": {
      "text/plain": [
       "<matplotlib.legend.Legend at 0x114e7f1d0>"
      ]
     },
     "execution_count": 485,
     "metadata": {},
     "output_type": "execute_result"
    },
    {
     "data": {
      "image/png": "[encoded data removed]",
      "text/plain": [
       "<matplotlib.figure.Figure at 0x117935390>"
      ]
     },
     "metadata": {},
     "output_type": "display_data"
    }
   ],
   "source": [
    "sns.distplot(data_benign['concavity_se'], kde=False, rug=True, label='benign');\n",
    "sns.distplot(data_malignant['concavity_se'], kde=False, rug=True, label='malignant');\n",
    "plt.legend()"
   ]
  },
  {
   "cell_type": "code",
   "execution_count": 486,
   "metadata": {},
   "outputs": [
    {
     "data": {
      "text/plain": [
       "<matplotlib.legend.Legend at 0x116ae5550>"
      ]
     },
     "execution_count": 486,
     "metadata": {},
     "output_type": "execute_result"
    },
    {
     "data": {
      "image/png": "[encoded data removed]",
      "text/plain": [
       "<matplotlib.figure.Figure at 0x11a455dd0>"
      ]
     },
     "metadata": {},
     "output_type": "display_data"
    }
   ],
   "source": [
    "sns.distplot(data_benign['concave points_se'], kde=False, rug=True, label='benign');\n",
    "sns.distplot(data_malignant['concave points_se'], kde=False, rug=True, label='malignant');\n",
    "plt.legend()"
   ]
  },
  {
   "cell_type": "code",
   "execution_count": 487,
   "metadata": {},
   "outputs": [
    {
     "data": {
      "text/plain": [
       "<matplotlib.legend.Legend at 0x118771d10>"
      ]
     },
     "execution_count": 487,
     "metadata": {},
     "output_type": "execute_result"
    },
    {
     "data": {
      "image/png": "[encoded data removed]",
      "text/plain": [
       "<matplotlib.figure.Figure at 0x11b31ab10>"
      ]
     },
     "metadata": {},
     "output_type": "display_data"
    }
   ],
   "source": [
    "sns.distplot(data_benign['symmetry_se'], kde=False, rug=True, label='benign');\n",
    "sns.distplot(data_malignant['symmetry_se'], kde=False, rug=True, label='malignant');\n",
    "plt.legend()"
   ]
  },
  {
   "cell_type": "code",
   "execution_count": 488,
   "metadata": {},
   "outputs": [
    {
     "data": {
      "text/plain": [
       "<matplotlib.legend.Legend at 0x1195d84d0>"
      ]
     },
     "execution_count": 488,
     "metadata": {},
     "output_type": "execute_result"
    },
    {
     "data": {
      "image/png": "[encoded data removed]",
      "text/plain": [
       "<matplotlib.figure.Figure at 0x11c171d10>"
      ]
     },
     "metadata": {},
     "output_type": "display_data"
    }
   ],
   "source": [
    "sns.distplot(data_benign['fractal_dimension_se'], kde=False, rug=True, label='benign');\n",
    "sns.distplot(data_malignant['fractal_dimension_se'], kde=False, rug=True, label='malignant');\n",
    "plt.legend()"
   ]
  },
  {
   "cell_type": "code",
   "execution_count": 489,
   "metadata": {},
   "outputs": [
    {
     "data": {
      "text/plain": [
       "<matplotlib.legend.Legend at 0x117909fd0>"
      ]
     },
     "execution_count": 489,
     "metadata": {},
     "output_type": "execute_result"
    },
    {
     "data": {
      "image/png": "[encoded data removed]",
      "text/plain": [
       "<matplotlib.figure.Figure at 0x11cfd52d0>"
      ]
     },
     "metadata": {},
     "output_type": "display_data"
    }
   ],
   "source": [
    "sns.distplot(data_benign['radius_worst'], kde=False, rug=True, label='benign');\n",
    "sns.distplot(data_malignant['radius_worst'], kde=False, rug=True, label='malignant');\n",
    "plt.legend()"
   ]
  },
  {
   "cell_type": "code",
   "execution_count": 490,
   "metadata": {},
   "outputs": [
    {
     "data": {
      "text/plain": [
       "<matplotlib.legend.Legend at 0x1195e6f10>"
      ]
     },
     "execution_count": 490,
     "metadata": {},
     "output_type": "execute_result"
    },
    {
     "data": {
      "image/png": "[encoded data removed]",
      "text/plain": [
       "<matplotlib.figure.Figure at 0x11de6c990>"
      ]
     },
     "metadata": {},
     "output_type": "display_data"
    }
   ],
   "source": [
    "sns.distplot(data_benign['texture_worst'], kde=False, rug=True, label='benign');\n",
    "sns.distplot(data_malignant['texture_worst'], kde=False, rug=True, label='malignant');\n",
    "plt.legend()"
   ]
  },
  {
   "cell_type": "code",
   "execution_count": 491,
   "metadata": {},
   "outputs": [
    {
     "data": {
      "text/plain": [
       "<matplotlib.legend.Legend at 0x11a3ef610>"
      ]
     },
     "execution_count": 491,
     "metadata": {},
     "output_type": "execute_result"
    },
    {
     "data": {
      "image/png": "[encoded data removed]",
      "text/plain": [
       "<matplotlib.figure.Figure at 0x11ec66e10>"
      ]
     },
     "metadata": {},
     "output_type": "display_data"
    }
   ],
   "source": [
    "sns.distplot(data_benign['perimeter_worst'], kde=False, rug=True, label='benign');\n",
    "sns.distplot(data_malignant['perimeter_worst'], kde=False, rug=True, label='malignant');\n",
    "plt.legend()"
   ]
  },
  {
   "cell_type": "code",
   "execution_count": 492,
   "metadata": {},
   "outputs": [
    {
     "data": {
      "text/plain": [
       "<matplotlib.legend.Legend at 0x11c264110>"
      ]
     },
     "execution_count": 492,
     "metadata": {},
     "output_type": "execute_result"
    },
    {
     "data": {
      "image/png": "[encoded data removed]",
      "text/plain": [
       "<matplotlib.figure.Figure at 0x116ae5bd0>"
      ]
     },
     "metadata": {},
     "output_type": "display_data"
    }
   ],
   "source": [
    "sns.distplot(data_benign['area_worst'], kde=False, rug=True, label='benign');\n",
    "sns.distplot(data_malignant['area_worst'], kde=False, rug=True, label='malignant');\n",
    "plt.legend()"
   ]
  },
  {
   "cell_type": "code",
   "execution_count": 493,
   "metadata": {},
   "outputs": [
    {
     "data": {
      "text/plain": [
       "<matplotlib.legend.Legend at 0x11c97b890>"
      ]
     },
     "execution_count": 493,
     "metadata": {},
     "output_type": "execute_result"
    },
    {
     "data": {
      "image/png": "[encoded data removed]",
      "text/plain": [
       "<matplotlib.figure.Figure at 0x11dd5c850>"
      ]
     },
     "metadata": {},
     "output_type": "display_data"
    }
   ],
   "source": [
    "sns.distplot(data_benign['smoothness_worst'], kde=False, rug=True, label='benign');\n",
    "sns.distplot(data_malignant['smoothness_worst'], kde=False, rug=True, label='malignant');\n",
    "plt.legend()"
   ]
  },
  {
   "cell_type": "code",
   "execution_count": 494,
   "metadata": {},
   "outputs": [
    {
     "data": {
      "text/plain": [
       "<matplotlib.legend.Legend at 0x11b1e9a10>"
      ]
     },
     "execution_count": 494,
     "metadata": {},
     "output_type": "execute_result"
    },
    {
     "data": {
      "image/png": "[encoded data removed]",
      "text/plain": [
       "<matplotlib.figure.Figure at 0x121634c50>"
      ]
     },
     "metadata": {},
     "output_type": "display_data"
    }
   ],
   "source": [
    "sns.distplot(data_benign['compactness_worst'], kde=False, rug=True, label='benign');\n",
    "sns.distplot(data_malignant['compactness_worst'], kde=False, rug=True, label='malignant');\n",
    "plt.legend()"
   ]
  },
  {
   "cell_type": "code",
   "execution_count": 495,
   "metadata": {},
   "outputs": [
    {
     "data": {
      "text/plain": [
       "<matplotlib.legend.Legend at 0x11bb63950>"
      ]
     },
     "execution_count": 495,
     "metadata": {},
     "output_type": "execute_result"
    },
    {
     "data": {
      "image/png": "[encoded data removed]",
      "text/plain": [
       "<matplotlib.figure.Figure at 0x12243bbd0>"
      ]
     },
     "metadata": {},
     "output_type": "display_data"
    }
   ],
   "source": [
    "sns.distplot(data_benign['concavity_worst'], kde=False, rug=True, label='benign');\n",
    "sns.distplot(data_malignant['concavity_worst'], kde=False, rug=True, label='malignant');\n",
    "plt.legend()"
   ]
  },
  {
   "cell_type": "code",
   "execution_count": 496,
   "metadata": {},
   "outputs": [
    {
     "data": {
      "text/plain": [
       "<matplotlib.legend.Legend at 0x120823690>"
      ]
     },
     "execution_count": 496,
     "metadata": {},
     "output_type": "execute_result"
    },
    {
     "data": {
      "image/png": "[encoded data removed]",
      "text/plain": [
       "<matplotlib.figure.Figure at 0x123215910>"
      ]
     },
     "metadata": {},
     "output_type": "display_data"
    }
   ],
   "source": [
    "sns.distplot(data_benign['concave points_worst'], kde=False, rug=True, label='benign');\n",
    "sns.distplot(data_malignant['concave points_worst'], kde=False, rug=True, label='malignant');\n",
    "plt.legend()"
   ]
  },
  {
   "cell_type": "code",
   "execution_count": 497,
   "metadata": {},
   "outputs": [
    {
     "data": {
      "text/plain": [
       "<matplotlib.legend.Legend at 0x1208149d0>"
      ]
     },
     "execution_count": 497,
     "metadata": {},
     "output_type": "execute_result"
    },
    {
     "data": {
      "image/png": "[encoded data removed]",
      "text/plain": [
       "<matplotlib.figure.Figure at 0x120830a50>"
      ]
     },
     "metadata": {},
     "output_type": "display_data"
    }
   ],
   "source": [
    "sns.distplot(data_benign['symmetry_worst'], kde=False, rug=True, label='benign');\n",
    "sns.distplot(data_malignant['symmetry_worst'], kde=False, rug=True, label='malignant');\n",
    "plt.legend()"
   ]
  },
  {
   "cell_type": "code",
   "execution_count": 498,
   "metadata": {},
   "outputs": [
    {
     "data": {
      "text/plain": [
       "<matplotlib.legend.Legend at 0x121048290>"
      ]
     },
     "execution_count": 498,
     "metadata": {},
     "output_type": "execute_result"
    },
    {
     "data": {
      "image/png": "[encoded data removed]",
      "text/plain": [
       "<matplotlib.figure.Figure at 0x124e2b810>"
      ]
     },
     "metadata": {},
     "output_type": "display_data"
    }
   ],
   "source": [
    "sns.distplot(data_benign['fractal_dimension_worst'], kde=False, rug=True, label='benign');\n",
    "sns.distplot(data_malignant['fractal_dimension_worst'], kde=False, rug=True, label='malignant');\n",
    "plt.legend()"
   ]
  },
  {
   "cell_type": "code",
   "execution_count": 316,
   "metadata": {
    "collapsed": true
   },
   "outputs": [],
   "source": [
    "# Scale the data using MinMaxScaler and return transformed data\n",
    "def scale_data(data):\n",
    "    scaler = MinMaxScaler()\n",
    "    scaler.fit(data)\n",
    "    return scaler.transform(data)"
   ]
  },
  {
   "cell_type": "code",
   "execution_count": 308,
   "metadata": {
    "collapsed": true
   },
   "outputs": [],
   "source": [
    "# Train a SVC model on the selected data with the given params and return fitted model\n",
    "def train_svc_model(data, features, targets, kern='rbf', gamm='auto', c=1.0, deg=3):\n",
    "    clf = SVC(kernel=kern, gamma=gamm, C=c, degree=deg)\n",
    "    \n",
    "    # Get features and targets to use\n",
    "    X = data[features]\n",
    "    y = data[targets]\n",
    "    \n",
    "    # Scale data\n",
    "    X = scale_data(X)\n",
    "    y = scale_data(y)\n",
    "    \n",
    "    # Do stratified K-fold CV with 3 splits\n",
    "    kf = StratifiedKFold(n_splits=3)\n",
    "    for k, (train, test) in enumerate(kf.split(X, y)):\n",
    "        train_X = (data[features].iloc[train,:])\n",
    "        train_y = data[targets].iloc[train]\n",
    "        test_X = (data[features].iloc[test,:])\n",
    "        test_y = data[targets].iloc[test]\n",
    "        \n",
    "        # Fit model on training subset\n",
    "        clf.fit(train_X, train_y)\n",
    "        print(\"[fold {0}], score: {1:.5f}\".\n",
    "          format(k, clf.score(test_X, test_y)))\n",
    "    \n",
    "    # Fit model on data\n",
    "    clf.fit(X, y)\n",
    "    print(\"Training accuracy: %s\" % \"{0:.3%}\".format(clf.score(X, y)))\n",
    "    \n",
    "    return clf"
   ]
  },
  {
   "cell_type": "code",
   "execution_count": 309,
   "metadata": {
    "collapsed": true
   },
   "outputs": [],
   "source": [
    "# Predict the target labels on the data using the model and print F1 score and accuracy\n",
    "def test_svc_model(model, data, features, targets):\n",
    "    # Get features and targets to use\n",
    "    X = data[features]\n",
    "    y = data[targets]\n",
    "    \n",
    "    # Scale data\n",
    "    X = scale_data(X)\n",
    "    y = scale_data(y)\n",
    "    \n",
    "    # Predict target labels using the features\n",
    "    predictions = model.predict(X)\n",
    "    \n",
    "    # Calculate accuracy and F1 score\n",
    "    accuracy = metrics.accuracy_score(predictions, y)\n",
    "    f1_score = metrics.f1_score(y, predictions)\n",
    "    \n",
    "    print(\"F1 score: %s\" % \"{0:.3}\".format(f1_score))\n",
    "    print(\"Accuracy: %s\" % \"{0:.3%}\".format(accuracy))"
   ]
  },
  {
   "cell_type": "code",
   "execution_count": 310,
   "metadata": {
    "collapsed": true
   },
   "outputs": [],
   "source": [
    "# Top X features from https://www.kaggle.com/buddhiniw/breast-cancer-prediction/notebook\n",
    "selected_features_top1 = ['perimeter_mean']\n",
    "selected_features_top3 = ['perimeter_mean', 'concave points_mean', 'concavity_mean']\n",
    "selected_features_top5 = ['perimeter_mean', 'concave points_mean', 'concavity_mean', 'area_mean', 'radius_mean']\n",
    "selected_features_top10 = ['perimeter_mean', 'concave points_mean', 'concavity_mean', 'area_mean', 'radius_mean', 'compactness_mean', 'texture_mean', 'smoothness_mean', 'symmetry_mean', 'fractal_dimension_mean']"
   ]
  },
  {
   "cell_type": "code",
   "execution_count": 374,
   "metadata": {},
   "outputs": [
    {
     "name": "stdout",
     "output_type": "stream",
     "text": [
      "Training set size: 455\n",
      "Testing set size: 114\n"
     ]
    }
   ],
   "source": [
    "# Get data features only by dropping 'diagnosis' column\n",
    "data_features = data.drop('diagnosis', axis=1, inplace=False)\n",
    "\n",
    "# Split data into stratified train and test sets with 80:20 train/test ratio.\n",
    "data_train, data_test = train_test_split(data, stratify=data['diagnosis'], test_size=0.2)\n",
    "print 'Training set size: %s' % len(data_train.index)\n",
    "print 'Testing set size: %s' % len(data_test.index)"
   ]
  },
  {
   "cell_type": "code",
   "execution_count": 500,
   "metadata": {},
   "outputs": [
    {
     "name": "stdout",
     "output_type": "stream",
     "text": [
      "[fold 0], score: 0.62500\n",
      "[fold 1], score: 0.62500\n",
      "[fold 2], score: 0.62914\n",
      "Training accuracy: 95.165%\n"
     ]
    },
    {
     "name": "stderr",
     "output_type": "stream",
     "text": [
      "/usr/local/lib/python2.7/site-packages/sklearn/preprocessing/data.py:321: DeprecationWarning: Passing 1d arrays as data is deprecated in 0.17 and will raise ValueError in 0.19. Reshape your data either using X.reshape(-1, 1) if your data has a single feature or X.reshape(1, -1) if it contains a single sample.\n",
      "  warnings.warn(DEPRECATION_MSG_1D, DeprecationWarning)\n",
      "/usr/local/lib/python2.7/site-packages/sklearn/preprocessing/data.py:356: DeprecationWarning: Passing 1d arrays as data is deprecated in 0.17 and will raise ValueError in 0.19. Reshape your data either using X.reshape(-1, 1) if your data has a single feature or X.reshape(1, -1) if it contains a single sample.\n",
      "  warnings.warn(DEPRECATION_MSG_1D, DeprecationWarning)\n"
     ]
    }
   ],
   "source": [
    "# Train SVC using all features on training set\n",
    "trained_model = train_svc_model(data_train, list(data_features), 'diagnosis')"
   ]
  },
  {
   "cell_type": "raw",
   "metadata": {},
   "source": [
    "# Test trained SVC model using all features on testing set\n",
    "test_svc_model(trained_model, data_test, list(data_features), 'diagnosis')"
   ]
  },
  {
   "cell_type": "code",
   "execution_count": 322,
   "metadata": {},
   "outputs": [
    {
     "name": "stdout",
     "output_type": "stream",
     "text": [
      "[fold 0], score: 0.88816\n",
      "[fold 1], score: 0.87500\n",
      "[fold 2], score: 0.86093\n",
      "Training accuracy: 88.571%\n"
     ]
    },
    {
     "name": "stderr",
     "output_type": "stream",
     "text": [
      "/usr/local/lib/python2.7/site-packages/sklearn/preprocessing/data.py:321: DeprecationWarning: Passing 1d arrays as data is deprecated in 0.17 and will raise ValueError in 0.19. Reshape your data either using X.reshape(-1, 1) if your data has a single feature or X.reshape(1, -1) if it contains a single sample.\n",
      "  warnings.warn(DEPRECATION_MSG_1D, DeprecationWarning)\n",
      "/usr/local/lib/python2.7/site-packages/sklearn/preprocessing/data.py:356: DeprecationWarning: Passing 1d arrays as data is deprecated in 0.17 and will raise ValueError in 0.19. Reshape your data either using X.reshape(-1, 1) if your data has a single feature or X.reshape(1, -1) if it contains a single sample.\n",
      "  warnings.warn(DEPRECATION_MSG_1D, DeprecationWarning)\n"
     ]
    }
   ],
   "source": [
    "# Train SVC model using single top feature\n",
    "trained_model = train_svc_model(data_train, selected_features_top1, 'diagnosis')"
   ]
  },
  {
   "cell_type": "code",
   "execution_count": 323,
   "metadata": {},
   "outputs": [
    {
     "name": "stdout",
     "output_type": "stream",
     "text": [
      "F1 score: 0.871\n",
      "Accuracy: 90.351%\n"
     ]
    },
    {
     "name": "stderr",
     "output_type": "stream",
     "text": [
      "/usr/local/lib/python2.7/site-packages/sklearn/preprocessing/data.py:321: DeprecationWarning: Passing 1d arrays as data is deprecated in 0.17 and will raise ValueError in 0.19. Reshape your data either using X.reshape(-1, 1) if your data has a single feature or X.reshape(1, -1) if it contains a single sample.\n",
      "  warnings.warn(DEPRECATION_MSG_1D, DeprecationWarning)\n",
      "/usr/local/lib/python2.7/site-packages/sklearn/preprocessing/data.py:356: DeprecationWarning: Passing 1d arrays as data is deprecated in 0.17 and will raise ValueError in 0.19. Reshape your data either using X.reshape(-1, 1) if your data has a single feature or X.reshape(1, -1) if it contains a single sample.\n",
      "  warnings.warn(DEPRECATION_MSG_1D, DeprecationWarning)\n"
     ]
    }
   ],
   "source": [
    "test_svc_model(trained_model, data_test, selected_features_top1, 'diagnosis')"
   ]
  },
  {
   "cell_type": "code",
   "execution_count": 324,
   "metadata": {},
   "outputs": [
    {
     "name": "stdout",
     "output_type": "stream",
     "text": [
      "[fold 0], score: 0.88816\n",
      "[fold 1], score: 0.88816\n",
      "[fold 2], score: 0.84106\n",
      "Training accuracy: 92.088%\n"
     ]
    },
    {
     "name": "stderr",
     "output_type": "stream",
     "text": [
      "/usr/local/lib/python2.7/site-packages/sklearn/preprocessing/data.py:321: DeprecationWarning: Passing 1d arrays as data is deprecated in 0.17 and will raise ValueError in 0.19. Reshape your data either using X.reshape(-1, 1) if your data has a single feature or X.reshape(1, -1) if it contains a single sample.\n",
      "  warnings.warn(DEPRECATION_MSG_1D, DeprecationWarning)\n",
      "/usr/local/lib/python2.7/site-packages/sklearn/preprocessing/data.py:356: DeprecationWarning: Passing 1d arrays as data is deprecated in 0.17 and will raise ValueError in 0.19. Reshape your data either using X.reshape(-1, 1) if your data has a single feature or X.reshape(1, -1) if it contains a single sample.\n",
      "  warnings.warn(DEPRECATION_MSG_1D, DeprecationWarning)\n"
     ]
    }
   ],
   "source": [
    "# Train SVC model using top 3 features\n",
    "trained_model = train_svc_model(data_train, selected_features_top3, 'diagnosis')"
   ]
  },
  {
   "cell_type": "code",
   "execution_count": 325,
   "metadata": {},
   "outputs": [
    {
     "name": "stdout",
     "output_type": "stream",
     "text": [
      "F1 score: 0.918\n",
      "Accuracy: 93.860%\n"
     ]
    },
    {
     "name": "stderr",
     "output_type": "stream",
     "text": [
      "/usr/local/lib/python2.7/site-packages/sklearn/preprocessing/data.py:321: DeprecationWarning: Passing 1d arrays as data is deprecated in 0.17 and will raise ValueError in 0.19. Reshape your data either using X.reshape(-1, 1) if your data has a single feature or X.reshape(1, -1) if it contains a single sample.\n",
      "  warnings.warn(DEPRECATION_MSG_1D, DeprecationWarning)\n",
      "/usr/local/lib/python2.7/site-packages/sklearn/preprocessing/data.py:356: DeprecationWarning: Passing 1d arrays as data is deprecated in 0.17 and will raise ValueError in 0.19. Reshape your data either using X.reshape(-1, 1) if your data has a single feature or X.reshape(1, -1) if it contains a single sample.\n",
      "  warnings.warn(DEPRECATION_MSG_1D, DeprecationWarning)\n"
     ]
    }
   ],
   "source": [
    "test_svc_model(trained_model, data_test, selected_features_top3, 'diagnosis')"
   ]
  },
  {
   "cell_type": "code",
   "execution_count": 326,
   "metadata": {},
   "outputs": [
    {
     "name": "stdout",
     "output_type": "stream",
     "text": [
      "[fold 0], score: 0.65789\n",
      "[fold 1], score: 0.71053\n",
      "[fold 2], score: 0.70861\n",
      "Training accuracy: 90.989%\n"
     ]
    },
    {
     "name": "stderr",
     "output_type": "stream",
     "text": [
      "/usr/local/lib/python2.7/site-packages/sklearn/preprocessing/data.py:321: DeprecationWarning: Passing 1d arrays as data is deprecated in 0.17 and will raise ValueError in 0.19. Reshape your data either using X.reshape(-1, 1) if your data has a single feature or X.reshape(1, -1) if it contains a single sample.\n",
      "  warnings.warn(DEPRECATION_MSG_1D, DeprecationWarning)\n",
      "/usr/local/lib/python2.7/site-packages/sklearn/preprocessing/data.py:356: DeprecationWarning: Passing 1d arrays as data is deprecated in 0.17 and will raise ValueError in 0.19. Reshape your data either using X.reshape(-1, 1) if your data has a single feature or X.reshape(1, -1) if it contains a single sample.\n",
      "  warnings.warn(DEPRECATION_MSG_1D, DeprecationWarning)\n"
     ]
    }
   ],
   "source": [
    "# Train SVC model using top 5 features\n",
    "trained_model = train_svc_model(data_train, selected_features_top5, 'diagnosis')"
   ]
  },
  {
   "cell_type": "code",
   "execution_count": 328,
   "metadata": {},
   "outputs": [
    {
     "name": "stdout",
     "output_type": "stream",
     "text": [
      "F1 score: 0.907\n",
      "Accuracy: 92.982%\n"
     ]
    },
    {
     "name": "stderr",
     "output_type": "stream",
     "text": [
      "/usr/local/lib/python2.7/site-packages/sklearn/preprocessing/data.py:321: DeprecationWarning: Passing 1d arrays as data is deprecated in 0.17 and will raise ValueError in 0.19. Reshape your data either using X.reshape(-1, 1) if your data has a single feature or X.reshape(1, -1) if it contains a single sample.\n",
      "  warnings.warn(DEPRECATION_MSG_1D, DeprecationWarning)\n",
      "/usr/local/lib/python2.7/site-packages/sklearn/preprocessing/data.py:356: DeprecationWarning: Passing 1d arrays as data is deprecated in 0.17 and will raise ValueError in 0.19. Reshape your data either using X.reshape(-1, 1) if your data has a single feature or X.reshape(1, -1) if it contains a single sample.\n",
      "  warnings.warn(DEPRECATION_MSG_1D, DeprecationWarning)\n"
     ]
    }
   ],
   "source": [
    "test_svc_model(trained_model, data_test, selected_features_top5, 'diagnosis')"
   ]
  },
  {
   "cell_type": "code",
   "execution_count": 331,
   "metadata": {},
   "outputs": [
    {
     "name": "stdout",
     "output_type": "stream",
     "text": [
      "[fold 0], score: 0.63158\n",
      "[fold 1], score: 0.65789\n",
      "[fold 2], score: 0.64901\n",
      "Training accuracy: 91.868%\n"
     ]
    },
    {
     "name": "stderr",
     "output_type": "stream",
     "text": [
      "/usr/local/lib/python2.7/site-packages/sklearn/preprocessing/data.py:321: DeprecationWarning: Passing 1d arrays as data is deprecated in 0.17 and will raise ValueError in 0.19. Reshape your data either using X.reshape(-1, 1) if your data has a single feature or X.reshape(1, -1) if it contains a single sample.\n",
      "  warnings.warn(DEPRECATION_MSG_1D, DeprecationWarning)\n",
      "/usr/local/lib/python2.7/site-packages/sklearn/preprocessing/data.py:356: DeprecationWarning: Passing 1d arrays as data is deprecated in 0.17 and will raise ValueError in 0.19. Reshape your data either using X.reshape(-1, 1) if your data has a single feature or X.reshape(1, -1) if it contains a single sample.\n",
      "  warnings.warn(DEPRECATION_MSG_1D, DeprecationWarning)\n"
     ]
    }
   ],
   "source": [
    "# Train SVC model using top 10 features\n",
    "trained_model = train_svc_model(data_train, selected_features_top10, 'diagnosis')"
   ]
  },
  {
   "cell_type": "code",
   "execution_count": 332,
   "metadata": {},
   "outputs": [
    {
     "name": "stdout",
     "output_type": "stream",
     "text": [
      "F1 score: 0.921\n",
      "Accuracy: 93.860%\n"
     ]
    },
    {
     "name": "stderr",
     "output_type": "stream",
     "text": [
      "/usr/local/lib/python2.7/site-packages/sklearn/preprocessing/data.py:321: DeprecationWarning: Passing 1d arrays as data is deprecated in 0.17 and will raise ValueError in 0.19. Reshape your data either using X.reshape(-1, 1) if your data has a single feature or X.reshape(1, -1) if it contains a single sample.\n",
      "  warnings.warn(DEPRECATION_MSG_1D, DeprecationWarning)\n",
      "/usr/local/lib/python2.7/site-packages/sklearn/preprocessing/data.py:356: DeprecationWarning: Passing 1d arrays as data is deprecated in 0.17 and will raise ValueError in 0.19. Reshape your data either using X.reshape(-1, 1) if your data has a single feature or X.reshape(1, -1) if it contains a single sample.\n",
      "  warnings.warn(DEPRECATION_MSG_1D, DeprecationWarning)\n"
     ]
    }
   ],
   "source": [
    "test_svc_model(trained_model, data_test, selected_features_top10, 'diagnosis')"
   ]
  },
  {
   "cell_type": "code",
   "execution_count": 344,
   "metadata": {},
   "outputs": [
    {
     "name": "stdout",
     "output_type": "stream",
     "text": [
      "[  1.00000000e+00   1.00000000e+01   1.00000000e+02   1.00000000e+03\n",
      "   1.00000000e+04   1.00000000e+05   1.00000000e+06   1.00000000e+07]\n",
      "[  1.00000000e-04   1.00000000e-03   1.00000000e-02   1.00000000e-01\n",
      "   1.00000000e+00   1.00000000e+01   1.00000000e+02   1.00000000e+03]\n",
      "Fitting 3 folds for each of 128 candidates, totalling 384 fits\n"
     ]
    },
    {
     "name": "stderr",
     "output_type": "stream",
     "text": [
      "/usr/local/lib/python2.7/site-packages/sklearn/preprocessing/data.py:321: DeprecationWarning: Passing 1d arrays as data is deprecated in 0.17 and will raise ValueError in 0.19. Reshape your data either using X.reshape(-1, 1) if your data has a single feature or X.reshape(1, -1) if it contains a single sample.\n",
      "  warnings.warn(DEPRECATION_MSG_1D, DeprecationWarning)\n",
      "/usr/local/lib/python2.7/site-packages/sklearn/preprocessing/data.py:356: DeprecationWarning: Passing 1d arrays as data is deprecated in 0.17 and will raise ValueError in 0.19. Reshape your data either using X.reshape(-1, 1) if your data has a single feature or X.reshape(1, -1) if it contains a single sample.\n",
      "  warnings.warn(DEPRECATION_MSG_1D, DeprecationWarning)\n"
     ]
    },
    {
     "name": "stdout",
     "output_type": "stream",
     "text": [
      "0.931868131868\n",
      "{'kernel': 'rbf', 'C': 10.0, 'gamma': 10.0}\n"
     ]
    },
    {
     "name": "stderr",
     "output_type": "stream",
     "text": [
      "[Parallel(n_jobs=1)]: Done 384 out of 384 | elapsed:  1.2min finished\n"
     ]
    }
   ],
   "source": [
    "# Do grid search for best C and gamma for SVC using the top 3 features\n",
    "C_range = np.logspace(0, 7, 8)\n",
    "gamma_range = np.logspace(-4, 3, 8)\n",
    "print C_range\n",
    "print gamma_range\n",
    "\n",
    "parameters = {'kernel':('rbf', 'sigmoid'), 'C':C_range, 'gamma':gamma_range}\n",
    "svc = SVC()\n",
    "clf = GridSearchCV(svc, parameters, n_jobs=1, cv=3, verbose=1)\n",
    "\n",
    "X = data_train[selected_features_top3]\n",
    "y = data_train['diagnosis']\n",
    "X = scale_data(X)\n",
    "y = scale_data(y)\n",
    "\n",
    "clf.fit(X, y)\n",
    "print clf.best_score_\n",
    "print clf.best_params_"
   ]
  },
  {
   "cell_type": "code",
   "execution_count": 345,
   "metadata": {},
   "outputs": [
    {
     "name": "stdout",
     "output_type": "stream",
     "text": [
      "[fold 0], score: 0.80921\n",
      "[fold 1], score: 0.82895\n",
      "[fold 2], score: 0.77483\n",
      "Training accuracy: 93.407%\n"
     ]
    },
    {
     "name": "stderr",
     "output_type": "stream",
     "text": [
      "/usr/local/lib/python2.7/site-packages/sklearn/preprocessing/data.py:321: DeprecationWarning: Passing 1d arrays as data is deprecated in 0.17 and will raise ValueError in 0.19. Reshape your data either using X.reshape(-1, 1) if your data has a single feature or X.reshape(1, -1) if it contains a single sample.\n",
      "  warnings.warn(DEPRECATION_MSG_1D, DeprecationWarning)\n",
      "/usr/local/lib/python2.7/site-packages/sklearn/preprocessing/data.py:356: DeprecationWarning: Passing 1d arrays as data is deprecated in 0.17 and will raise ValueError in 0.19. Reshape your data either using X.reshape(-1, 1) if your data has a single feature or X.reshape(1, -1) if it contains a single sample.\n",
      "  warnings.warn(DEPRECATION_MSG_1D, DeprecationWarning)\n"
     ]
    }
   ],
   "source": [
    "# Train SVC model using the best hyperparameters found using the grid search\n",
    "trained_model = train_svc_model(data_train, selected_features_top3, 'diagnosis', c=10.0, gamm=10.0)"
   ]
  },
  {
   "cell_type": "code",
   "execution_count": 346,
   "metadata": {},
   "outputs": [
    {
     "name": "stdout",
     "output_type": "stream",
     "text": [
      "F1 score: 0.918\n",
      "Accuracy: 93.860%\n"
     ]
    },
    {
     "name": "stderr",
     "output_type": "stream",
     "text": [
      "/usr/local/lib/python2.7/site-packages/sklearn/preprocessing/data.py:321: DeprecationWarning: Passing 1d arrays as data is deprecated in 0.17 and will raise ValueError in 0.19. Reshape your data either using X.reshape(-1, 1) if your data has a single feature or X.reshape(1, -1) if it contains a single sample.\n",
      "  warnings.warn(DEPRECATION_MSG_1D, DeprecationWarning)\n",
      "/usr/local/lib/python2.7/site-packages/sklearn/preprocessing/data.py:356: DeprecationWarning: Passing 1d arrays as data is deprecated in 0.17 and will raise ValueError in 0.19. Reshape your data either using X.reshape(-1, 1) if your data has a single feature or X.reshape(1, -1) if it contains a single sample.\n",
      "  warnings.warn(DEPRECATION_MSG_1D, DeprecationWarning)\n"
     ]
    }
   ],
   "source": [
    "# Test trained model\n",
    "test_svc_model(trained_model, data_test, selected_features_top3, 'diagnosis')"
   ]
  },
  {
   "cell_type": "code",
   "execution_count": 141,
   "metadata": {
    "collapsed": true
   },
   "outputs": [],
   "source": [
    "# Trains a AdaBoostClassifier model on the data\n",
    "def train_bdt_model(data, features, targets, maxDepth=None, n_est=50, learn_rate=1.0, alg='SAMME.R'):\n",
    "    bdt = AdaBoostClassifier(DecisionTreeClassifier(max_depth=maxDepth), n_estimators=n_est, learning_rate=learn_rate, algorithm=alg)\n",
    "    \n",
    "    X = data[features]\n",
    "    y = data[targets]\n",
    "    X = scale_data(X)\n",
    "    y = scale_data(y)\n",
    "    \n",
    "    kf = KFold(n_splits=3)\n",
    "    for k, (train, test) in enumerate(kf.split(X, y)):\n",
    "        train_X = (data[features].iloc[train,:])\n",
    "        train_y = data[targets].iloc[train]\n",
    "        test_X = (data[features].iloc[test,:])\n",
    "        test_y = data[targets].iloc[test]\n",
    "        \n",
    "        bdt.fit(train_X, train_y)\n",
    "        print(\"[fold {0}], score: {1:.5f}\".\n",
    "          format(k, bdt.score(test_X, test_y)))\n",
    "    \n",
    "    bdt.fit(X, y)\n",
    "    print(\"Training accuracy: %s\" % \"{0:.3%}\".format(bdt.score(X, y)))\n",
    "    \n",
    "    return bdt"
   ]
  },
  {
   "cell_type": "code",
   "execution_count": 142,
   "metadata": {},
   "outputs": [
    {
     "name": "stdout",
     "output_type": "stream",
     "text": [
      "[fold 0], score: 0.91447\n",
      "[fold 1], score: 0.90789\n",
      "[fold 2], score: 0.88079\n",
      "Training accuracy: 100.000%\n"
     ]
    },
    {
     "name": "stderr",
     "output_type": "stream",
     "text": [
      "/usr/local/lib/python2.7/site-packages/sklearn/preprocessing/data.py:321: DeprecationWarning: Passing 1d arrays as data is deprecated in 0.17 and will raise ValueError in 0.19. Reshape your data either using X.reshape(-1, 1) if your data has a single feature or X.reshape(1, -1) if it contains a single sample.\n",
      "  warnings.warn(DEPRECATION_MSG_1D, DeprecationWarning)\n",
      "/usr/local/lib/python2.7/site-packages/sklearn/preprocessing/data.py:356: DeprecationWarning: Passing 1d arrays as data is deprecated in 0.17 and will raise ValueError in 0.19. Reshape your data either using X.reshape(-1, 1) if your data has a single feature or X.reshape(1, -1) if it contains a single sample.\n",
      "  warnings.warn(DEPRECATION_MSG_1D, DeprecationWarning)\n"
     ]
    }
   ],
   "source": [
    "# Train AdaBoostClassifier model using all features\n",
    "trained_bdt_model = train_bdt_model(data_train, list(data_features), 'diagnosis')"
   ]
  },
  {
   "cell_type": "code",
   "execution_count": 143,
   "metadata": {},
   "outputs": [
    {
     "name": "stdout",
     "output_type": "stream",
     "text": [
      "F1 score: 0.707\n",
      "Accuracy: 70.175%\n"
     ]
    },
    {
     "name": "stderr",
     "output_type": "stream",
     "text": [
      "/usr/local/lib/python2.7/site-packages/sklearn/preprocessing/data.py:321: DeprecationWarning: Passing 1d arrays as data is deprecated in 0.17 and will raise ValueError in 0.19. Reshape your data either using X.reshape(-1, 1) if your data has a single feature or X.reshape(1, -1) if it contains a single sample.\n",
      "  warnings.warn(DEPRECATION_MSG_1D, DeprecationWarning)\n",
      "/usr/local/lib/python2.7/site-packages/sklearn/preprocessing/data.py:356: DeprecationWarning: Passing 1d arrays as data is deprecated in 0.17 and will raise ValueError in 0.19. Reshape your data either using X.reshape(-1, 1) if your data has a single feature or X.reshape(1, -1) if it contains a single sample.\n",
      "  warnings.warn(DEPRECATION_MSG_1D, DeprecationWarning)\n"
     ]
    }
   ],
   "source": [
    "test_svc_model(trained_bdt_model, data_test, list(data_features), 'diagnosis')"
   ]
  },
  {
   "cell_type": "code",
   "execution_count": 420,
   "metadata": {},
   "outputs": [
    {
     "name": "stdout",
     "output_type": "stream",
     "text": [
      "[fold 0], score: 0.92763\n",
      "[fold 1], score: 0.91447\n",
      "[fold 2], score: 0.90728\n",
      "Training accuracy: 100.000%\n"
     ]
    },
    {
     "name": "stderr",
     "output_type": "stream",
     "text": [
      "/usr/local/lib/python2.7/site-packages/sklearn/preprocessing/data.py:321: DeprecationWarning: Passing 1d arrays as data is deprecated in 0.17 and will raise ValueError in 0.19. Reshape your data either using X.reshape(-1, 1) if your data has a single feature or X.reshape(1, -1) if it contains a single sample.\n",
      "  warnings.warn(DEPRECATION_MSG_1D, DeprecationWarning)\n",
      "/usr/local/lib/python2.7/site-packages/sklearn/preprocessing/data.py:356: DeprecationWarning: Passing 1d arrays as data is deprecated in 0.17 and will raise ValueError in 0.19. Reshape your data either using X.reshape(-1, 1) if your data has a single feature or X.reshape(1, -1) if it contains a single sample.\n",
      "  warnings.warn(DEPRECATION_MSG_1D, DeprecationWarning)\n"
     ]
    }
   ],
   "source": [
    "# Train on top 10 features\n",
    "trained_bdt_model = train_bdt_model(data_train, selected_features_top10, 'diagnosis')"
   ]
  },
  {
   "cell_type": "code",
   "execution_count": 421,
   "metadata": {},
   "outputs": [
    {
     "name": "stdout",
     "output_type": "stream",
     "text": [
      "F1 score: 0.839\n",
      "Accuracy: 86.842%\n"
     ]
    },
    {
     "name": "stderr",
     "output_type": "stream",
     "text": [
      "/usr/local/lib/python2.7/site-packages/sklearn/preprocessing/data.py:321: DeprecationWarning: Passing 1d arrays as data is deprecated in 0.17 and will raise ValueError in 0.19. Reshape your data either using X.reshape(-1, 1) if your data has a single feature or X.reshape(1, -1) if it contains a single sample.\n",
      "  warnings.warn(DEPRECATION_MSG_1D, DeprecationWarning)\n",
      "/usr/local/lib/python2.7/site-packages/sklearn/preprocessing/data.py:356: DeprecationWarning: Passing 1d arrays as data is deprecated in 0.17 and will raise ValueError in 0.19. Reshape your data either using X.reshape(-1, 1) if your data has a single feature or X.reshape(1, -1) if it contains a single sample.\n",
      "  warnings.warn(DEPRECATION_MSG_1D, DeprecationWarning)\n"
     ]
    }
   ],
   "source": [
    "test_svc_model(trained_bdt_model, data_test, selected_features_top10, 'diagnosis')"
   ]
  },
  {
   "cell_type": "code",
   "execution_count": 144,
   "metadata": {},
   "outputs": [
    {
     "name": "stdout",
     "output_type": "stream",
     "text": [
      "[fold 0], score: 0.90789\n",
      "[fold 1], score: 0.90789\n",
      "[fold 2], score: 0.93377\n",
      "Training accuracy: 100.000%\n"
     ]
    },
    {
     "name": "stderr",
     "output_type": "stream",
     "text": [
      "/usr/local/lib/python2.7/site-packages/sklearn/preprocessing/data.py:321: DeprecationWarning: Passing 1d arrays as data is deprecated in 0.17 and will raise ValueError in 0.19. Reshape your data either using X.reshape(-1, 1) if your data has a single feature or X.reshape(1, -1) if it contains a single sample.\n",
      "  warnings.warn(DEPRECATION_MSG_1D, DeprecationWarning)\n",
      "/usr/local/lib/python2.7/site-packages/sklearn/preprocessing/data.py:356: DeprecationWarning: Passing 1d arrays as data is deprecated in 0.17 and will raise ValueError in 0.19. Reshape your data either using X.reshape(-1, 1) if your data has a single feature or X.reshape(1, -1) if it contains a single sample.\n",
      "  warnings.warn(DEPRECATION_MSG_1D, DeprecationWarning)\n"
     ]
    }
   ],
   "source": [
    "# Train on top 5 features\n",
    "trained_bdt_model = train_bdt_model(data_train, selected_features_top5, 'diagnosis')"
   ]
  },
  {
   "cell_type": "code",
   "execution_count": 145,
   "metadata": {},
   "outputs": [
    {
     "name": "stdout",
     "output_type": "stream",
     "text": [
      "F1 score: 0.828\n",
      "Accuracy: 86.842%\n"
     ]
    },
    {
     "name": "stderr",
     "output_type": "stream",
     "text": [
      "/usr/local/lib/python2.7/site-packages/sklearn/preprocessing/data.py:321: DeprecationWarning: Passing 1d arrays as data is deprecated in 0.17 and will raise ValueError in 0.19. Reshape your data either using X.reshape(-1, 1) if your data has a single feature or X.reshape(1, -1) if it contains a single sample.\n",
      "  warnings.warn(DEPRECATION_MSG_1D, DeprecationWarning)\n",
      "/usr/local/lib/python2.7/site-packages/sklearn/preprocessing/data.py:356: DeprecationWarning: Passing 1d arrays as data is deprecated in 0.17 and will raise ValueError in 0.19. Reshape your data either using X.reshape(-1, 1) if your data has a single feature or X.reshape(1, -1) if it contains a single sample.\n",
      "  warnings.warn(DEPRECATION_MSG_1D, DeprecationWarning)\n"
     ]
    }
   ],
   "source": [
    "test_svc_model(trained_bdt_model, data_test, selected_features_top5, 'diagnosis')"
   ]
  },
  {
   "cell_type": "code",
   "execution_count": 146,
   "metadata": {},
   "outputs": [
    {
     "name": "stdout",
     "output_type": "stream",
     "text": [
      "[fold 0], score: 0.88816\n",
      "[fold 1], score: 0.88816\n",
      "[fold 2], score: 0.92715\n",
      "Training accuracy: 100.000%\n"
     ]
    },
    {
     "name": "stderr",
     "output_type": "stream",
     "text": [
      "/usr/local/lib/python2.7/site-packages/sklearn/preprocessing/data.py:321: DeprecationWarning: Passing 1d arrays as data is deprecated in 0.17 and will raise ValueError in 0.19. Reshape your data either using X.reshape(-1, 1) if your data has a single feature or X.reshape(1, -1) if it contains a single sample.\n",
      "  warnings.warn(DEPRECATION_MSG_1D, DeprecationWarning)\n",
      "/usr/local/lib/python2.7/site-packages/sklearn/preprocessing/data.py:356: DeprecationWarning: Passing 1d arrays as data is deprecated in 0.17 and will raise ValueError in 0.19. Reshape your data either using X.reshape(-1, 1) if your data has a single feature or X.reshape(1, -1) if it contains a single sample.\n",
      "  warnings.warn(DEPRECATION_MSG_1D, DeprecationWarning)\n"
     ]
    }
   ],
   "source": [
    "# Train on top 3 feature\n",
    "trained_bdt_model = train_bdt_model(data_train, selected_features_top3, 'diagnosis')"
   ]
  },
  {
   "cell_type": "code",
   "execution_count": 147,
   "metadata": {},
   "outputs": [
    {
     "name": "stdout",
     "output_type": "stream",
     "text": [
      "F1 score: 0.851\n",
      "Accuracy: 88.596%\n"
     ]
    },
    {
     "name": "stderr",
     "output_type": "stream",
     "text": [
      "/usr/local/lib/python2.7/site-packages/sklearn/preprocessing/data.py:321: DeprecationWarning: Passing 1d arrays as data is deprecated in 0.17 and will raise ValueError in 0.19. Reshape your data either using X.reshape(-1, 1) if your data has a single feature or X.reshape(1, -1) if it contains a single sample.\n",
      "  warnings.warn(DEPRECATION_MSG_1D, DeprecationWarning)\n",
      "/usr/local/lib/python2.7/site-packages/sklearn/preprocessing/data.py:356: DeprecationWarning: Passing 1d arrays as data is deprecated in 0.17 and will raise ValueError in 0.19. Reshape your data either using X.reshape(-1, 1) if your data has a single feature or X.reshape(1, -1) if it contains a single sample.\n",
      "  warnings.warn(DEPRECATION_MSG_1D, DeprecationWarning)\n"
     ]
    }
   ],
   "source": [
    "test_svc_model(trained_bdt_model, data_test, selected_features_top3, 'diagnosis')"
   ]
  },
  {
   "cell_type": "code",
   "execution_count": 148,
   "metadata": {},
   "outputs": [
    {
     "name": "stderr",
     "output_type": "stream",
     "text": [
      "/usr/local/lib/python2.7/site-packages/sklearn/preprocessing/data.py:321: DeprecationWarning: Passing 1d arrays as data is deprecated in 0.17 and will raise ValueError in 0.19. Reshape your data either using X.reshape(-1, 1) if your data has a single feature or X.reshape(1, -1) if it contains a single sample.\n",
      "  warnings.warn(DEPRECATION_MSG_1D, DeprecationWarning)\n",
      "/usr/local/lib/python2.7/site-packages/sklearn/preprocessing/data.py:356: DeprecationWarning: Passing 1d arrays as data is deprecated in 0.17 and will raise ValueError in 0.19. Reshape your data either using X.reshape(-1, 1) if your data has a single feature or X.reshape(1, -1) if it contains a single sample.\n",
      "  warnings.warn(DEPRECATION_MSG_1D, DeprecationWarning)\n"
     ]
    },
    {
     "name": "stdout",
     "output_type": "stream",
     "text": [
      "[fold 0], score: 0.81579\n",
      "[fold 1], score: 0.80263\n",
      "[fold 2], score: 0.87417\n",
      "Training accuracy: 98.901%\n"
     ]
    }
   ],
   "source": [
    "# Train on top single feature\n",
    "trained_bdt_model = train_bdt_model(data_train, selected_features_top1, 'diagnosis')"
   ]
  },
  {
   "cell_type": "code",
   "execution_count": 149,
   "metadata": {},
   "outputs": [
    {
     "name": "stdout",
     "output_type": "stream",
     "text": [
      "F1 score: 0.747\n",
      "Accuracy: 81.579%\n"
     ]
    },
    {
     "name": "stderr",
     "output_type": "stream",
     "text": [
      "/usr/local/lib/python2.7/site-packages/sklearn/preprocessing/data.py:321: DeprecationWarning: Passing 1d arrays as data is deprecated in 0.17 and will raise ValueError in 0.19. Reshape your data either using X.reshape(-1, 1) if your data has a single feature or X.reshape(1, -1) if it contains a single sample.\n",
      "  warnings.warn(DEPRECATION_MSG_1D, DeprecationWarning)\n",
      "/usr/local/lib/python2.7/site-packages/sklearn/preprocessing/data.py:356: DeprecationWarning: Passing 1d arrays as data is deprecated in 0.17 and will raise ValueError in 0.19. Reshape your data either using X.reshape(-1, 1) if your data has a single feature or X.reshape(1, -1) if it contains a single sample.\n",
      "  warnings.warn(DEPRECATION_MSG_1D, DeprecationWarning)\n"
     ]
    }
   ],
   "source": [
    "test_svc_model(trained_bdt_model, data_test, selected_features_top1, 'diagnosis')"
   ]
  },
  {
   "cell_type": "code",
   "execution_count": 290,
   "metadata": {},
   "outputs": [
    {
     "name": "stdout",
     "output_type": "stream",
     "text": [
      "[50, 100, 150, 200, 250, 300, 350, 400, 450]\n",
      "[  1.00000000e-09   1.00000000e-08   1.00000000e-07   1.00000000e-06\n",
      "   1.00000000e-05   1.00000000e-04   1.00000000e-03   1.00000000e-02\n",
      "   1.00000000e-01   1.00000000e+00   1.00000000e+01]\n"
     ]
    },
    {
     "name": "stderr",
     "output_type": "stream",
     "text": [
      "/usr/local/lib/python2.7/site-packages/sklearn/preprocessing/data.py:321: DeprecationWarning: Passing 1d arrays as data is deprecated in 0.17 and will raise ValueError in 0.19. Reshape your data either using X.reshape(-1, 1) if your data has a single feature or X.reshape(1, -1) if it contains a single sample.\n",
      "  warnings.warn(DEPRECATION_MSG_1D, DeprecationWarning)\n",
      "/usr/local/lib/python2.7/site-packages/sklearn/preprocessing/data.py:356: DeprecationWarning: Passing 1d arrays as data is deprecated in 0.17 and will raise ValueError in 0.19. Reshape your data either using X.reshape(-1, 1) if your data has a single feature or X.reshape(1, -1) if it contains a single sample.\n",
      "  warnings.warn(DEPRECATION_MSG_1D, DeprecationWarning)\n"
     ]
    },
    {
     "name": "stdout",
     "output_type": "stream",
     "text": [
      "0.916483516484\n",
      "{'n_estimators': 50, 'learning_rate': 9.9999999999999995e-07, 'algorithm': 'SAMME'}\n"
     ]
    }
   ],
   "source": [
    "# Do grid search for best parameters to use for AdaBoostClassifier using top 3 features\n",
    "n_est_range = range(50, 500, 50)\n",
    "learn_rate_range = np.logspace(-9, 1, 11)\n",
    "print n_est_range\n",
    "print learn_rate_range\n",
    "\n",
    "parameters = {'n_estimators':n_est_range, 'learning_rate':learn_rate_range, 'algorithm':('SAMME', 'SAMME.R')}\n",
    "abc = AdaBoostClassifier(DecisionTreeClassifier())\n",
    "gscv = GridSearchCV(abc, parameters)\n",
    "\n",
    "X = data_train[selected_features_top3]\n",
    "y = data_train['diagnosis']\n",
    "X = scale_data(X)\n",
    "y = scale_data(y)\n",
    "\n",
    "gscv.fit(X, y)\n",
    "print gscv.best_score_\n",
    "print gscv.best_params_"
   ]
  },
  {
   "cell_type": "code",
   "execution_count": 292,
   "metadata": {},
   "outputs": [
    {
     "name": "stdout",
     "output_type": "stream",
     "text": [
      "[fold 0], score: 0.90132\n",
      "[fold 1], score: 0.88816\n",
      "[fold 2], score: 0.92715\n",
      "Training accuracy: 100.000%\n"
     ]
    },
    {
     "name": "stderr",
     "output_type": "stream",
     "text": [
      "/usr/local/lib/python2.7/site-packages/sklearn/preprocessing/data.py:321: DeprecationWarning: Passing 1d arrays as data is deprecated in 0.17 and will raise ValueError in 0.19. Reshape your data either using X.reshape(-1, 1) if your data has a single feature or X.reshape(1, -1) if it contains a single sample.\n",
      "  warnings.warn(DEPRECATION_MSG_1D, DeprecationWarning)\n",
      "/usr/local/lib/python2.7/site-packages/sklearn/preprocessing/data.py:356: DeprecationWarning: Passing 1d arrays as data is deprecated in 0.17 and will raise ValueError in 0.19. Reshape your data either using X.reshape(-1, 1) if your data has a single feature or X.reshape(1, -1) if it contains a single sample.\n",
      "  warnings.warn(DEPRECATION_MSG_1D, DeprecationWarning)\n"
     ]
    }
   ],
   "source": [
    "# Train AdaBoostClassifier model on top 3 features using best parameters found from grid search\n",
    "trained_bdt_model = train_bdt_model(data_train, selected_features_top3, 'diagnosis', n_est=50, learn_rate=1.0e-08, alg='SAMME')"
   ]
  },
  {
   "cell_type": "code",
   "execution_count": 293,
   "metadata": {},
   "outputs": [
    {
     "name": "stdout",
     "output_type": "stream",
     "text": [
      "F1 score: 0.881\n",
      "Accuracy: 91.228%\n"
     ]
    },
    {
     "name": "stderr",
     "output_type": "stream",
     "text": [
      "/usr/local/lib/python2.7/site-packages/sklearn/preprocessing/data.py:321: DeprecationWarning: Passing 1d arrays as data is deprecated in 0.17 and will raise ValueError in 0.19. Reshape your data either using X.reshape(-1, 1) if your data has a single feature or X.reshape(1, -1) if it contains a single sample.\n",
      "  warnings.warn(DEPRECATION_MSG_1D, DeprecationWarning)\n",
      "/usr/local/lib/python2.7/site-packages/sklearn/preprocessing/data.py:356: DeprecationWarning: Passing 1d arrays as data is deprecated in 0.17 and will raise ValueError in 0.19. Reshape your data either using X.reshape(-1, 1) if your data has a single feature or X.reshape(1, -1) if it contains a single sample.\n",
      "  warnings.warn(DEPRECATION_MSG_1D, DeprecationWarning)\n"
     ]
    }
   ],
   "source": [
    "test_svc_model(trained_bdt_model, data_test, selected_features_top3, 'diagnosis')"
   ]
  },
  {
   "cell_type": "code",
   "execution_count": 178,
   "metadata": {
    "collapsed": true
   },
   "outputs": [],
   "source": [
    "# Trains a RandomForestClassifier on the data\n",
    "def train_rfc_model(data, features, targets, maxDepth=None, n_est=10, max_feat='auto', min_samp_split=2):\n",
    "    rfc = RandomForestClassifier(max_depth=maxDepth, n_estimators=n_est, max_features=max_feat, min_samples_split=min_samp_split)\n",
    "    \n",
    "    X = data[features]\n",
    "    y = data[targets]\n",
    "    X = scale_data(X)\n",
    "    y = scale_data(y)\n",
    "    \n",
    "    kf = KFold(n_splits=3)\n",
    "    for k, (train, test) in enumerate(kf.split(X, y)):\n",
    "        train_X = (data[features].iloc[train,:])\n",
    "        train_y = data[targets].iloc[train]\n",
    "        test_X = (data[features].iloc[test,:])\n",
    "        test_y = data[targets].iloc[test]\n",
    "        \n",
    "        rfc.fit(train_X, train_y)\n",
    "        print(\"[fold {0}], score: {1:.5f}\".\n",
    "          format(k, rfc.score(test_X, test_y)))\n",
    "    \n",
    "    rfc.fit(X, y)\n",
    "    print(\"Training accuracy: %s\" % \"{0:.3%}\".format(rfc.score(X, y)))\n",
    "    \n",
    "    return rfc"
   ]
  },
  {
   "cell_type": "code",
   "execution_count": 226,
   "metadata": {},
   "outputs": [
    {
     "name": "stdout",
     "output_type": "stream",
     "text": [
      "[fold 0], score: 0.93421\n",
      "[fold 1], score: 0.94737\n",
      "[fold 2], score: 0.96689\n",
      "Training accuracy: 99.560%\n",
      "\n",
      "perimeter_worst            0.246738\n",
      "area_mean                  0.187863\n",
      "perimeter_mean             0.065499\n",
      "perimeter_se               0.060154\n",
      "radius_se                  0.055068\n",
      "compactness_mean           0.054497\n",
      "radius_worst               0.047963\n",
      "concavity_mean             0.039773\n",
      "concave points_mean        0.037824\n",
      "concave points_worst       0.036899\n",
      "concavity_worst            0.024982\n",
      "area_worst                 0.024925\n",
      "texture_worst              0.021528\n",
      "symmetry_worst             0.016126\n",
      "symmetry_mean              0.013853\n",
      "texture_mean               0.013517\n",
      "area_se                    0.010363\n",
      "compactness_worst          0.006394\n",
      "fractal_dimension_worst    0.006210\n",
      "fractal_dimension_se       0.005708\n",
      "radius_mean                0.004567\n",
      "symmetry_se                0.004543\n",
      "texture_se                 0.003673\n",
      "smoothness_worst           0.003395\n",
      "smoothness_mean            0.002250\n",
      "smoothness_se              0.001671\n",
      "fractal_dimension_mean     0.001625\n",
      "concavity_se               0.001182\n",
      "compactness_se             0.001104\n",
      "concave points_se          0.000107\n",
      "dtype: float64\n"
     ]
    },
    {
     "name": "stderr",
     "output_type": "stream",
     "text": [
      "/usr/local/lib/python2.7/site-packages/sklearn/preprocessing/data.py:321: DeprecationWarning: Passing 1d arrays as data is deprecated in 0.17 and will raise ValueError in 0.19. Reshape your data either using X.reshape(-1, 1) if your data has a single feature or X.reshape(1, -1) if it contains a single sample.\n",
      "  warnings.warn(DEPRECATION_MSG_1D, DeprecationWarning)\n",
      "/usr/local/lib/python2.7/site-packages/sklearn/preprocessing/data.py:356: DeprecationWarning: Passing 1d arrays as data is deprecated in 0.17 and will raise ValueError in 0.19. Reshape your data either using X.reshape(-1, 1) if your data has a single feature or X.reshape(1, -1) if it contains a single sample.\n",
      "  warnings.warn(DEPRECATION_MSG_1D, DeprecationWarning)\n"
     ]
    }
   ],
   "source": [
    "# Train RandomForestClassifier model on all the features\n",
    "trained_rfc_model = train_rfc_model(data_train, list(data_features), 'diagnosis')\n",
    "\n",
    "# Get the feature importance rankings and sort them\n",
    "featimp = pd.Series(trained_rfc_model.feature_importances_, index=list(data_features)).sort_values(ascending=False)\n",
    "print ''\n",
    "print featimp\n",
    "\n",
    "#print list(data_features)\n",
    "#print trained_rfc_model.feature_importances_"
   ]
  },
  {
   "cell_type": "code",
   "execution_count": 227,
   "metadata": {},
   "outputs": [
    {
     "name": "stdout",
     "output_type": "stream",
     "text": [
      "F1 score: 0.863\n",
      "Accuracy: 88.596%\n"
     ]
    },
    {
     "name": "stderr",
     "output_type": "stream",
     "text": [
      "/usr/local/lib/python2.7/site-packages/sklearn/preprocessing/data.py:321: DeprecationWarning: Passing 1d arrays as data is deprecated in 0.17 and will raise ValueError in 0.19. Reshape your data either using X.reshape(-1, 1) if your data has a single feature or X.reshape(1, -1) if it contains a single sample.\n",
      "  warnings.warn(DEPRECATION_MSG_1D, DeprecationWarning)\n",
      "/usr/local/lib/python2.7/site-packages/sklearn/preprocessing/data.py:356: DeprecationWarning: Passing 1d arrays as data is deprecated in 0.17 and will raise ValueError in 0.19. Reshape your data either using X.reshape(-1, 1) if your data has a single feature or X.reshape(1, -1) if it contains a single sample.\n",
      "  warnings.warn(DEPRECATION_MSG_1D, DeprecationWarning)\n"
     ]
    }
   ],
   "source": [
    "# Test trained RandomForestClassifier model on test set\n",
    "test_svc_model(trained_rfc_model, data_test, list(data_features), 'diagnosis')"
   ]
  },
  {
   "cell_type": "code",
   "execution_count": 228,
   "metadata": {
    "collapsed": true
   },
   "outputs": [],
   "source": [
    "# Top X features from the RandomForestClassifier feature rankings above\n",
    "rfc_features_top10 = ['area_worst', 'perimeter_worst', 'radius_worst', 'concave points_mean', 'concave points_worst', 'perimeter_mean', 'concavity_mean', 'area_mean', 'symmetry_worst', 'texture_worst']\n",
    "rfc_features_top5 = ['area_worst', 'perimeter_worst', 'radius_worst', 'concave points_mean', 'concave points_worst']\n",
    "rfc_features_top3 = ['area_worst', 'perimeter_worst', 'radius_worst']\n",
    "rfc_features_top1 = ['area_worst']"
   ]
  },
  {
   "cell_type": "code",
   "execution_count": 229,
   "metadata": {},
   "outputs": [
    {
     "name": "stdout",
     "output_type": "stream",
     "text": [
      "[fold 0], score: 0.94079\n",
      "[fold 1], score: 0.93421\n",
      "[fold 2], score: 0.96689\n",
      "Training accuracy: 99.560%\n"
     ]
    },
    {
     "name": "stderr",
     "output_type": "stream",
     "text": [
      "/usr/local/lib/python2.7/site-packages/sklearn/preprocessing/data.py:321: DeprecationWarning: Passing 1d arrays as data is deprecated in 0.17 and will raise ValueError in 0.19. Reshape your data either using X.reshape(-1, 1) if your data has a single feature or X.reshape(1, -1) if it contains a single sample.\n",
      "  warnings.warn(DEPRECATION_MSG_1D, DeprecationWarning)\n",
      "/usr/local/lib/python2.7/site-packages/sklearn/preprocessing/data.py:356: DeprecationWarning: Passing 1d arrays as data is deprecated in 0.17 and will raise ValueError in 0.19. Reshape your data either using X.reshape(-1, 1) if your data has a single feature or X.reshape(1, -1) if it contains a single sample.\n",
      "  warnings.warn(DEPRECATION_MSG_1D, DeprecationWarning)\n"
     ]
    }
   ],
   "source": [
    "# Train RandomForestClassifier model using top 10 features\n",
    "trained_rfc_model = train_rfc_model(data_train, rfc_features_top10, 'diagnosis')"
   ]
  },
  {
   "cell_type": "code",
   "execution_count": 230,
   "metadata": {},
   "outputs": [
    {
     "name": "stdout",
     "output_type": "stream",
     "text": [
      "F1 score: 0.929\n",
      "Accuracy: 94.737%\n"
     ]
    },
    {
     "name": "stderr",
     "output_type": "stream",
     "text": [
      "/usr/local/lib/python2.7/site-packages/sklearn/preprocessing/data.py:321: DeprecationWarning: Passing 1d arrays as data is deprecated in 0.17 and will raise ValueError in 0.19. Reshape your data either using X.reshape(-1, 1) if your data has a single feature or X.reshape(1, -1) if it contains a single sample.\n",
      "  warnings.warn(DEPRECATION_MSG_1D, DeprecationWarning)\n",
      "/usr/local/lib/python2.7/site-packages/sklearn/preprocessing/data.py:356: DeprecationWarning: Passing 1d arrays as data is deprecated in 0.17 and will raise ValueError in 0.19. Reshape your data either using X.reshape(-1, 1) if your data has a single feature or X.reshape(1, -1) if it contains a single sample.\n",
      "  warnings.warn(DEPRECATION_MSG_1D, DeprecationWarning)\n"
     ]
    }
   ],
   "source": [
    "test_svc_model(trained_rfc_model, data_test, rfc_features_top10, 'diagnosis')"
   ]
  },
  {
   "cell_type": "code",
   "execution_count": 232,
   "metadata": {},
   "outputs": [
    {
     "name": "stdout",
     "output_type": "stream",
     "text": [
      "[fold 0], score: 0.94079\n",
      "[fold 1], score: 0.92105\n",
      "[fold 2], score: 0.94702\n",
      "Training accuracy: 99.560%\n"
     ]
    },
    {
     "name": "stderr",
     "output_type": "stream",
     "text": [
      "/usr/local/lib/python2.7/site-packages/sklearn/preprocessing/data.py:321: DeprecationWarning: Passing 1d arrays as data is deprecated in 0.17 and will raise ValueError in 0.19. Reshape your data either using X.reshape(-1, 1) if your data has a single feature or X.reshape(1, -1) if it contains a single sample.\n",
      "  warnings.warn(DEPRECATION_MSG_1D, DeprecationWarning)\n",
      "/usr/local/lib/python2.7/site-packages/sklearn/preprocessing/data.py:356: DeprecationWarning: Passing 1d arrays as data is deprecated in 0.17 and will raise ValueError in 0.19. Reshape your data either using X.reshape(-1, 1) if your data has a single feature or X.reshape(1, -1) if it contains a single sample.\n",
      "  warnings.warn(DEPRECATION_MSG_1D, DeprecationWarning)\n"
     ]
    }
   ],
   "source": [
    "# Train RandomForestClassifier model using top 5 features\n",
    "trained_rfc_model = train_rfc_model(data_train, rfc_features_top5, 'diagnosis')"
   ]
  },
  {
   "cell_type": "code",
   "execution_count": 233,
   "metadata": {},
   "outputs": [
    {
     "name": "stdout",
     "output_type": "stream",
     "text": [
      "F1 score: 0.92\n",
      "Accuracy: 93.860%\n"
     ]
    },
    {
     "name": "stderr",
     "output_type": "stream",
     "text": [
      "/usr/local/lib/python2.7/site-packages/sklearn/preprocessing/data.py:321: DeprecationWarning: Passing 1d arrays as data is deprecated in 0.17 and will raise ValueError in 0.19. Reshape your data either using X.reshape(-1, 1) if your data has a single feature or X.reshape(1, -1) if it contains a single sample.\n",
      "  warnings.warn(DEPRECATION_MSG_1D, DeprecationWarning)\n",
      "/usr/local/lib/python2.7/site-packages/sklearn/preprocessing/data.py:356: DeprecationWarning: Passing 1d arrays as data is deprecated in 0.17 and will raise ValueError in 0.19. Reshape your data either using X.reshape(-1, 1) if your data has a single feature or X.reshape(1, -1) if it contains a single sample.\n",
      "  warnings.warn(DEPRECATION_MSG_1D, DeprecationWarning)\n"
     ]
    }
   ],
   "source": [
    "test_svc_model(trained_rfc_model, data_test, rfc_features_top5, 'diagnosis')"
   ]
  },
  {
   "cell_type": "code",
   "execution_count": 234,
   "metadata": {},
   "outputs": [
    {
     "name": "stdout",
     "output_type": "stream",
     "text": [
      "[fold 0], score: 0.88816\n",
      "[fold 1], score: 0.90789\n",
      "[fold 2], score: 0.92715\n",
      "Training accuracy: 99.121%\n"
     ]
    },
    {
     "name": "stderr",
     "output_type": "stream",
     "text": [
      "/usr/local/lib/python2.7/site-packages/sklearn/preprocessing/data.py:321: DeprecationWarning: Passing 1d arrays as data is deprecated in 0.17 and will raise ValueError in 0.19. Reshape your data either using X.reshape(-1, 1) if your data has a single feature or X.reshape(1, -1) if it contains a single sample.\n",
      "  warnings.warn(DEPRECATION_MSG_1D, DeprecationWarning)\n",
      "/usr/local/lib/python2.7/site-packages/sklearn/preprocessing/data.py:356: DeprecationWarning: Passing 1d arrays as data is deprecated in 0.17 and will raise ValueError in 0.19. Reshape your data either using X.reshape(-1, 1) if your data has a single feature or X.reshape(1, -1) if it contains a single sample.\n",
      "  warnings.warn(DEPRECATION_MSG_1D, DeprecationWarning)\n"
     ]
    }
   ],
   "source": [
    "# Train RandomForestClassifier model using top 3 features\n",
    "trained_rfc_model = train_rfc_model(data_train, rfc_features_top3, 'diagnosis')"
   ]
  },
  {
   "cell_type": "code",
   "execution_count": 235,
   "metadata": {},
   "outputs": [
    {
     "name": "stdout",
     "output_type": "stream",
     "text": [
      "F1 score: 0.782\n",
      "Accuracy: 83.333%\n"
     ]
    },
    {
     "name": "stderr",
     "output_type": "stream",
     "text": [
      "/usr/local/lib/python2.7/site-packages/sklearn/preprocessing/data.py:321: DeprecationWarning: Passing 1d arrays as data is deprecated in 0.17 and will raise ValueError in 0.19. Reshape your data either using X.reshape(-1, 1) if your data has a single feature or X.reshape(1, -1) if it contains a single sample.\n",
      "  warnings.warn(DEPRECATION_MSG_1D, DeprecationWarning)\n",
      "/usr/local/lib/python2.7/site-packages/sklearn/preprocessing/data.py:356: DeprecationWarning: Passing 1d arrays as data is deprecated in 0.17 and will raise ValueError in 0.19. Reshape your data either using X.reshape(-1, 1) if your data has a single feature or X.reshape(1, -1) if it contains a single sample.\n",
      "  warnings.warn(DEPRECATION_MSG_1D, DeprecationWarning)\n"
     ]
    }
   ],
   "source": [
    "test_svc_model(trained_rfc_model, data_test, rfc_features_top3, 'diagnosis')"
   ]
  },
  {
   "cell_type": "code",
   "execution_count": 422,
   "metadata": {},
   "outputs": [
    {
     "name": "stdout",
     "output_type": "stream",
     "text": [
      "[fold 0], score: 0.88158\n",
      "[fold 1], score: 0.85526\n",
      "[fold 2], score: 0.87417\n",
      "Training accuracy: 97.582%\n"
     ]
    },
    {
     "name": "stderr",
     "output_type": "stream",
     "text": [
      "/usr/local/lib/python2.7/site-packages/sklearn/preprocessing/data.py:321: DeprecationWarning: Passing 1d arrays as data is deprecated in 0.17 and will raise ValueError in 0.19. Reshape your data either using X.reshape(-1, 1) if your data has a single feature or X.reshape(1, -1) if it contains a single sample.\n",
      "  warnings.warn(DEPRECATION_MSG_1D, DeprecationWarning)\n",
      "/usr/local/lib/python2.7/site-packages/sklearn/preprocessing/data.py:356: DeprecationWarning: Passing 1d arrays as data is deprecated in 0.17 and will raise ValueError in 0.19. Reshape your data either using X.reshape(-1, 1) if your data has a single feature or X.reshape(1, -1) if it contains a single sample.\n",
      "  warnings.warn(DEPRECATION_MSG_1D, DeprecationWarning)\n"
     ]
    }
   ],
   "source": [
    "# Train RandomForestClassifier model using top 1 features\n",
    "trained_rfc_model = train_rfc_model(data_train, rfc_features_top1, 'diagnosis')"
   ]
  },
  {
   "cell_type": "code",
   "execution_count": 423,
   "metadata": {},
   "outputs": [
    {
     "name": "stdout",
     "output_type": "stream",
     "text": [
      "F1 score: 0.849\n",
      "Accuracy: 90.351%\n"
     ]
    },
    {
     "name": "stderr",
     "output_type": "stream",
     "text": [
      "/usr/local/lib/python2.7/site-packages/sklearn/preprocessing/data.py:321: DeprecationWarning: Passing 1d arrays as data is deprecated in 0.17 and will raise ValueError in 0.19. Reshape your data either using X.reshape(-1, 1) if your data has a single feature or X.reshape(1, -1) if it contains a single sample.\n",
      "  warnings.warn(DEPRECATION_MSG_1D, DeprecationWarning)\n",
      "/usr/local/lib/python2.7/site-packages/sklearn/preprocessing/data.py:356: DeprecationWarning: Passing 1d arrays as data is deprecated in 0.17 and will raise ValueError in 0.19. Reshape your data either using X.reshape(-1, 1) if your data has a single feature or X.reshape(1, -1) if it contains a single sample.\n",
      "  warnings.warn(DEPRECATION_MSG_1D, DeprecationWarning)\n"
     ]
    }
   ],
   "source": [
    "test_svc_model(trained_rfc_model, data_test, rfc_features_top1, 'diagnosis')"
   ]
  },
  {
   "cell_type": "code",
   "execution_count": 236,
   "metadata": {},
   "outputs": [
    {
     "name": "stdout",
     "output_type": "stream",
     "text": [
      "[5, 10, 15]\n",
      "[1, 2, 3, 4, 5, 6, 7]\n",
      "[10, 15, 20, 25]\n"
     ]
    },
    {
     "name": "stderr",
     "output_type": "stream",
     "text": [
      "/usr/local/lib/python2.7/site-packages/sklearn/preprocessing/data.py:321: DeprecationWarning: Passing 1d arrays as data is deprecated in 0.17 and will raise ValueError in 0.19. Reshape your data either using X.reshape(-1, 1) if your data has a single feature or X.reshape(1, -1) if it contains a single sample.\n",
      "  warnings.warn(DEPRECATION_MSG_1D, DeprecationWarning)\n",
      "/usr/local/lib/python2.7/site-packages/sklearn/preprocessing/data.py:356: DeprecationWarning: Passing 1d arrays as data is deprecated in 0.17 and will raise ValueError in 0.19. Reshape your data either using X.reshape(-1, 1) if your data has a single feature or X.reshape(1, -1) if it contains a single sample.\n",
      "  warnings.warn(DEPRECATION_MSG_1D, DeprecationWarning)\n"
     ]
    },
    {
     "name": "stdout",
     "output_type": "stream",
     "text": [
      "0.956043956044\n",
      "{'min_samples_split': 10, 'n_estimators': 10, 'max_depth': 6}\n"
     ]
    }
   ],
   "source": [
    "# Do grid search for best parameters to use for RandomForestClassifier using top 10 features\n",
    "n_est_range = range(5, 20, 5)\n",
    "max_depth_range = range(1, 8)\n",
    "min_sampSplit_range = range(10, 30, 5)\n",
    "\n",
    "print n_est_range\n",
    "print max_depth_range\n",
    "print min_sampSplit_range\n",
    "\n",
    "parameters = {'n_estimators':n_est_range, 'max_depth':max_depth_range, 'min_samples_split':min_sampSplit_range}\n",
    "rfc = RandomForestClassifier(n_jobs=-1)\n",
    "gscv = GridSearchCV(rfc, parameters)\n",
    "\n",
    "X = data_train[rfc_features_top10]\n",
    "y = data_train['diagnosis']\n",
    "X = scale_data(X)\n",
    "y = scale_data(y)\n",
    "\n",
    "gscv.fit(X, y)\n",
    "print gscv.best_score_\n",
    "print gscv.best_params_"
   ]
  },
  {
   "cell_type": "code",
   "execution_count": 241,
   "metadata": {},
   "outputs": [
    {
     "name": "stdout",
     "output_type": "stream",
     "text": [
      "[fold 0], score: 0.95395\n",
      "[fold 1], score: 0.92105\n",
      "[fold 2], score: 0.96689\n",
      "Training accuracy: 98.242%\n"
     ]
    },
    {
     "name": "stderr",
     "output_type": "stream",
     "text": [
      "/usr/local/lib/python2.7/site-packages/sklearn/preprocessing/data.py:321: DeprecationWarning: Passing 1d arrays as data is deprecated in 0.17 and will raise ValueError in 0.19. Reshape your data either using X.reshape(-1, 1) if your data has a single feature or X.reshape(1, -1) if it contains a single sample.\n",
      "  warnings.warn(DEPRECATION_MSG_1D, DeprecationWarning)\n",
      "/usr/local/lib/python2.7/site-packages/sklearn/preprocessing/data.py:356: DeprecationWarning: Passing 1d arrays as data is deprecated in 0.17 and will raise ValueError in 0.19. Reshape your data either using X.reshape(-1, 1) if your data has a single feature or X.reshape(1, -1) if it contains a single sample.\n",
      "  warnings.warn(DEPRECATION_MSG_1D, DeprecationWarning)\n"
     ]
    }
   ],
   "source": [
    "# Train RandomForestClassifier using parameters found from grid search\n",
    "trained_rfc_model = train_rfc_model(data_train, rfc_features_top10, 'diagnosis', maxDepth=6, n_est=10, min_samp_split=10)"
   ]
  },
  {
   "cell_type": "code",
   "execution_count": 242,
   "metadata": {},
   "outputs": [
    {
     "name": "stdout",
     "output_type": "stream",
     "text": [
      "F1 score: 0.941\n",
      "Accuracy: 95.614%\n"
     ]
    },
    {
     "name": "stderr",
     "output_type": "stream",
     "text": [
      "/usr/local/lib/python2.7/site-packages/sklearn/preprocessing/data.py:321: DeprecationWarning: Passing 1d arrays as data is deprecated in 0.17 and will raise ValueError in 0.19. Reshape your data either using X.reshape(-1, 1) if your data has a single feature or X.reshape(1, -1) if it contains a single sample.\n",
      "  warnings.warn(DEPRECATION_MSG_1D, DeprecationWarning)\n",
      "/usr/local/lib/python2.7/site-packages/sklearn/preprocessing/data.py:356: DeprecationWarning: Passing 1d arrays as data is deprecated in 0.17 and will raise ValueError in 0.19. Reshape your data either using X.reshape(-1, 1) if your data has a single feature or X.reshape(1, -1) if it contains a single sample.\n",
      "  warnings.warn(DEPRECATION_MSG_1D, DeprecationWarning)\n"
     ]
    }
   ],
   "source": [
    "test_svc_model(trained_rfc_model, data_test, rfc_features_top10, 'diagnosis')"
   ]
  },
  {
   "cell_type": "code",
   "execution_count": 435,
   "metadata": {},
   "outputs": [
    {
     "name": "stdout",
     "output_type": "stream",
     "text": [
      "[fold 0], score: 0.62500\n",
      "[fold 1], score: 0.62500\n",
      "[fold 2], score: 0.62914\n",
      "Training accuracy: 96.264%\n"
     ]
    },
    {
     "name": "stderr",
     "output_type": "stream",
     "text": [
      "/usr/local/lib/python2.7/site-packages/sklearn/preprocessing/data.py:321: DeprecationWarning: Passing 1d arrays as data is deprecated in 0.17 and will raise ValueError in 0.19. Reshape your data either using X.reshape(-1, 1) if your data has a single feature or X.reshape(1, -1) if it contains a single sample.\n",
      "  warnings.warn(DEPRECATION_MSG_1D, DeprecationWarning)\n",
      "/usr/local/lib/python2.7/site-packages/sklearn/preprocessing/data.py:356: DeprecationWarning: Passing 1d arrays as data is deprecated in 0.17 and will raise ValueError in 0.19. Reshape your data either using X.reshape(-1, 1) if your data has a single feature or X.reshape(1, -1) if it contains a single sample.\n",
      "  warnings.warn(DEPRECATION_MSG_1D, DeprecationWarning)\n"
     ]
    }
   ],
   "source": [
    "# Train SVC model using top 10 features found using our RandomForestClassifier\n",
    "trained_model = train_svc_model(data_train, rfc_features_top10, 'diagnosis')"
   ]
  },
  {
   "cell_type": "code",
   "execution_count": 436,
   "metadata": {},
   "outputs": [
    {
     "name": "stdout",
     "output_type": "stream",
     "text": [
      "F1 score: 0.95\n",
      "Accuracy: 96.491%\n"
     ]
    },
    {
     "name": "stderr",
     "output_type": "stream",
     "text": [
      "/usr/local/lib/python2.7/site-packages/sklearn/preprocessing/data.py:321: DeprecationWarning: Passing 1d arrays as data is deprecated in 0.17 and will raise ValueError in 0.19. Reshape your data either using X.reshape(-1, 1) if your data has a single feature or X.reshape(1, -1) if it contains a single sample.\n",
      "  warnings.warn(DEPRECATION_MSG_1D, DeprecationWarning)\n",
      "/usr/local/lib/python2.7/site-packages/sklearn/preprocessing/data.py:356: DeprecationWarning: Passing 1d arrays as data is deprecated in 0.17 and will raise ValueError in 0.19. Reshape your data either using X.reshape(-1, 1) if your data has a single feature or X.reshape(1, -1) if it contains a single sample.\n",
      "  warnings.warn(DEPRECATION_MSG_1D, DeprecationWarning)\n"
     ]
    }
   ],
   "source": [
    "test_svc_model(trained_model, data_test, rfc_features_top10, 'diagnosis')"
   ]
  },
  {
   "cell_type": "code",
   "execution_count": 426,
   "metadata": {},
   "outputs": [
    {
     "name": "stdout",
     "output_type": "stream",
     "text": [
      "[fold 0], score: 0.65789\n",
      "[fold 1], score: 0.60526\n",
      "[fold 2], score: 0.65563\n",
      "Training accuracy: 94.066%\n"
     ]
    },
    {
     "name": "stderr",
     "output_type": "stream",
     "text": [
      "/usr/local/lib/python2.7/site-packages/sklearn/preprocessing/data.py:321: DeprecationWarning: Passing 1d arrays as data is deprecated in 0.17 and will raise ValueError in 0.19. Reshape your data either using X.reshape(-1, 1) if your data has a single feature or X.reshape(1, -1) if it contains a single sample.\n",
      "  warnings.warn(DEPRECATION_MSG_1D, DeprecationWarning)\n",
      "/usr/local/lib/python2.7/site-packages/sklearn/preprocessing/data.py:356: DeprecationWarning: Passing 1d arrays as data is deprecated in 0.17 and will raise ValueError in 0.19. Reshape your data either using X.reshape(-1, 1) if your data has a single feature or X.reshape(1, -1) if it contains a single sample.\n",
      "  warnings.warn(DEPRECATION_MSG_1D, DeprecationWarning)\n"
     ]
    }
   ],
   "source": [
    "# Train SVC model using top 5 features found using our RandomForestClassifier\n",
    "trained_model = train_svc_model(data_train, rfc_features_top5, 'diagnosis')"
   ]
  },
  {
   "cell_type": "code",
   "execution_count": 427,
   "metadata": {},
   "outputs": [
    {
     "name": "stdout",
     "output_type": "stream",
     "text": [
      "F1 score: 0.895\n",
      "Accuracy: 92.982%\n"
     ]
    },
    {
     "name": "stderr",
     "output_type": "stream",
     "text": [
      "/usr/local/lib/python2.7/site-packages/sklearn/preprocessing/data.py:321: DeprecationWarning: Passing 1d arrays as data is deprecated in 0.17 and will raise ValueError in 0.19. Reshape your data either using X.reshape(-1, 1) if your data has a single feature or X.reshape(1, -1) if it contains a single sample.\n",
      "  warnings.warn(DEPRECATION_MSG_1D, DeprecationWarning)\n",
      "/usr/local/lib/python2.7/site-packages/sklearn/preprocessing/data.py:356: DeprecationWarning: Passing 1d arrays as data is deprecated in 0.17 and will raise ValueError in 0.19. Reshape your data either using X.reshape(-1, 1) if your data has a single feature or X.reshape(1, -1) if it contains a single sample.\n",
      "  warnings.warn(DEPRECATION_MSG_1D, DeprecationWarning)\n"
     ]
    }
   ],
   "source": [
    "test_svc_model(trained_model, data_test, rfc_features_top5, 'diagnosis')"
   ]
  },
  {
   "cell_type": "code",
   "execution_count": 428,
   "metadata": {},
   "outputs": [
    {
     "name": "stdout",
     "output_type": "stream",
     "text": [
      "[fold 0], score: 0.65132\n",
      "[fold 1], score: 0.61842\n",
      "[fold 2], score: 0.65563\n",
      "Training accuracy: 91.209%\n"
     ]
    },
    {
     "name": "stderr",
     "output_type": "stream",
     "text": [
      "/usr/local/lib/python2.7/site-packages/sklearn/preprocessing/data.py:321: DeprecationWarning: Passing 1d arrays as data is deprecated in 0.17 and will raise ValueError in 0.19. Reshape your data either using X.reshape(-1, 1) if your data has a single feature or X.reshape(1, -1) if it contains a single sample.\n",
      "  warnings.warn(DEPRECATION_MSG_1D, DeprecationWarning)\n",
      "/usr/local/lib/python2.7/site-packages/sklearn/preprocessing/data.py:356: DeprecationWarning: Passing 1d arrays as data is deprecated in 0.17 and will raise ValueError in 0.19. Reshape your data either using X.reshape(-1, 1) if your data has a single feature or X.reshape(1, -1) if it contains a single sample.\n",
      "  warnings.warn(DEPRECATION_MSG_1D, DeprecationWarning)\n"
     ]
    }
   ],
   "source": [
    "# Train SVC model using top 3 features found using our RandomForestClassifier\n",
    "trained_model = train_svc_model(data_train, rfc_features_top3, 'diagnosis')"
   ]
  },
  {
   "cell_type": "code",
   "execution_count": 429,
   "metadata": {},
   "outputs": [
    {
     "name": "stdout",
     "output_type": "stream",
     "text": [
      "F1 score: 0.833\n",
      "Accuracy: 89.474%\n"
     ]
    },
    {
     "name": "stderr",
     "output_type": "stream",
     "text": [
      "/usr/local/lib/python2.7/site-packages/sklearn/preprocessing/data.py:321: DeprecationWarning: Passing 1d arrays as data is deprecated in 0.17 and will raise ValueError in 0.19. Reshape your data either using X.reshape(-1, 1) if your data has a single feature or X.reshape(1, -1) if it contains a single sample.\n",
      "  warnings.warn(DEPRECATION_MSG_1D, DeprecationWarning)\n",
      "/usr/local/lib/python2.7/site-packages/sklearn/preprocessing/data.py:356: DeprecationWarning: Passing 1d arrays as data is deprecated in 0.17 and will raise ValueError in 0.19. Reshape your data either using X.reshape(-1, 1) if your data has a single feature or X.reshape(1, -1) if it contains a single sample.\n",
      "  warnings.warn(DEPRECATION_MSG_1D, DeprecationWarning)\n"
     ]
    }
   ],
   "source": [
    "test_svc_model(trained_model, data_test, rfc_features_top3, 'diagnosis')"
   ]
  },
  {
   "cell_type": "code",
   "execution_count": 430,
   "metadata": {},
   "outputs": [
    {
     "name": "stdout",
     "output_type": "stream",
     "text": [
      "[fold 0], score: 0.69079\n",
      "[fold 1], score: 0.63816\n",
      "[fold 2], score: 0.68212\n",
      "Training accuracy: 89.890%\n"
     ]
    },
    {
     "name": "stderr",
     "output_type": "stream",
     "text": [
      "/usr/local/lib/python2.7/site-packages/sklearn/preprocessing/data.py:321: DeprecationWarning: Passing 1d arrays as data is deprecated in 0.17 and will raise ValueError in 0.19. Reshape your data either using X.reshape(-1, 1) if your data has a single feature or X.reshape(1, -1) if it contains a single sample.\n",
      "  warnings.warn(DEPRECATION_MSG_1D, DeprecationWarning)\n",
      "/usr/local/lib/python2.7/site-packages/sklearn/preprocessing/data.py:356: DeprecationWarning: Passing 1d arrays as data is deprecated in 0.17 and will raise ValueError in 0.19. Reshape your data either using X.reshape(-1, 1) if your data has a single feature or X.reshape(1, -1) if it contains a single sample.\n",
      "  warnings.warn(DEPRECATION_MSG_1D, DeprecationWarning)\n"
     ]
    }
   ],
   "source": [
    "# Train SVC model using top 1 features found using our RandomForestClassifier\n",
    "trained_model = train_svc_model(data_train, rfc_features_top1, 'diagnosis')"
   ]
  },
  {
   "cell_type": "code",
   "execution_count": 431,
   "metadata": {},
   "outputs": [
    {
     "name": "stdout",
     "output_type": "stream",
     "text": [
      "F1 score: 0.765\n",
      "Accuracy: 85.965%\n"
     ]
    },
    {
     "name": "stderr",
     "output_type": "stream",
     "text": [
      "/usr/local/lib/python2.7/site-packages/sklearn/preprocessing/data.py:321: DeprecationWarning: Passing 1d arrays as data is deprecated in 0.17 and will raise ValueError in 0.19. Reshape your data either using X.reshape(-1, 1) if your data has a single feature or X.reshape(1, -1) if it contains a single sample.\n",
      "  warnings.warn(DEPRECATION_MSG_1D, DeprecationWarning)\n",
      "/usr/local/lib/python2.7/site-packages/sklearn/preprocessing/data.py:356: DeprecationWarning: Passing 1d arrays as data is deprecated in 0.17 and will raise ValueError in 0.19. Reshape your data either using X.reshape(-1, 1) if your data has a single feature or X.reshape(1, -1) if it contains a single sample.\n",
      "  warnings.warn(DEPRECATION_MSG_1D, DeprecationWarning)\n"
     ]
    }
   ],
   "source": [
    "test_svc_model(trained_model, data_test, rfc_features_top1, 'diagnosis')"
   ]
  },
  {
   "cell_type": "code",
   "execution_count": 437,
   "metadata": {},
   "outputs": [
    {
     "name": "stdout",
     "output_type": "stream",
     "text": [
      "[  1.00000000e+00   1.00000000e+01   1.00000000e+02   1.00000000e+03\n",
      "   1.00000000e+04   1.00000000e+05   1.00000000e+06   1.00000000e+07]\n",
      "[  1.00000000e-04   1.00000000e-03   1.00000000e-02   1.00000000e-01\n",
      "   1.00000000e+00   1.00000000e+01   1.00000000e+02   1.00000000e+03]\n",
      "Fitting 3 folds for each of 128 candidates, totalling 384 fits\n"
     ]
    },
    {
     "name": "stderr",
     "output_type": "stream",
     "text": [
      "/usr/local/lib/python2.7/site-packages/sklearn/preprocessing/data.py:321: DeprecationWarning: Passing 1d arrays as data is deprecated in 0.17 and will raise ValueError in 0.19. Reshape your data either using X.reshape(-1, 1) if your data has a single feature or X.reshape(1, -1) if it contains a single sample.\n",
      "  warnings.warn(DEPRECATION_MSG_1D, DeprecationWarning)\n",
      "/usr/local/lib/python2.7/site-packages/sklearn/preprocessing/data.py:356: DeprecationWarning: Passing 1d arrays as data is deprecated in 0.17 and will raise ValueError in 0.19. Reshape your data either using X.reshape(-1, 1) if your data has a single feature or X.reshape(1, -1) if it contains a single sample.\n",
      "  warnings.warn(DEPRECATION_MSG_1D, DeprecationWarning)\n"
     ]
    },
    {
     "name": "stdout",
     "output_type": "stream",
     "text": [
      "0.975824175824\n",
      "{'kernel': 'rbf', 'C': 100000.0, 'gamma': 0.01}\n"
     ]
    },
    {
     "name": "stderr",
     "output_type": "stream",
     "text": [
      "[Parallel(n_jobs=-1)]: Done 384 out of 384 | elapsed:    0.9s finished\n"
     ]
    }
   ],
   "source": [
    "# Grid search for best SVC parameters using top 10 features found using our RandomForestClassifier\n",
    "C_range = np.logspace(0, 7, 8)\n",
    "gamma_range = np.logspace(-4, 3, 8)\n",
    "print C_range\n",
    "print gamma_range\n",
    "\n",
    "parameters = {'kernel':('rbf', 'sigmoid'), 'C':C_range, 'gamma':gamma_range}\n",
    "svc = SVC()\n",
    "clf = GridSearchCV(svc, parameters, n_jobs=-1, cv=3, verbose=1)\n",
    "\n",
    "X = data_train[rfc_features_top10]\n",
    "y = data_train['diagnosis']\n",
    "X = scale_data(X)\n",
    "y = scale_data(y)\n",
    "\n",
    "clf.fit(X, y)\n",
    "print clf.best_score_\n",
    "print clf.best_params_"
   ]
  },
  {
   "cell_type": "code",
   "execution_count": 438,
   "metadata": {},
   "outputs": [
    {
     "name": "stdout",
     "output_type": "stream",
     "text": [
      "[fold 0], score: 0.64474\n",
      "[fold 1], score: 0.63816\n",
      "[fold 2], score: 0.63576\n",
      "Training accuracy: 98.462%\n"
     ]
    },
    {
     "name": "stderr",
     "output_type": "stream",
     "text": [
      "/usr/local/lib/python2.7/site-packages/sklearn/preprocessing/data.py:321: DeprecationWarning: Passing 1d arrays as data is deprecated in 0.17 and will raise ValueError in 0.19. Reshape your data either using X.reshape(-1, 1) if your data has a single feature or X.reshape(1, -1) if it contains a single sample.\n",
      "  warnings.warn(DEPRECATION_MSG_1D, DeprecationWarning)\n",
      "/usr/local/lib/python2.7/site-packages/sklearn/preprocessing/data.py:356: DeprecationWarning: Passing 1d arrays as data is deprecated in 0.17 and will raise ValueError in 0.19. Reshape your data either using X.reshape(-1, 1) if your data has a single feature or X.reshape(1, -1) if it contains a single sample.\n",
      "  warnings.warn(DEPRECATION_MSG_1D, DeprecationWarning)\n"
     ]
    }
   ],
   "source": [
    "# Train SVC model using parameters found from grid search\n",
    "trained_model = train_svc_model(data_train, rfc_features_top10, 'diagnosis', c=100000.0, gamm=0.01)"
   ]
  },
  {
   "cell_type": "code",
   "execution_count": 442,
   "metadata": {},
   "outputs": [
    {
     "name": "stdout",
     "output_type": "stream",
     "text": [
      "F1 score: 0.938\n",
      "Accuracy: 95.614%\n"
     ]
    },
    {
     "name": "stderr",
     "output_type": "stream",
     "text": [
      "/usr/local/lib/python2.7/site-packages/sklearn/preprocessing/data.py:321: DeprecationWarning: Passing 1d arrays as data is deprecated in 0.17 and will raise ValueError in 0.19. Reshape your data either using X.reshape(-1, 1) if your data has a single feature or X.reshape(1, -1) if it contains a single sample.\n",
      "  warnings.warn(DEPRECATION_MSG_1D, DeprecationWarning)\n",
      "/usr/local/lib/python2.7/site-packages/sklearn/preprocessing/data.py:356: DeprecationWarning: Passing 1d arrays as data is deprecated in 0.17 and will raise ValueError in 0.19. Reshape your data either using X.reshape(-1, 1) if your data has a single feature or X.reshape(1, -1) if it contains a single sample.\n",
      "  warnings.warn(DEPRECATION_MSG_1D, DeprecationWarning)\n"
     ]
    }
   ],
   "source": [
    "test_svc_model(trained_model, data_test, rfc_features_top10, 'diagnosis')"
   ]
  },
  {
   "cell_type": "code",
   "execution_count": 263,
   "metadata": {},
   "outputs": [
    {
     "name": "stderr",
     "output_type": "stream",
     "text": [
      "/usr/local/lib/python2.7/site-packages/sklearn/preprocessing/data.py:321: DeprecationWarning: Passing 1d arrays as data is deprecated in 0.17 and will raise ValueError in 0.19. Reshape your data either using X.reshape(-1, 1) if your data has a single feature or X.reshape(1, -1) if it contains a single sample.\n",
      "  warnings.warn(DEPRECATION_MSG_1D, DeprecationWarning)\n",
      "/usr/local/lib/python2.7/site-packages/sklearn/preprocessing/data.py:356: DeprecationWarning: Passing 1d arrays as data is deprecated in 0.17 and will raise ValueError in 0.19. Reshape your data either using X.reshape(-1, 1) if your data has a single feature or X.reshape(1, -1) if it contains a single sample.\n",
      "  warnings.warn(DEPRECATION_MSG_1D, DeprecationWarning)\n"
     ]
    },
    {
     "name": "stdout",
     "output_type": "stream",
     "text": [
      "[fold 0], score: 0.85526\n",
      "[fold 1], score: 0.87500\n",
      "[fold 2], score: 0.88079\n",
      "Training accuracy: 99.121%\n"
     ]
    }
   ],
   "source": [
    "# Train AdaBoostClassifier model on top 1 feature found using our RandomForestClassifier \n",
    "trained_bdt_model = train_bdt_model(data_train, rfc_features_top1, 'diagnosis')"
   ]
  },
  {
   "cell_type": "code",
   "execution_count": 264,
   "metadata": {},
   "outputs": [
    {
     "name": "stdout",
     "output_type": "stream",
     "text": [
      "F1 score: 0.813\n",
      "Accuracy: 85.088%\n"
     ]
    },
    {
     "name": "stderr",
     "output_type": "stream",
     "text": [
      "/usr/local/lib/python2.7/site-packages/sklearn/preprocessing/data.py:321: DeprecationWarning: Passing 1d arrays as data is deprecated in 0.17 and will raise ValueError in 0.19. Reshape your data either using X.reshape(-1, 1) if your data has a single feature or X.reshape(1, -1) if it contains a single sample.\n",
      "  warnings.warn(DEPRECATION_MSG_1D, DeprecationWarning)\n",
      "/usr/local/lib/python2.7/site-packages/sklearn/preprocessing/data.py:356: DeprecationWarning: Passing 1d arrays as data is deprecated in 0.17 and will raise ValueError in 0.19. Reshape your data either using X.reshape(-1, 1) if your data has a single feature or X.reshape(1, -1) if it contains a single sample.\n",
      "  warnings.warn(DEPRECATION_MSG_1D, DeprecationWarning)\n"
     ]
    }
   ],
   "source": [
    "test_svc_model(trained_bdt_model, data_test, rfc_features_top1, 'diagnosis')"
   ]
  },
  {
   "cell_type": "code",
   "execution_count": 265,
   "metadata": {},
   "outputs": [
    {
     "name": "stdout",
     "output_type": "stream",
     "text": [
      "[fold 0], score: 0.89474\n",
      "[fold 1], score: 0.88816\n",
      "[fold 2], score: 0.91391\n",
      "Training accuracy: 100.000%\n"
     ]
    },
    {
     "name": "stderr",
     "output_type": "stream",
     "text": [
      "/usr/local/lib/python2.7/site-packages/sklearn/preprocessing/data.py:321: DeprecationWarning: Passing 1d arrays as data is deprecated in 0.17 and will raise ValueError in 0.19. Reshape your data either using X.reshape(-1, 1) if your data has a single feature or X.reshape(1, -1) if it contains a single sample.\n",
      "  warnings.warn(DEPRECATION_MSG_1D, DeprecationWarning)\n",
      "/usr/local/lib/python2.7/site-packages/sklearn/preprocessing/data.py:356: DeprecationWarning: Passing 1d arrays as data is deprecated in 0.17 and will raise ValueError in 0.19. Reshape your data either using X.reshape(-1, 1) if your data has a single feature or X.reshape(1, -1) if it contains a single sample.\n",
      "  warnings.warn(DEPRECATION_MSG_1D, DeprecationWarning)\n"
     ]
    }
   ],
   "source": [
    "# Train AdaBoostClassifier model on top 3 feature found using our RandomForestClassifier \n",
    "trained_bdt_model = train_bdt_model(data_train, rfc_features_top3, 'diagnosis')"
   ]
  },
  {
   "cell_type": "code",
   "execution_count": 266,
   "metadata": {},
   "outputs": [
    {
     "name": "stdout",
     "output_type": "stream",
     "text": [
      "F1 score: 0.85\n",
      "Accuracy: 89.474%\n"
     ]
    },
    {
     "name": "stderr",
     "output_type": "stream",
     "text": [
      "/usr/local/lib/python2.7/site-packages/sklearn/preprocessing/data.py:321: DeprecationWarning: Passing 1d arrays as data is deprecated in 0.17 and will raise ValueError in 0.19. Reshape your data either using X.reshape(-1, 1) if your data has a single feature or X.reshape(1, -1) if it contains a single sample.\n",
      "  warnings.warn(DEPRECATION_MSG_1D, DeprecationWarning)\n",
      "/usr/local/lib/python2.7/site-packages/sklearn/preprocessing/data.py:356: DeprecationWarning: Passing 1d arrays as data is deprecated in 0.17 and will raise ValueError in 0.19. Reshape your data either using X.reshape(-1, 1) if your data has a single feature or X.reshape(1, -1) if it contains a single sample.\n",
      "  warnings.warn(DEPRECATION_MSG_1D, DeprecationWarning)\n"
     ]
    }
   ],
   "source": [
    "test_svc_model(trained_bdt_model, data_test, rfc_features_top3, 'diagnosis')"
   ]
  },
  {
   "cell_type": "code",
   "execution_count": 267,
   "metadata": {},
   "outputs": [
    {
     "name": "stdout",
     "output_type": "stream",
     "text": [
      "[fold 0], score: 0.90789\n",
      "[fold 1], score: 0.90789\n",
      "[fold 2], score: 0.94702\n",
      "Training accuracy: 100.000%\n"
     ]
    },
    {
     "name": "stderr",
     "output_type": "stream",
     "text": [
      "/usr/local/lib/python2.7/site-packages/sklearn/preprocessing/data.py:321: DeprecationWarning: Passing 1d arrays as data is deprecated in 0.17 and will raise ValueError in 0.19. Reshape your data either using X.reshape(-1, 1) if your data has a single feature or X.reshape(1, -1) if it contains a single sample.\n",
      "  warnings.warn(DEPRECATION_MSG_1D, DeprecationWarning)\n",
      "/usr/local/lib/python2.7/site-packages/sklearn/preprocessing/data.py:356: DeprecationWarning: Passing 1d arrays as data is deprecated in 0.17 and will raise ValueError in 0.19. Reshape your data either using X.reshape(-1, 1) if your data has a single feature or X.reshape(1, -1) if it contains a single sample.\n",
      "  warnings.warn(DEPRECATION_MSG_1D, DeprecationWarning)\n"
     ]
    }
   ],
   "source": [
    "# Train AdaBoostClassifier model on top 5 feature found using our RandomForestClassifier \n",
    "trained_bdt_model = train_bdt_model(data_train, rfc_features_top5, 'diagnosis')"
   ]
  },
  {
   "cell_type": "code",
   "execution_count": 268,
   "metadata": {},
   "outputs": [
    {
     "name": "stdout",
     "output_type": "stream",
     "text": [
      "F1 score: 0.854\n",
      "Accuracy: 87.719%\n"
     ]
    },
    {
     "name": "stderr",
     "output_type": "stream",
     "text": [
      "/usr/local/lib/python2.7/site-packages/sklearn/preprocessing/data.py:321: DeprecationWarning: Passing 1d arrays as data is deprecated in 0.17 and will raise ValueError in 0.19. Reshape your data either using X.reshape(-1, 1) if your data has a single feature or X.reshape(1, -1) if it contains a single sample.\n",
      "  warnings.warn(DEPRECATION_MSG_1D, DeprecationWarning)\n",
      "/usr/local/lib/python2.7/site-packages/sklearn/preprocessing/data.py:356: DeprecationWarning: Passing 1d arrays as data is deprecated in 0.17 and will raise ValueError in 0.19. Reshape your data either using X.reshape(-1, 1) if your data has a single feature or X.reshape(1, -1) if it contains a single sample.\n",
      "  warnings.warn(DEPRECATION_MSG_1D, DeprecationWarning)\n"
     ]
    }
   ],
   "source": [
    "test_svc_model(trained_bdt_model, data_test, rfc_features_top5, 'diagnosis')"
   ]
  },
  {
   "cell_type": "code",
   "execution_count": 269,
   "metadata": {},
   "outputs": [
    {
     "name": "stdout",
     "output_type": "stream",
     "text": [
      "[fold 0], score: 0.92105\n",
      "[fold 1], score: 0.94737\n",
      "[fold 2], score: 0.94702\n",
      "Training accuracy: 100.000%\n"
     ]
    },
    {
     "name": "stderr",
     "output_type": "stream",
     "text": [
      "/usr/local/lib/python2.7/site-packages/sklearn/preprocessing/data.py:321: DeprecationWarning: Passing 1d arrays as data is deprecated in 0.17 and will raise ValueError in 0.19. Reshape your data either using X.reshape(-1, 1) if your data has a single feature or X.reshape(1, -1) if it contains a single sample.\n",
      "  warnings.warn(DEPRECATION_MSG_1D, DeprecationWarning)\n",
      "/usr/local/lib/python2.7/site-packages/sklearn/preprocessing/data.py:356: DeprecationWarning: Passing 1d arrays as data is deprecated in 0.17 and will raise ValueError in 0.19. Reshape your data either using X.reshape(-1, 1) if your data has a single feature or X.reshape(1, -1) if it contains a single sample.\n",
      "  warnings.warn(DEPRECATION_MSG_1D, DeprecationWarning)\n"
     ]
    }
   ],
   "source": [
    "# Train AdaBoostClassifier model on top 10 feature found using our RandomForestClassifier\n",
    "trained_bdt_model = train_bdt_model(data_train, rfc_features_top10, 'diagnosis')"
   ]
  },
  {
   "cell_type": "code",
   "execution_count": 270,
   "metadata": {},
   "outputs": [
    {
     "name": "stdout",
     "output_type": "stream",
     "text": [
      "F1 score: 0.897\n",
      "Accuracy: 92.105%\n"
     ]
    },
    {
     "name": "stderr",
     "output_type": "stream",
     "text": [
      "/usr/local/lib/python2.7/site-packages/sklearn/preprocessing/data.py:321: DeprecationWarning: Passing 1d arrays as data is deprecated in 0.17 and will raise ValueError in 0.19. Reshape your data either using X.reshape(-1, 1) if your data has a single feature or X.reshape(1, -1) if it contains a single sample.\n",
      "  warnings.warn(DEPRECATION_MSG_1D, DeprecationWarning)\n",
      "/usr/local/lib/python2.7/site-packages/sklearn/preprocessing/data.py:356: DeprecationWarning: Passing 1d arrays as data is deprecated in 0.17 and will raise ValueError in 0.19. Reshape your data either using X.reshape(-1, 1) if your data has a single feature or X.reshape(1, -1) if it contains a single sample.\n",
      "  warnings.warn(DEPRECATION_MSG_1D, DeprecationWarning)\n"
     ]
    }
   ],
   "source": [
    "test_svc_model(trained_bdt_model, data_test, rfc_features_top10, 'diagnosis')"
   ]
  },
  {
   "cell_type": "code",
   "execution_count": 445,
   "metadata": {},
   "outputs": [
    {
     "name": "stdout",
     "output_type": "stream",
     "text": [
      "[50, 100, 150, 200, 250, 300, 350, 400, 450]\n",
      "[  1.00000000e-09   1.00000000e-08   1.00000000e-07   1.00000000e-06\n",
      "   1.00000000e-05   1.00000000e-04   1.00000000e-03   1.00000000e-02\n",
      "   1.00000000e-01   1.00000000e+00   1.00000000e+01]\n"
     ]
    },
    {
     "name": "stderr",
     "output_type": "stream",
     "text": [
      "/usr/local/lib/python2.7/site-packages/sklearn/preprocessing/data.py:321: DeprecationWarning: Passing 1d arrays as data is deprecated in 0.17 and will raise ValueError in 0.19. Reshape your data either using X.reshape(-1, 1) if your data has a single feature or X.reshape(1, -1) if it contains a single sample.\n",
      "  warnings.warn(DEPRECATION_MSG_1D, DeprecationWarning)\n",
      "/usr/local/lib/python2.7/site-packages/sklearn/preprocessing/data.py:356: DeprecationWarning: Passing 1d arrays as data is deprecated in 0.17 and will raise ValueError in 0.19. Reshape your data either using X.reshape(-1, 1) if your data has a single feature or X.reshape(1, -1) if it contains a single sample.\n",
      "  warnings.warn(DEPRECATION_MSG_1D, DeprecationWarning)\n"
     ]
    },
    {
     "name": "stdout",
     "output_type": "stream",
     "text": [
      "0.931868131868\n",
      "{'n_estimators': 400, 'learning_rate': 1e-08, 'algorithm': 'SAMME'}\n"
     ]
    }
   ],
   "source": [
    "# Grid search for best parameters to use for AdaBoostClassifier using top 10 features found using our RandomForestClassifier\n",
    "n_est_range = range(50, 500, 50)\n",
    "learn_rate_range = np.logspace(-9, 1, 11)\n",
    "print n_est_range\n",
    "print learn_rate_range\n",
    "\n",
    "parameters = {'n_estimators':n_est_range, 'learning_rate':learn_rate_range, 'algorithm':('SAMME', 'SAMME.R')}\n",
    "abc = AdaBoostClassifier(DecisionTreeClassifier())\n",
    "gscv = GridSearchCV(abc, parameters)\n",
    "\n",
    "X = data_train[rfc_features_top10]\n",
    "y = data_train['diagnosis']\n",
    "X = scale_data(X)\n",
    "y = scale_data(y)\n",
    "\n",
    "gscv.fit(X, y)\n",
    "print gscv.best_score_\n",
    "print gscv.best_params_"
   ]
  },
  {
   "cell_type": "code",
   "execution_count": 446,
   "metadata": {},
   "outputs": [
    {
     "name": "stdout",
     "output_type": "stream",
     "text": [
      "[fold 0], score: 0.91447\n",
      "[fold 1], score: 0.90132\n",
      "[fold 2], score: 0.92053\n",
      "Training accuracy: 100.000%\n"
     ]
    },
    {
     "name": "stderr",
     "output_type": "stream",
     "text": [
      "/usr/local/lib/python2.7/site-packages/sklearn/preprocessing/data.py:321: DeprecationWarning: Passing 1d arrays as data is deprecated in 0.17 and will raise ValueError in 0.19. Reshape your data either using X.reshape(-1, 1) if your data has a single feature or X.reshape(1, -1) if it contains a single sample.\n",
      "  warnings.warn(DEPRECATION_MSG_1D, DeprecationWarning)\n",
      "/usr/local/lib/python2.7/site-packages/sklearn/preprocessing/data.py:356: DeprecationWarning: Passing 1d arrays as data is deprecated in 0.17 and will raise ValueError in 0.19. Reshape your data either using X.reshape(-1, 1) if your data has a single feature or X.reshape(1, -1) if it contains a single sample.\n",
      "  warnings.warn(DEPRECATION_MSG_1D, DeprecationWarning)\n"
     ]
    }
   ],
   "source": [
    "# Train AdaBoostClassifier model using parameters found from grid search\n",
    "trained_bdt_model = train_bdt_model(data_train, rfc_features_top10, 'diagnosis', n_est=400, learn_rate=1e-08, alg='SAMME')"
   ]
  },
  {
   "cell_type": "code",
   "execution_count": 447,
   "metadata": {},
   "outputs": [
    {
     "name": "stdout",
     "output_type": "stream",
     "text": [
      "F1 score: 0.892\n",
      "Accuracy: 92.105%\n"
     ]
    },
    {
     "name": "stderr",
     "output_type": "stream",
     "text": [
      "/usr/local/lib/python2.7/site-packages/sklearn/preprocessing/data.py:321: DeprecationWarning: Passing 1d arrays as data is deprecated in 0.17 and will raise ValueError in 0.19. Reshape your data either using X.reshape(-1, 1) if your data has a single feature or X.reshape(1, -1) if it contains a single sample.\n",
      "  warnings.warn(DEPRECATION_MSG_1D, DeprecationWarning)\n",
      "/usr/local/lib/python2.7/site-packages/sklearn/preprocessing/data.py:356: DeprecationWarning: Passing 1d arrays as data is deprecated in 0.17 and will raise ValueError in 0.19. Reshape your data either using X.reshape(-1, 1) if your data has a single feature or X.reshape(1, -1) if it contains a single sample.\n",
      "  warnings.warn(DEPRECATION_MSG_1D, DeprecationWarning)\n"
     ]
    }
   ],
   "source": [
    "test_svc_model(trained_bdt_model, data_test, rfc_features_top10, 'diagnosis')"
   ]
  },
  {
   "cell_type": "code",
   "execution_count": null,
   "metadata": {
    "collapsed": true
   },
   "outputs": [],
   "source": []
  }
 ],
 "metadata": {
  "kernelspec": {
   "display_name": "Python 2",
   "language": "python",
   "name": "python2"
  },
  "language_info": {
   "codemirror_mode": {
    "name": "ipython",
    "version": 2
   },
   "file_extension": ".py",
   "mimetype": "text/x-python",
   "name": "python",
   "nbconvert_exporter": "python",
   "pygments_lexer": "ipython2",
   "version": "2.7.12"
  }
 },
 "nbformat": 4,
 "nbformat_minor": 2
}
